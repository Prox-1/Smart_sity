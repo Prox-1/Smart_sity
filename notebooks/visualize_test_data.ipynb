{
 "cells": [
  {
   "cell_type": "markdown",
   "id": "17908c97",
   "metadata": {},
   "source": [
    "# Визуализация и сравнение метрик SUMO: без агента vs с агентом\n",
    "\n",
    "Этот ноутбук:\n",
    "\n",
    "- Загружает сетевые и TLS-метрики из двух сценариев (без агента, с агентом)\n",
    "\n",
    "- Визуализирует временные ряды и строит сводные сравнения\n",
    "\n",
    "- Даёт интерактивный просмотр метрик по конкретному светофору"
   ]
  },
  {
   "cell_type": "markdown",
   "id": "e0af7829",
   "metadata": {
    "vscode": {
     "languageId": "plaintext"
    }
   },
   "source": [
    "# Импорты"
   ]
  },
  {
   "cell_type": "code",
   "execution_count": null,
   "id": "678a96f8",
   "metadata": {},
   "outputs": [],
   "source": [
    "from pathlib import Path\n",
    "import numpy as np\n",
    "import pandas as pd\n",
    "import plotly.express as px\n",
    "\n",
    "try:\n",
    "    import ipywidgets as widgets\n",
    "    from IPython.display import display\n",
    "    HAS_WIDGETS = True\n",
    "except Exception:\n",
    "    HAS_WIDGETS = False\n",
    "\n",
    "pd.options.display.width = 140\n",
    "pd.options.display.max_columns = 50"
   ]
  },
  {
   "cell_type": "markdown",
   "id": "e10a5ab9",
   "metadata": {},
   "source": [
    "# Пути"
   ]
  },
  {
   "cell_type": "code",
   "execution_count": null,
   "id": "be1966a4",
   "metadata": {},
   "outputs": [
    {
     "name": "stdout",
     "output_type": "stream",
     "text": [
      "[without_agent] network: True -> c:\\Users\\kurga\\workspace\\sity_sim\\metrics\\without_agents\\network_metrics.csv\n",
      "[without_agent] tls:     True -> c:\\Users\\kurga\\workspace\\sity_sim\\metrics\\without_agents\\tls_metrics.csv\n",
      "[with_agent] network: True -> c:\\Users\\kurga\\workspace\\sity_sim\\metrics\\total_reward_lr01_df099_epd0999_every10s\\network_metrics.csv\n",
      "[with_agent] tls:     True -> c:\\Users\\kurga\\workspace\\sity_sim\\metrics\\total_reward_lr01_df099_epd0999_every10s\\tls_metrics.csv\n"
     ]
    }
   ],
   "source": [
    "PROJECT_ROOT = Path.cwd().parent\n",
    "\n",
    "SCENARIOS = {\n",
    "    \"without_agent\": PROJECT_ROOT / \"metrics\" / \"without_agents\",\n",
    "    \"with_agent\":    PROJECT_ROOT / \"metrics\" / \"total_reward_lr01_df099_epd0999_every10s\",\n",
    "}\n",
    "NETWORK_FILE = \"network_metrics.csv\"\n",
    "TLS_FILE = \"tls_metrics.csv\"\n",
    "\n",
    "for name, base in SCENARIOS.items():\n",
    "    net_p = base / NETWORK_FILE\n",
    "    tls_p = base / TLS_FILE\n",
    "    print(f\"[{name}] network: {net_p.exists()} -> {net_p}\")\n",
    "    print(f\"[{name}] tls:     {tls_p.exists()} -> {tls_p}\")"
   ]
  },
  {
   "cell_type": "markdown",
   "id": "7194b948",
   "metadata": {},
   "source": [
    "# Функции"
   ]
  },
  {
   "cell_type": "code",
   "execution_count": null,
   "id": "54abab3f",
   "metadata": {},
   "outputs": [],
   "source": [
    "def load_network_metrics(path: Path, scenario: str) -> pd.DataFrame:\n",
    "    df = pd.read_csv(path / NETWORK_FILE)\n",
    "    need_cols = {\"step\", \"time\", \"active_vehicles\", \"mean_speed_network\", \"total_queue_len\", \"total_waiting_time_snapshot\"}\n",
    "    missing = need_cols - set(df.columns)\n",
    "    if missing:\n",
    "        raise ValueError(f\"Missing columns in {path/NETWORK_FILE}: {missing}\")\n",
    "    df = df.copy()\n",
    "    df[\"scenario\"] = scenario\n",
    "    df[\"time\"] = pd.to_numeric(df[\"time\"], errors=\"coerce\")\n",
    "    df[\"step\"] = pd.to_numeric(df[\"step\"], errors=\"coerce\").astype(\"Int64\")\n",
    "    df[\"time_rounded\"] = df[\"time\"].round().astype(int)\n",
    "    return df\n",
    "\n",
    "def load_tls_metrics(path: Path, scenario: str) -> pd.DataFrame:\n",
    "    df = pd.read_csv(path / TLS_FILE)\n",
    "    need_cols = {\"step\", \"time\", \"tls_id\", \"phase_index\", \"tls_queue_len\", \"tls_waiting_time_snapshot\", \"tls_mean_speed\"}\n",
    "    missing = need_cols - set(df.columns)\n",
    "    if missing:\n",
    "        raise ValueError(f\"Missing columns in {path/TLS_FILE}: {missing}\")\n",
    "    df = df.copy()\n",
    "    df[\"scenario\"] = scenario\n",
    "    df[\"time\"] = pd.to_numeric(df[\"time\"], errors=\"coerce\")\n",
    "    df[\"step\"] = pd.to_numeric(df[\"step\"], errors=\"coerce\").astype(\"Int64\")\n",
    "    df[\"time_rounded\"] = df[\"time\"].round().astype(int)\n",
    "    df[\"tls_id\"] = df[\"tls_id\"].astype(str)\n",
    "    return df\n",
    "\n",
    "def infer_step_interval(df: pd.DataFrame) -> float:\n",
    "    s = df.sort_values(\"time_rounded\")[\"time_rounded\"].drop_duplicates().diff().dropna()\n",
    "    if s.empty:\n",
    "        return np.nan\n",
    "    return s.mode().iloc[0] if not s.mode().empty else s.median()\n",
    "\n",
    "\n",
    "def plot_network_metric(df, metric, title, ytitle):\n",
    "    fig = px.line(\n",
    "        df.sort_values([\"scenario\", \"time_rounded\"]),\n",
    "        x=\"time_rounded\", y=metric, color=\"scenario\",\n",
    "        markers=True,\n",
    "        title=title\n",
    "    )\n",
    "    fig.update_layout(xaxis_title=\"time (s)\", yaxis_title=ytitle,\n",
    "                      legend_title=\"Scenario\", template=\"plotly_white\")\n",
    "    fig.show()\n",
    "\n",
    "\n",
    "def p95(x):\n",
    "    return np.percentile(x, 95)\n",
    "\n",
    "\n",
    "def rel_change(base_val, var_val):\n",
    "    if pd.isna(base_val) or pd.isna(var_val) or base_val == 0:\n",
    "        return np.nan\n",
    "    return (var_val - base_val) / base_val * 100.0\n",
    "\n",
    "\n",
    "def auc_trapz(y, x):\n",
    "    return np.trapz(y, x)\n",
    "\n",
    "\n",
    "def plot_tls_agg_metric(df, metric, title, ytitle):\n",
    "    fig = px.line(\n",
    "        df.sort_values([\"scenario\", \"time_rounded\"]),\n",
    "        x=\"time_rounded\", y=metric, color=\"scenario\", markers=True, title=title\n",
    "    )\n",
    "    fig.update_layout(xaxis_title=\"time (s)\", yaxis_title=ytitle,\n",
    "                      legend_title=\"Scenario\", template=\"plotly_white\")\n",
    "    fig.show()\n",
    "\n",
    "\n",
    "def plot_tls_single(tls_id: str, tls_c: pd.DataFrame):\n",
    "    df = tls_c[tls_c[\"tls_id\"] == tls_id].sort_values(\n",
    "        [\"scenario\", \"time_rounded\"])\n",
    "    title_base = f\"TLS {tls_id}\"\n",
    "    fig1 = px.line(df, x=\"time_rounded\", y=\"tls_queue_len\", color=\"scenario\",\n",
    "                   markers=True, title=title_base + \" — Queue length\")\n",
    "    fig2 = px.line(df, x=\"time_rounded\", y=\"tls_waiting_time_snapshot\",\n",
    "                   color=\"scenario\", markers=True, title=title_base + \" — Waiting time snapshot\")\n",
    "    fig3 = px.line(df, x=\"time_rounded\", y=\"tls_mean_speed\",\n",
    "                   color=\"scenario\", markers=True, title=title_base + \" — Mean speed\")\n",
    "    for fig in (fig1, fig2, fig3):\n",
    "        fig.update_layout(xaxis_title=\"time (s)\",\n",
    "                          template=\"plotly_white\", legend_title=\"Scenario\")\n",
    "        fig.show()"
   ]
  },
  {
   "cell_type": "markdown",
   "id": "b1be8c33",
   "metadata": {},
   "source": [
    "# Загрузка данных"
   ]
  },
  {
   "cell_type": "code",
   "execution_count": 4,
   "id": "2d3559ab",
   "metadata": {},
   "outputs": [
    {
     "name": "stdout",
     "output_type": "stream",
     "text": [
      "Network rows: 720 TLS rows: 15840\n",
      "Scenarios: ['without_agent', 'with_agent']\n",
      "TLS count: 22\n"
     ]
    }
   ],
   "source": [
    "dfs_net = []\n",
    "dfs_tls = []\n",
    "\n",
    "for name, base in SCENARIOS.items():\n",
    "    dfs_net.append(load_network_metrics(base, name))\n",
    "    dfs_tls.append(load_tls_metrics(base, name))\n",
    "\n",
    "net = pd.concat(dfs_net, ignore_index=True)\n",
    "tls = pd.concat(dfs_tls, ignore_index=True)\n",
    "\n",
    "print(\"Network rows:\", len(net), \"TLS rows:\", len(tls))\n",
    "print(\"Scenarios:\", net[\"scenario\"].unique().tolist())\n",
    "print(\"TLS count:\", tls[\"tls_id\"].nunique())"
   ]
  },
  {
   "cell_type": "code",
   "execution_count": null,
   "id": "d560814d",
   "metadata": {},
   "outputs": [
    {
     "name": "stdout",
     "output_type": "stream",
     "text": [
      "Common sampled times: 360 (without=360, with=360)\n",
      "Inferred sampling interval (s): 10.0\n"
     ]
    }
   ],
   "source": [
    "times_without = set(net.query(\"scenario == 'without_agent'\")[\n",
    "                    \"time_rounded\"].unique().tolist())\n",
    "times_with = set(net.query(\"scenario == 'with_agent'\")\n",
    "                 [\"time_rounded\"].unique().tolist())\n",
    "common_times = sorted(times_without & times_with)\n",
    "\n",
    "print(\n",
    "    f\"Common sampled times: {len(common_times)} (without={len(times_without)}, with={len(times_with)})\")\n",
    "\n",
    "if len(common_times) == 0:\n",
    "    raise RuntimeError(\n",
    "        \"Нет общих временных отметок между сценариями. Проверьте STEP_INTERVAL и файлы.\")\n",
    "\n",
    "net_c = net[net[\"time_rounded\"].isin(common_times)].copy()\n",
    "tls_c = tls[tls[\"time_rounded\"].isin(common_times)].copy()\n",
    "\n",
    "print(\"Inferred sampling interval (s):\", infer_step_interval(net_c))"
   ]
  },
  {
   "cell_type": "markdown",
   "id": "7968eeff",
   "metadata": {},
   "source": [
    "# Визуализации (сетевые метрики)"
   ]
  },
  {
   "cell_type": "code",
   "execution_count": 6,
   "id": "9746a7b5",
   "metadata": {},
   "outputs": [
    {
     "data": {
      "application/vnd.plotly.v1+json": {
       "config": {
        "plotlyServerURL": "https://plot.ly"
       },
       "data": [
        {
         "hovertemplate": "scenario=with_agent<br>time_rounded=%{x}<br>mean_speed_network=%{y}<extra></extra>",
         "legendgroup": "with_agent",
         "line": {
          "color": "#636efa",
          "dash": "solid"
         },
         "marker": {
          "symbol": "circle"
         },
         "mode": "lines+markers",
         "name": "with_agent",
         "orientation": "v",
         "showlegend": true,
         "type": "scatter",
         "x": {
          "bdata": "AQALABUAHwApADMAPQBHAFEAWwBlAG8AeQCDAI0AlwChAKsAtQC/AMkA0wDdAOcA8QD7AAUBDwEZASMBLQE3AUEBSwFVAV8BaQFzAX0BhwGRAZsBpQGvAbkBwwHNAdcB4QHrAfUB/wEJAhMCHQInAjECOwJFAk8CWQJjAm0CdwKBAosClQKfAqkCswK9AscC0QLbAuUC7wL5AgMDDQMXAyEDKwM1Az8DSQNTA10DZwNxA3sDhQOPA5kDowOtA7cDwQPLA9UD3wPpA/MD/QMHBBEEGwQlBC8EOQRDBE0EVwRhBGsEdQR/BIkEkwSdBKcEsQS7BMUEzwTZBOME7QT3BAEFCwUVBR8FKQUzBT0FRwVRBVsFZQVvBXkFgwWNBZcFoQWrBbUFvwXJBdMF3QXnBfEF+wUFBg8GGQYjBi0GNwZBBksGVQZfBmkGcwZ9BocGkQabBqUGrwa5BsMGzQbXBuEG6wb1Bv8GCQcTBx0HJwcxBzsHRQdPB1kHYwdtB3cHgQeLB5UHnwepB7MHvQfHB9EH2wflB+8H+QcDCA0IFwghCCsINQg/CEkIUwhdCGcIcQh7CIUIjwiZCKMIrQi3CMEIywjVCN8I6QjzCP0IBwkRCRsJJQkvCTkJQwlNCVcJYQlrCXUJfwmJCZMJnQmnCbEJuwnFCc8J2QnjCe0J9wkBCgsKFQofCikKMwo9CkcKUQpbCmUKbwp5CoMKjQqXCqEKqwq1Cr8KyQrTCt0K5wrxCvsKBQsPCxkLIwstCzcLQQtLC1ULXwtpC3MLfQuHC5ELmwulC68LuQvDC80L1wvhC+sL9Qv/CwkMEwwdDCcMMQw7DEUMTwxZDGMMbQx3DIEMiwyVDJ8MqQyzDL0MxwzRDNsM5QzvDPkMAw0NDRcNIQ0rDTUNPw1JDVMNXQ1nDXENew2FDY8NmQ2jDa0Ntw3BDcsN1Q3fDekN8w39DQcO",
          "dtype": "i2"
         },
         "xaxis": "x",
         "y": {
          "bdata": "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",
          "dtype": "f8"
         },
         "yaxis": "y"
        },
        {
         "hovertemplate": "scenario=without_agent<br>time_rounded=%{x}<br>mean_speed_network=%{y}<extra></extra>",
         "legendgroup": "without_agent",
         "line": {
          "color": "#EF553B",
          "dash": "solid"
         },
         "marker": {
          "symbol": "circle"
         },
         "mode": "lines+markers",
         "name": "without_agent",
         "orientation": "v",
         "showlegend": true,
         "type": "scatter",
         "x": {
          "bdata": "AQALABUAHwApADMAPQBHAFEAWwBlAG8AeQCDAI0AlwChAKsAtQC/AMkA0wDdAOcA8QD7AAUBDwEZASMBLQE3AUEBSwFVAV8BaQFzAX0BhwGRAZsBpQGvAbkBwwHNAdcB4QHrAfUB/wEJAhMCHQInAjECOwJFAk8CWQJjAm0CdwKBAosClQKfAqkCswK9AscC0QLbAuUC7wL5AgMDDQMXAyEDKwM1Az8DSQNTA10DZwNxA3sDhQOPA5kDowOtA7cDwQPLA9UD3wPpA/MD/QMHBBEEGwQlBC8EOQRDBE0EVwRhBGsEdQR/BIkEkwSdBKcEsQS7BMUEzwTZBOME7QT3BAEFCwUVBR8FKQUzBT0FRwVRBVsFZQVvBXkFgwWNBZcFoQWrBbUFvwXJBdMF3QXnBfEF+wUFBg8GGQYjBi0GNwZBBksGVQZfBmkGcwZ9BocGkQabBqUGrwa5BsMGzQbXBuEG6wb1Bv8GCQcTBx0HJwcxBzsHRQdPB1kHYwdtB3cHgQeLB5UHnwepB7MHvQfHB9EH2wflB+8H+QcDCA0IFwghCCsINQg/CEkIUwhdCGcIcQh7CIUIjwiZCKMIrQi3CMEIywjVCN8I6QjzCP0IBwkRCRsJJQkvCTkJQwlNCVcJYQlrCXUJfwmJCZMJnQmnCbEJuwnFCc8J2QnjCe0J9wkBCgsKFQofCikKMwo9CkcKUQpbCmUKbwp5CoMKjQqXCqEKqwq1Cr8KyQrTCt0K5wrxCvsKBQsPCxkLIwstCzcLQQtLC1ULXwtpC3MLfQuHC5ELmwulC68LuQvDC80L1wvhC+sL9Qv/CwkMEwwdDCcMMQw7DEUMTwxZDGMMbQx3DIEMiwyVDJ8MqQyzDL0MxwzRDNsM5QzvDPkMAw0NDRcNIQ0rDTUNPw1JDVMNXQ1nDXENew2FDY8NmQ2jDa0Ntw3BDcsN1Q3fDekN8w39DQcO",
          "dtype": "i2"
         },
         "xaxis": "x",
         "y": {
          "bdata": "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",
          "dtype": "f8"
         },
         "yaxis": "y"
        }
       ],
       "layout": {
        "legend": {
         "title": {
          "text": "Scenario"
         },
         "tracegroupgap": 0
        },
        "template": {
         "data": {
          "bar": [
           {
            "error_x": {
             "color": "#2a3f5f"
            },
            "error_y": {
             "color": "#2a3f5f"
            },
            "marker": {
             "line": {
              "color": "white",
              "width": 0.5
             },
             "pattern": {
              "fillmode": "overlay",
              "size": 10,
              "solidity": 0.2
             }
            },
            "type": "bar"
           }
          ],
          "barpolar": [
           {
            "marker": {
             "line": {
              "color": "white",
              "width": 0.5
             },
             "pattern": {
              "fillmode": "overlay",
              "size": 10,
              "solidity": 0.2
             }
            },
            "type": "barpolar"
           }
          ],
          "carpet": [
           {
            "aaxis": {
             "endlinecolor": "#2a3f5f",
             "gridcolor": "#C8D4E3",
             "linecolor": "#C8D4E3",
             "minorgridcolor": "#C8D4E3",
             "startlinecolor": "#2a3f5f"
            },
            "baxis": {
             "endlinecolor": "#2a3f5f",
             "gridcolor": "#C8D4E3",
             "linecolor": "#C8D4E3",
             "minorgridcolor": "#C8D4E3",
             "startlinecolor": "#2a3f5f"
            },
            "type": "carpet"
           }
          ],
          "choropleth": [
           {
            "colorbar": {
             "outlinewidth": 0,
             "ticks": ""
            },
            "type": "choropleth"
           }
          ],
          "contour": [
           {
            "colorbar": {
             "outlinewidth": 0,
             "ticks": ""
            },
            "colorscale": [
             [
              0,
              "#0d0887"
             ],
             [
              0.1111111111111111,
              "#46039f"
             ],
             [
              0.2222222222222222,
              "#7201a8"
             ],
             [
              0.3333333333333333,
              "#9c179e"
             ],
             [
              0.4444444444444444,
              "#bd3786"
             ],
             [
              0.5555555555555556,
              "#d8576b"
             ],
             [
              0.6666666666666666,
              "#ed7953"
             ],
             [
              0.7777777777777778,
              "#fb9f3a"
             ],
             [
              0.8888888888888888,
              "#fdca26"
             ],
             [
              1,
              "#f0f921"
             ]
            ],
            "type": "contour"
           }
          ],
          "contourcarpet": [
           {
            "colorbar": {
             "outlinewidth": 0,
             "ticks": ""
            },
            "type": "contourcarpet"
           }
          ],
          "heatmap": [
           {
            "colorbar": {
             "outlinewidth": 0,
             "ticks": ""
            },
            "colorscale": [
             [
              0,
              "#0d0887"
             ],
             [
              0.1111111111111111,
              "#46039f"
             ],
             [
              0.2222222222222222,
              "#7201a8"
             ],
             [
              0.3333333333333333,
              "#9c179e"
             ],
             [
              0.4444444444444444,
              "#bd3786"
             ],
             [
              0.5555555555555556,
              "#d8576b"
             ],
             [
              0.6666666666666666,
              "#ed7953"
             ],
             [
              0.7777777777777778,
              "#fb9f3a"
             ],
             [
              0.8888888888888888,
              "#fdca26"
             ],
             [
              1,
              "#f0f921"
             ]
            ],
            "type": "heatmap"
           }
          ],
          "histogram": [
           {
            "marker": {
             "pattern": {
              "fillmode": "overlay",
              "size": 10,
              "solidity": 0.2
             }
            },
            "type": "histogram"
           }
          ],
          "histogram2d": [
           {
            "colorbar": {
             "outlinewidth": 0,
             "ticks": ""
            },
            "colorscale": [
             [
              0,
              "#0d0887"
             ],
             [
              0.1111111111111111,
              "#46039f"
             ],
             [
              0.2222222222222222,
              "#7201a8"
             ],
             [
              0.3333333333333333,
              "#9c179e"
             ],
             [
              0.4444444444444444,
              "#bd3786"
             ],
             [
              0.5555555555555556,
              "#d8576b"
             ],
             [
              0.6666666666666666,
              "#ed7953"
             ],
             [
              0.7777777777777778,
              "#fb9f3a"
             ],
             [
              0.8888888888888888,
              "#fdca26"
             ],
             [
              1,
              "#f0f921"
             ]
            ],
            "type": "histogram2d"
           }
          ],
          "histogram2dcontour": [
           {
            "colorbar": {
             "outlinewidth": 0,
             "ticks": ""
            },
            "colorscale": [
             [
              0,
              "#0d0887"
             ],
             [
              0.1111111111111111,
              "#46039f"
             ],
             [
              0.2222222222222222,
              "#7201a8"
             ],
             [
              0.3333333333333333,
              "#9c179e"
             ],
             [
              0.4444444444444444,
              "#bd3786"
             ],
             [
              0.5555555555555556,
              "#d8576b"
             ],
             [
              0.6666666666666666,
              "#ed7953"
             ],
             [
              0.7777777777777778,
              "#fb9f3a"
             ],
             [
              0.8888888888888888,
              "#fdca26"
             ],
             [
              1,
              "#f0f921"
             ]
            ],
            "type": "histogram2dcontour"
           }
          ],
          "mesh3d": [
           {
            "colorbar": {
             "outlinewidth": 0,
             "ticks": ""
            },
            "type": "mesh3d"
           }
          ],
          "parcoords": [
           {
            "line": {
             "colorbar": {
              "outlinewidth": 0,
              "ticks": ""
             }
            },
            "type": "parcoords"
           }
          ],
          "pie": [
           {
            "automargin": true,
            "type": "pie"
           }
          ],
          "scatter": [
           {
            "fillpattern": {
             "fillmode": "overlay",
             "size": 10,
             "solidity": 0.2
            },
            "type": "scatter"
           }
          ],
          "scatter3d": [
           {
            "line": {
             "colorbar": {
              "outlinewidth": 0,
              "ticks": ""
             }
            },
            "marker": {
             "colorbar": {
              "outlinewidth": 0,
              "ticks": ""
             }
            },
            "type": "scatter3d"
           }
          ],
          "scattercarpet": [
           {
            "marker": {
             "colorbar": {
              "outlinewidth": 0,
              "ticks": ""
             }
            },
            "type": "scattercarpet"
           }
          ],
          "scattergeo": [
           {
            "marker": {
             "colorbar": {
              "outlinewidth": 0,
              "ticks": ""
             }
            },
            "type": "scattergeo"
           }
          ],
          "scattergl": [
           {
            "marker": {
             "colorbar": {
              "outlinewidth": 0,
              "ticks": ""
             }
            },
            "type": "scattergl"
           }
          ],
          "scattermap": [
           {
            "marker": {
             "colorbar": {
              "outlinewidth": 0,
              "ticks": ""
             }
            },
            "type": "scattermap"
           }
          ],
          "scattermapbox": [
           {
            "marker": {
             "colorbar": {
              "outlinewidth": 0,
              "ticks": ""
             }
            },
            "type": "scattermapbox"
           }
          ],
          "scatterpolar": [
           {
            "marker": {
             "colorbar": {
              "outlinewidth": 0,
              "ticks": ""
             }
            },
            "type": "scatterpolar"
           }
          ],
          "scatterpolargl": [
           {
            "marker": {
             "colorbar": {
              "outlinewidth": 0,
              "ticks": ""
             }
            },
            "type": "scatterpolargl"
           }
          ],
          "scatterternary": [
           {
            "marker": {
             "colorbar": {
              "outlinewidth": 0,
              "ticks": ""
             }
            },
            "type": "scatterternary"
           }
          ],
          "surface": [
           {
            "colorbar": {
             "outlinewidth": 0,
             "ticks": ""
            },
            "colorscale": [
             [
              0,
              "#0d0887"
             ],
             [
              0.1111111111111111,
              "#46039f"
             ],
             [
              0.2222222222222222,
              "#7201a8"
             ],
             [
              0.3333333333333333,
              "#9c179e"
             ],
             [
              0.4444444444444444,
              "#bd3786"
             ],
             [
              0.5555555555555556,
              "#d8576b"
             ],
             [
              0.6666666666666666,
              "#ed7953"
             ],
             [
              0.7777777777777778,
              "#fb9f3a"
             ],
             [
              0.8888888888888888,
              "#fdca26"
             ],
             [
              1,
              "#f0f921"
             ]
            ],
            "type": "surface"
           }
          ],
          "table": [
           {
            "cells": {
             "fill": {
              "color": "#EBF0F8"
             },
             "line": {
              "color": "white"
             }
            },
            "header": {
             "fill": {
              "color": "#C8D4E3"
             },
             "line": {
              "color": "white"
             }
            },
            "type": "table"
           }
          ]
         },
         "layout": {
          "annotationdefaults": {
           "arrowcolor": "#2a3f5f",
           "arrowhead": 0,
           "arrowwidth": 1
          },
          "autotypenumbers": "strict",
          "coloraxis": {
           "colorbar": {
            "outlinewidth": 0,
            "ticks": ""
           }
          },
          "colorscale": {
           "diverging": [
            [
             0,
             "#8e0152"
            ],
            [
             0.1,
             "#c51b7d"
            ],
            [
             0.2,
             "#de77ae"
            ],
            [
             0.3,
             "#f1b6da"
            ],
            [
             0.4,
             "#fde0ef"
            ],
            [
             0.5,
             "#f7f7f7"
            ],
            [
             0.6,
             "#e6f5d0"
            ],
            [
             0.7,
             "#b8e186"
            ],
            [
             0.8,
             "#7fbc41"
            ],
            [
             0.9,
             "#4d9221"
            ],
            [
             1,
             "#276419"
            ]
           ],
           "sequential": [
            [
             0,
             "#0d0887"
            ],
            [
             0.1111111111111111,
             "#46039f"
            ],
            [
             0.2222222222222222,
             "#7201a8"
            ],
            [
             0.3333333333333333,
             "#9c179e"
            ],
            [
             0.4444444444444444,
             "#bd3786"
            ],
            [
             0.5555555555555556,
             "#d8576b"
            ],
            [
             0.6666666666666666,
             "#ed7953"
            ],
            [
             0.7777777777777778,
             "#fb9f3a"
            ],
            [
             0.8888888888888888,
             "#fdca26"
            ],
            [
             1,
             "#f0f921"
            ]
           ],
           "sequentialminus": [
            [
             0,
             "#0d0887"
            ],
            [
             0.1111111111111111,
             "#46039f"
            ],
            [
             0.2222222222222222,
             "#7201a8"
            ],
            [
             0.3333333333333333,
             "#9c179e"
            ],
            [
             0.4444444444444444,
             "#bd3786"
            ],
            [
             0.5555555555555556,
             "#d8576b"
            ],
            [
             0.6666666666666666,
             "#ed7953"
            ],
            [
             0.7777777777777778,
             "#fb9f3a"
            ],
            [
             0.8888888888888888,
             "#fdca26"
            ],
            [
             1,
             "#f0f921"
            ]
           ]
          },
          "colorway": [
           "#636efa",
           "#EF553B",
           "#00cc96",
           "#ab63fa",
           "#FFA15A",
           "#19d3f3",
           "#FF6692",
           "#B6E880",
           "#FF97FF",
           "#FECB52"
          ],
          "font": {
           "color": "#2a3f5f"
          },
          "geo": {
           "bgcolor": "white",
           "lakecolor": "white",
           "landcolor": "white",
           "showlakes": true,
           "showland": true,
           "subunitcolor": "#C8D4E3"
          },
          "hoverlabel": {
           "align": "left"
          },
          "hovermode": "closest",
          "mapbox": {
           "style": "light"
          },
          "paper_bgcolor": "white",
          "plot_bgcolor": "white",
          "polar": {
           "angularaxis": {
            "gridcolor": "#EBF0F8",
            "linecolor": "#EBF0F8",
            "ticks": ""
           },
           "bgcolor": "white",
           "radialaxis": {
            "gridcolor": "#EBF0F8",
            "linecolor": "#EBF0F8",
            "ticks": ""
           }
          },
          "scene": {
           "xaxis": {
            "backgroundcolor": "white",
            "gridcolor": "#DFE8F3",
            "gridwidth": 2,
            "linecolor": "#EBF0F8",
            "showbackground": true,
            "ticks": "",
            "zerolinecolor": "#EBF0F8"
           },
           "yaxis": {
            "backgroundcolor": "white",
            "gridcolor": "#DFE8F3",
            "gridwidth": 2,
            "linecolor": "#EBF0F8",
            "showbackground": true,
            "ticks": "",
            "zerolinecolor": "#EBF0F8"
           },
           "zaxis": {
            "backgroundcolor": "white",
            "gridcolor": "#DFE8F3",
            "gridwidth": 2,
            "linecolor": "#EBF0F8",
            "showbackground": true,
            "ticks": "",
            "zerolinecolor": "#EBF0F8"
           }
          },
          "shapedefaults": {
           "line": {
            "color": "#2a3f5f"
           }
          },
          "ternary": {
           "aaxis": {
            "gridcolor": "#DFE8F3",
            "linecolor": "#A2B1C6",
            "ticks": ""
           },
           "baxis": {
            "gridcolor": "#DFE8F3",
            "linecolor": "#A2B1C6",
            "ticks": ""
           },
           "bgcolor": "white",
           "caxis": {
            "gridcolor": "#DFE8F3",
            "linecolor": "#A2B1C6",
            "ticks": ""
           }
          },
          "title": {
           "x": 0.05
          },
          "xaxis": {
           "automargin": true,
           "gridcolor": "#EBF0F8",
           "linecolor": "#EBF0F8",
           "ticks": "",
           "title": {
            "standoff": 15
           },
           "zerolinecolor": "#EBF0F8",
           "zerolinewidth": 2
          },
          "yaxis": {
           "automargin": true,
           "gridcolor": "#EBF0F8",
           "linecolor": "#EBF0F8",
           "ticks": "",
           "title": {
            "standoff": 15
           },
           "zerolinecolor": "#EBF0F8",
           "zerolinewidth": 2
          }
         }
        },
        "title": {
         "text": "Mean Speed (network)"
        },
        "xaxis": {
         "anchor": "y",
         "domain": [
          0,
          1
         ],
         "title": {
          "text": "time (s)"
         }
        },
        "yaxis": {
         "anchor": "x",
         "domain": [
          0,
          1
         ],
         "title": {
          "text": "m/s"
         }
        }
       }
      }
     },
     "metadata": {},
     "output_type": "display_data"
    },
    {
     "data": {
      "application/vnd.plotly.v1+json": {
       "config": {
        "plotlyServerURL": "https://plot.ly"
       },
       "data": [
        {
         "hovertemplate": "scenario=with_agent<br>time_rounded=%{x}<br>total_queue_len=%{y}<extra></extra>",
         "legendgroup": "with_agent",
         "line": {
          "color": "#636efa",
          "dash": "solid"
         },
         "marker": {
          "symbol": "circle"
         },
         "mode": "lines+markers",
         "name": "with_agent",
         "orientation": "v",
         "showlegend": true,
         "type": "scatter",
         "x": {
          "bdata": "AQALABUAHwApADMAPQBHAFEAWwBlAG8AeQCDAI0AlwChAKsAtQC/AMkA0wDdAOcA8QD7AAUBDwEZASMBLQE3AUEBSwFVAV8BaQFzAX0BhwGRAZsBpQGvAbkBwwHNAdcB4QHrAfUB/wEJAhMCHQInAjECOwJFAk8CWQJjAm0CdwKBAosClQKfAqkCswK9AscC0QLbAuUC7wL5AgMDDQMXAyEDKwM1Az8DSQNTA10DZwNxA3sDhQOPA5kDowOtA7cDwQPLA9UD3wPpA/MD/QMHBBEEGwQlBC8EOQRDBE0EVwRhBGsEdQR/BIkEkwSdBKcEsQS7BMUEzwTZBOME7QT3BAEFCwUVBR8FKQUzBT0FRwVRBVsFZQVvBXkFgwWNBZcFoQWrBbUFvwXJBdMF3QXnBfEF+wUFBg8GGQYjBi0GNwZBBksGVQZfBmkGcwZ9BocGkQabBqUGrwa5BsMGzQbXBuEG6wb1Bv8GCQcTBx0HJwcxBzsHRQdPB1kHYwdtB3cHgQeLB5UHnwepB7MHvQfHB9EH2wflB+8H+QcDCA0IFwghCCsINQg/CEkIUwhdCGcIcQh7CIUIjwiZCKMIrQi3CMEIywjVCN8I6QjzCP0IBwkRCRsJJQkvCTkJQwlNCVcJYQlrCXUJfwmJCZMJnQmnCbEJuwnFCc8J2QnjCe0J9wkBCgsKFQofCikKMwo9CkcKUQpbCmUKbwp5CoMKjQqXCqEKqwq1Cr8KyQrTCt0K5wrxCvsKBQsPCxkLIwstCzcLQQtLC1ULXwtpC3MLfQuHC5ELmwulC68LuQvDC80L1wvhC+sL9Qv/CwkMEwwdDCcMMQw7DEUMTwxZDGMMbQx3DIEMiwyVDJ8MqQyzDL0MxwzRDNsM5QzvDPkMAw0NDRcNIQ0rDTUNPw1JDVMNXQ1nDXENew2FDY8NmQ2jDa0Ntw3BDcsN1Q3fDekN8w39DQcO",
          "dtype": "i2"
         },
         "xaxis": "x",
         "y": {
          "bdata": "AgABAAEAAQAEAAcABgAFAAYACAAIAAwAFwAUABkAFgAPAA8AGwAfABkAGQAjACIAHwAhAC0AIAAhACMAIQAjAB8AHgAkACEAKQAqACcAIQAlACkALgAgACUAJgAtABwAJQApACMALwA1ADkAMgA1ADMAOgArAC8ANgA+ADQAQQBCADkASABJAEYASABLAFEASABIAE0AVABNAE4ASgA7AD4ASABNAE4AOgA/AEYARQBBAEYAMgBIADoAMQBAAD0APQBAAEsARQA/AEkAPAA/AEAANABLADgAOQBIAEAAQABJADoAQABeAEQASgBSAD8ASABJAE8AWQBUAGUAWABVAF8AUwBQAFcATQBYAGMAXwBpAE8ATQBnAHEAYgBnAGsAVQBWAFgAUQBcAFoAUgBUAFgASwBUAFIAUQBNAFEATQBVAFgAXABsAHAAWgBSAEsAVQBAAEQASQBTAFEAUwBSAFQAUQBYAFIAUgBtAF0AZwBjAFsAagBwAFsAUgBfAG0AYQBWAFwAZgBuAG4AbAB2AGgAYABiAGUAcAB2AFMAaABpAFYAaABkAFUAWgBPAFsAagBUAF4AbQBiAHMAcgBnAHQAZgBkAHAAaABjAHwAaAB4AHIAaABxAHIAewCAAGoAbwCAAGEAXgB0AHAAbwB5AH4AcQB4AGsAcwBxAG0AeABxAGUAcgBwAGQAdgB5AHkAegB2AHoAdABzAHkAeAB7AGoAeABhAGkAcwB6AG0AdgBxAHgAdgBsAHUAcwBxAF8AYwBoAG4AZgBpAHAAZgBpAHUAegCAAH4AggCBAH0AdABvAHMAgACDAHsAfABzAHUAiACDAIQAlwB5AHAAdwB6AHAAbQBsAIAAcwBxAIMAbgBwAIIAfQBxAHkAVwBuAHEAVgBnAGcAUgBSAFUASwBjAFkARgBaAEgASQBgAFcAVQBsAFQASwBVAFYAZgBlAGQA",
          "dtype": "i2"
         },
         "yaxis": "y"
        },
        {
         "hovertemplate": "scenario=without_agent<br>time_rounded=%{x}<br>total_queue_len=%{y}<extra></extra>",
         "legendgroup": "without_agent",
         "line": {
          "color": "#EF553B",
          "dash": "solid"
         },
         "marker": {
          "symbol": "circle"
         },
         "mode": "lines+markers",
         "name": "without_agent",
         "orientation": "v",
         "showlegend": true,
         "type": "scatter",
         "x": {
          "bdata": "AQALABUAHwApADMAPQBHAFEAWwBlAG8AeQCDAI0AlwChAKsAtQC/AMkA0wDdAOcA8QD7AAUBDwEZASMBLQE3AUEBSwFVAV8BaQFzAX0BhwGRAZsBpQGvAbkBwwHNAdcB4QHrAfUB/wEJAhMCHQInAjECOwJFAk8CWQJjAm0CdwKBAosClQKfAqkCswK9AscC0QLbAuUC7wL5AgMDDQMXAyEDKwM1Az8DSQNTA10DZwNxA3sDhQOPA5kDowOtA7cDwQPLA9UD3wPpA/MD/QMHBBEEGwQlBC8EOQRDBE0EVwRhBGsEdQR/BIkEkwSdBKcEsQS7BMUEzwTZBOME7QT3BAEFCwUVBR8FKQUzBT0FRwVRBVsFZQVvBXkFgwWNBZcFoQWrBbUFvwXJBdMF3QXnBfEF+wUFBg8GGQYjBi0GNwZBBksGVQZfBmkGcwZ9BocGkQabBqUGrwa5BsMGzQbXBuEG6wb1Bv8GCQcTBx0HJwcxBzsHRQdPB1kHYwdtB3cHgQeLB5UHnwepB7MHvQfHB9EH2wflB+8H+QcDCA0IFwghCCsINQg/CEkIUwhdCGcIcQh7CIUIjwiZCKMIrQi3CMEIywjVCN8I6QjzCP0IBwkRCRsJJQkvCTkJQwlNCVcJYQlrCXUJfwmJCZMJnQmnCbEJuwnFCc8J2QnjCe0J9wkBCgsKFQofCikKMwo9CkcKUQpbCmUKbwp5CoMKjQqXCqEKqwq1Cr8KyQrTCt0K5wrxCvsKBQsPCxkLIwstCzcLQQtLC1ULXwtpC3MLfQuHC5ELmwulC68LuQvDC80L1wvhC+sL9Qv/CwkMEwwdDCcMMQw7DEUMTwxZDGMMbQx3DIEMiwyVDJ8MqQyzDL0MxwzRDNsM5QzvDPkMAw0NDRcNIQ0rDTUNPw1JDVMNXQ1nDXENew2FDY8NmQ2jDa0Ntw3BDcsN1Q3fDekN8w39DQcO",
          "dtype": "i2"
         },
         "xaxis": "x",
         "y": {
          "bdata": "AgABAAEAAQAEAAcABgAFAAYABwAIAA4ADQANAA8ACgAUABMAGAAfABIAFAAaAB4AGAAVACUAHAAbACIAIAAXAB4AGQAfABkAHgAbAB0AHQArACkAKAAkACoALgAiABwAJQAwACoAMwA7AD4AMwAxADoAOwAzAD8AQABAAD4ARgBDAEgASABBAEIASABGAEMAPwA9AEcARgA1AEIAPwBHAEUAQABKAEEAPgBHAEkAQQA0AEwAQQA1AEMASwBHAE0ASgBVAEoAPABBAEUAMwBAAEwASABGAEQATgBUAFEASwBPAEwARwBOAFAAUgBLAFMAVgBXAEoAYgBdAF8AZQBrAGEAXABlAFwAXABjAFwAXABZAGkAVQBpAGcAYgBpAG4AZABnAGkAbABvAGUAXQBmAGUAXgBxAGcAcgBmAFoAZABmAFwAVQBkAFkAYwBpAF8AZABcAGcAagBkAGcAZABhAGgAagBvAHcAewBxAGwAeQB1AHkAfAB5AHkAagByAH8AcwBwAG0AaABgAG8AdQCNAIEAbwCFAHIAbgCDAH4AcwB7AIwAgwCKAIAAhwCJAHwAlgCLAIkAkACOAJYAlQCRAKAAmwCOAIwAoACoAK8AoQCdAJwAiQCfAKsAnACgAKoAqwClAKwAsQC0AKYAtQC6AMYAxwDKALMAtwCxAKkAuwDDANEAzQDNANMA3QDgAOEA0wDPAM8A2ADiAOkA6wDmANkA2QDTANIA0QDMAMoA1wDbAOEA3wDcANQA2ADXANwA6AD4APIA/AAAAQ0BCQEDAQUBEQEPAR4BJAEgARoBIgEsAS8BKwEmARwBGgEaATMBGwEKAQYBJAEsAR0BJAERARUBIQEoASIBHAEgAREBFgEEAfQA9QDzAPMABwH9AAUBCgHoAOcA5QDSAO0ABgHnANkA6ADTANcA6ADYAN8AygDHAOcA5ADgAO8A8gD1APoA",
          "dtype": "i2"
         },
         "yaxis": "y"
        }
       ],
       "layout": {
        "legend": {
         "title": {
          "text": "Scenario"
         },
         "tracegroupgap": 0
        },
        "template": {
         "data": {
          "bar": [
           {
            "error_x": {
             "color": "#2a3f5f"
            },
            "error_y": {
             "color": "#2a3f5f"
            },
            "marker": {
             "line": {
              "color": "white",
              "width": 0.5
             },
             "pattern": {
              "fillmode": "overlay",
              "size": 10,
              "solidity": 0.2
             }
            },
            "type": "bar"
           }
          ],
          "barpolar": [
           {
            "marker": {
             "line": {
              "color": "white",
              "width": 0.5
             },
             "pattern": {
              "fillmode": "overlay",
              "size": 10,
              "solidity": 0.2
             }
            },
            "type": "barpolar"
           }
          ],
          "carpet": [
           {
            "aaxis": {
             "endlinecolor": "#2a3f5f",
             "gridcolor": "#C8D4E3",
             "linecolor": "#C8D4E3",
             "minorgridcolor": "#C8D4E3",
             "startlinecolor": "#2a3f5f"
            },
            "baxis": {
             "endlinecolor": "#2a3f5f",
             "gridcolor": "#C8D4E3",
             "linecolor": "#C8D4E3",
             "minorgridcolor": "#C8D4E3",
             "startlinecolor": "#2a3f5f"
            },
            "type": "carpet"
           }
          ],
          "choropleth": [
           {
            "colorbar": {
             "outlinewidth": 0,
             "ticks": ""
            },
            "type": "choropleth"
           }
          ],
          "contour": [
           {
            "colorbar": {
             "outlinewidth": 0,
             "ticks": ""
            },
            "colorscale": [
             [
              0,
              "#0d0887"
             ],
             [
              0.1111111111111111,
              "#46039f"
             ],
             [
              0.2222222222222222,
              "#7201a8"
             ],
             [
              0.3333333333333333,
              "#9c179e"
             ],
             [
              0.4444444444444444,
              "#bd3786"
             ],
             [
              0.5555555555555556,
              "#d8576b"
             ],
             [
              0.6666666666666666,
              "#ed7953"
             ],
             [
              0.7777777777777778,
              "#fb9f3a"
             ],
             [
              0.8888888888888888,
              "#fdca26"
             ],
             [
              1,
              "#f0f921"
             ]
            ],
            "type": "contour"
           }
          ],
          "contourcarpet": [
           {
            "colorbar": {
             "outlinewidth": 0,
             "ticks": ""
            },
            "type": "contourcarpet"
           }
          ],
          "heatmap": [
           {
            "colorbar": {
             "outlinewidth": 0,
             "ticks": ""
            },
            "colorscale": [
             [
              0,
              "#0d0887"
             ],
             [
              0.1111111111111111,
              "#46039f"
             ],
             [
              0.2222222222222222,
              "#7201a8"
             ],
             [
              0.3333333333333333,
              "#9c179e"
             ],
             [
              0.4444444444444444,
              "#bd3786"
             ],
             [
              0.5555555555555556,
              "#d8576b"
             ],
             [
              0.6666666666666666,
              "#ed7953"
             ],
             [
              0.7777777777777778,
              "#fb9f3a"
             ],
             [
              0.8888888888888888,
              "#fdca26"
             ],
             [
              1,
              "#f0f921"
             ]
            ],
            "type": "heatmap"
           }
          ],
          "histogram": [
           {
            "marker": {
             "pattern": {
              "fillmode": "overlay",
              "size": 10,
              "solidity": 0.2
             }
            },
            "type": "histogram"
           }
          ],
          "histogram2d": [
           {
            "colorbar": {
             "outlinewidth": 0,
             "ticks": ""
            },
            "colorscale": [
             [
              0,
              "#0d0887"
             ],
             [
              0.1111111111111111,
              "#46039f"
             ],
             [
              0.2222222222222222,
              "#7201a8"
             ],
             [
              0.3333333333333333,
              "#9c179e"
             ],
             [
              0.4444444444444444,
              "#bd3786"
             ],
             [
              0.5555555555555556,
              "#d8576b"
             ],
             [
              0.6666666666666666,
              "#ed7953"
             ],
             [
              0.7777777777777778,
              "#fb9f3a"
             ],
             [
              0.8888888888888888,
              "#fdca26"
             ],
             [
              1,
              "#f0f921"
             ]
            ],
            "type": "histogram2d"
           }
          ],
          "histogram2dcontour": [
           {
            "colorbar": {
             "outlinewidth": 0,
             "ticks": ""
            },
            "colorscale": [
             [
              0,
              "#0d0887"
             ],
             [
              0.1111111111111111,
              "#46039f"
             ],
             [
              0.2222222222222222,
              "#7201a8"
             ],
             [
              0.3333333333333333,
              "#9c179e"
             ],
             [
              0.4444444444444444,
              "#bd3786"
             ],
             [
              0.5555555555555556,
              "#d8576b"
             ],
             [
              0.6666666666666666,
              "#ed7953"
             ],
             [
              0.7777777777777778,
              "#fb9f3a"
             ],
             [
              0.8888888888888888,
              "#fdca26"
             ],
             [
              1,
              "#f0f921"
             ]
            ],
            "type": "histogram2dcontour"
           }
          ],
          "mesh3d": [
           {
            "colorbar": {
             "outlinewidth": 0,
             "ticks": ""
            },
            "type": "mesh3d"
           }
          ],
          "parcoords": [
           {
            "line": {
             "colorbar": {
              "outlinewidth": 0,
              "ticks": ""
             }
            },
            "type": "parcoords"
           }
          ],
          "pie": [
           {
            "automargin": true,
            "type": "pie"
           }
          ],
          "scatter": [
           {
            "fillpattern": {
             "fillmode": "overlay",
             "size": 10,
             "solidity": 0.2
            },
            "type": "scatter"
           }
          ],
          "scatter3d": [
           {
            "line": {
             "colorbar": {
              "outlinewidth": 0,
              "ticks": ""
             }
            },
            "marker": {
             "colorbar": {
              "outlinewidth": 0,
              "ticks": ""
             }
            },
            "type": "scatter3d"
           }
          ],
          "scattercarpet": [
           {
            "marker": {
             "colorbar": {
              "outlinewidth": 0,
              "ticks": ""
             }
            },
            "type": "scattercarpet"
           }
          ],
          "scattergeo": [
           {
            "marker": {
             "colorbar": {
              "outlinewidth": 0,
              "ticks": ""
             }
            },
            "type": "scattergeo"
           }
          ],
          "scattergl": [
           {
            "marker": {
             "colorbar": {
              "outlinewidth": 0,
              "ticks": ""
             }
            },
            "type": "scattergl"
           }
          ],
          "scattermap": [
           {
            "marker": {
             "colorbar": {
              "outlinewidth": 0,
              "ticks": ""
             }
            },
            "type": "scattermap"
           }
          ],
          "scattermapbox": [
           {
            "marker": {
             "colorbar": {
              "outlinewidth": 0,
              "ticks": ""
             }
            },
            "type": "scattermapbox"
           }
          ],
          "scatterpolar": [
           {
            "marker": {
             "colorbar": {
              "outlinewidth": 0,
              "ticks": ""
             }
            },
            "type": "scatterpolar"
           }
          ],
          "scatterpolargl": [
           {
            "marker": {
             "colorbar": {
              "outlinewidth": 0,
              "ticks": ""
             }
            },
            "type": "scatterpolargl"
           }
          ],
          "scatterternary": [
           {
            "marker": {
             "colorbar": {
              "outlinewidth": 0,
              "ticks": ""
             }
            },
            "type": "scatterternary"
           }
          ],
          "surface": [
           {
            "colorbar": {
             "outlinewidth": 0,
             "ticks": ""
            },
            "colorscale": [
             [
              0,
              "#0d0887"
             ],
             [
              0.1111111111111111,
              "#46039f"
             ],
             [
              0.2222222222222222,
              "#7201a8"
             ],
             [
              0.3333333333333333,
              "#9c179e"
             ],
             [
              0.4444444444444444,
              "#bd3786"
             ],
             [
              0.5555555555555556,
              "#d8576b"
             ],
             [
              0.6666666666666666,
              "#ed7953"
             ],
             [
              0.7777777777777778,
              "#fb9f3a"
             ],
             [
              0.8888888888888888,
              "#fdca26"
             ],
             [
              1,
              "#f0f921"
             ]
            ],
            "type": "surface"
           }
          ],
          "table": [
           {
            "cells": {
             "fill": {
              "color": "#EBF0F8"
             },
             "line": {
              "color": "white"
             }
            },
            "header": {
             "fill": {
              "color": "#C8D4E3"
             },
             "line": {
              "color": "white"
             }
            },
            "type": "table"
           }
          ]
         },
         "layout": {
          "annotationdefaults": {
           "arrowcolor": "#2a3f5f",
           "arrowhead": 0,
           "arrowwidth": 1
          },
          "autotypenumbers": "strict",
          "coloraxis": {
           "colorbar": {
            "outlinewidth": 0,
            "ticks": ""
           }
          },
          "colorscale": {
           "diverging": [
            [
             0,
             "#8e0152"
            ],
            [
             0.1,
             "#c51b7d"
            ],
            [
             0.2,
             "#de77ae"
            ],
            [
             0.3,
             "#f1b6da"
            ],
            [
             0.4,
             "#fde0ef"
            ],
            [
             0.5,
             "#f7f7f7"
            ],
            [
             0.6,
             "#e6f5d0"
            ],
            [
             0.7,
             "#b8e186"
            ],
            [
             0.8,
             "#7fbc41"
            ],
            [
             0.9,
             "#4d9221"
            ],
            [
             1,
             "#276419"
            ]
           ],
           "sequential": [
            [
             0,
             "#0d0887"
            ],
            [
             0.1111111111111111,
             "#46039f"
            ],
            [
             0.2222222222222222,
             "#7201a8"
            ],
            [
             0.3333333333333333,
             "#9c179e"
            ],
            [
             0.4444444444444444,
             "#bd3786"
            ],
            [
             0.5555555555555556,
             "#d8576b"
            ],
            [
             0.6666666666666666,
             "#ed7953"
            ],
            [
             0.7777777777777778,
             "#fb9f3a"
            ],
            [
             0.8888888888888888,
             "#fdca26"
            ],
            [
             1,
             "#f0f921"
            ]
           ],
           "sequentialminus": [
            [
             0,
             "#0d0887"
            ],
            [
             0.1111111111111111,
             "#46039f"
            ],
            [
             0.2222222222222222,
             "#7201a8"
            ],
            [
             0.3333333333333333,
             "#9c179e"
            ],
            [
             0.4444444444444444,
             "#bd3786"
            ],
            [
             0.5555555555555556,
             "#d8576b"
            ],
            [
             0.6666666666666666,
             "#ed7953"
            ],
            [
             0.7777777777777778,
             "#fb9f3a"
            ],
            [
             0.8888888888888888,
             "#fdca26"
            ],
            [
             1,
             "#f0f921"
            ]
           ]
          },
          "colorway": [
           "#636efa",
           "#EF553B",
           "#00cc96",
           "#ab63fa",
           "#FFA15A",
           "#19d3f3",
           "#FF6692",
           "#B6E880",
           "#FF97FF",
           "#FECB52"
          ],
          "font": {
           "color": "#2a3f5f"
          },
          "geo": {
           "bgcolor": "white",
           "lakecolor": "white",
           "landcolor": "white",
           "showlakes": true,
           "showland": true,
           "subunitcolor": "#C8D4E3"
          },
          "hoverlabel": {
           "align": "left"
          },
          "hovermode": "closest",
          "mapbox": {
           "style": "light"
          },
          "paper_bgcolor": "white",
          "plot_bgcolor": "white",
          "polar": {
           "angularaxis": {
            "gridcolor": "#EBF0F8",
            "linecolor": "#EBF0F8",
            "ticks": ""
           },
           "bgcolor": "white",
           "radialaxis": {
            "gridcolor": "#EBF0F8",
            "linecolor": "#EBF0F8",
            "ticks": ""
           }
          },
          "scene": {
           "xaxis": {
            "backgroundcolor": "white",
            "gridcolor": "#DFE8F3",
            "gridwidth": 2,
            "linecolor": "#EBF0F8",
            "showbackground": true,
            "ticks": "",
            "zerolinecolor": "#EBF0F8"
           },
           "yaxis": {
            "backgroundcolor": "white",
            "gridcolor": "#DFE8F3",
            "gridwidth": 2,
            "linecolor": "#EBF0F8",
            "showbackground": true,
            "ticks": "",
            "zerolinecolor": "#EBF0F8"
           },
           "zaxis": {
            "backgroundcolor": "white",
            "gridcolor": "#DFE8F3",
            "gridwidth": 2,
            "linecolor": "#EBF0F8",
            "showbackground": true,
            "ticks": "",
            "zerolinecolor": "#EBF0F8"
           }
          },
          "shapedefaults": {
           "line": {
            "color": "#2a3f5f"
           }
          },
          "ternary": {
           "aaxis": {
            "gridcolor": "#DFE8F3",
            "linecolor": "#A2B1C6",
            "ticks": ""
           },
           "baxis": {
            "gridcolor": "#DFE8F3",
            "linecolor": "#A2B1C6",
            "ticks": ""
           },
           "bgcolor": "white",
           "caxis": {
            "gridcolor": "#DFE8F3",
            "linecolor": "#A2B1C6",
            "ticks": ""
           }
          },
          "title": {
           "x": 0.05
          },
          "xaxis": {
           "automargin": true,
           "gridcolor": "#EBF0F8",
           "linecolor": "#EBF0F8",
           "ticks": "",
           "title": {
            "standoff": 15
           },
           "zerolinecolor": "#EBF0F8",
           "zerolinewidth": 2
          },
          "yaxis": {
           "automargin": true,
           "gridcolor": "#EBF0F8",
           "linecolor": "#EBF0F8",
           "ticks": "",
           "title": {
            "standoff": 15
           },
           "zerolinecolor": "#EBF0F8",
           "zerolinewidth": 2
          }
         }
        },
        "title": {
         "text": "Total Queue Length (network)"
        },
        "xaxis": {
         "anchor": "y",
         "domain": [
          0,
          1
         ],
         "title": {
          "text": "time (s)"
         }
        },
        "yaxis": {
         "anchor": "x",
         "domain": [
          0,
          1
         ],
         "title": {
          "text": "vehicles stopped"
         }
        }
       }
      }
     },
     "metadata": {},
     "output_type": "display_data"
    },
    {
     "data": {
      "application/vnd.plotly.v1+json": {
       "config": {
        "plotlyServerURL": "https://plot.ly"
       },
       "data": [
        {
         "hovertemplate": "scenario=with_agent<br>time_rounded=%{x}<br>total_waiting_time_snapshot=%{y}<extra></extra>",
         "legendgroup": "with_agent",
         "line": {
          "color": "#636efa",
          "dash": "solid"
         },
         "marker": {
          "symbol": "circle"
         },
         "mode": "lines+markers",
         "name": "with_agent",
         "orientation": "v",
         "showlegend": true,
         "type": "scatter",
         "x": {
          "bdata": "AQALABUAHwApADMAPQBHAFEAWwBlAG8AeQCDAI0AlwChAKsAtQC/AMkA0wDdAOcA8QD7AAUBDwEZASMBLQE3AUEBSwFVAV8BaQFzAX0BhwGRAZsBpQGvAbkBwwHNAdcB4QHrAfUB/wEJAhMCHQInAjECOwJFAk8CWQJjAm0CdwKBAosClQKfAqkCswK9AscC0QLbAuUC7wL5AgMDDQMXAyEDKwM1Az8DSQNTA10DZwNxA3sDhQOPA5kDowOtA7cDwQPLA9UD3wPpA/MD/QMHBBEEGwQlBC8EOQRDBE0EVwRhBGsEdQR/BIkEkwSdBKcEsQS7BMUEzwTZBOME7QT3BAEFCwUVBR8FKQUzBT0FRwVRBVsFZQVvBXkFgwWNBZcFoQWrBbUFvwXJBdMF3QXnBfEF+wUFBg8GGQYjBi0GNwZBBksGVQZfBmkGcwZ9BocGkQabBqUGrwa5BsMGzQbXBuEG6wb1Bv8GCQcTBx0HJwcxBzsHRQdPB1kHYwdtB3cHgQeLB5UHnwepB7MHvQfHB9EH2wflB+8H+QcDCA0IFwghCCsINQg/CEkIUwhdCGcIcQh7CIUIjwiZCKMIrQi3CMEIywjVCN8I6QjzCP0IBwkRCRsJJQkvCTkJQwlNCVcJYQlrCXUJfwmJCZMJnQmnCbEJuwnFCc8J2QnjCe0J9wkBCgsKFQofCikKMwo9CkcKUQpbCmUKbwp5CoMKjQqXCqEKqwq1Cr8KyQrTCt0K5wrxCvsKBQsPCxkLIwstCzcLQQtLC1ULXwtpC3MLfQuHC5ELmwulC68LuQvDC80L1wvhC+sL9Qv/CwkMEwwdDCcMMQw7DEUMTwxZDGMMbQx3DIEMiwyVDJ8MqQyzDL0MxwzRDNsM5QzvDPkMAw0NDRcNIQ0rDTUNPw1JDVMNXQ1nDXENew2FDY8NmQ2jDa0Ntw3BDcsN1Q3fDekN8w39DQcO",
          "dtype": "i2"
         },
         "xaxis": "x",
         "y": {
          "bdata": "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",
          "dtype": "f8"
         },
         "yaxis": "y"
        },
        {
         "hovertemplate": "scenario=without_agent<br>time_rounded=%{x}<br>total_waiting_time_snapshot=%{y}<extra></extra>",
         "legendgroup": "without_agent",
         "line": {
          "color": "#EF553B",
          "dash": "solid"
         },
         "marker": {
          "symbol": "circle"
         },
         "mode": "lines+markers",
         "name": "without_agent",
         "orientation": "v",
         "showlegend": true,
         "type": "scatter",
         "x": {
          "bdata": "AQALABUAHwApADMAPQBHAFEAWwBlAG8AeQCDAI0AlwChAKsAtQC/AMkA0wDdAOcA8QD7AAUBDwEZASMBLQE3AUEBSwFVAV8BaQFzAX0BhwGRAZsBpQGvAbkBwwHNAdcB4QHrAfUB/wEJAhMCHQInAjECOwJFAk8CWQJjAm0CdwKBAosClQKfAqkCswK9AscC0QLbAuUC7wL5AgMDDQMXAyEDKwM1Az8DSQNTA10DZwNxA3sDhQOPA5kDowOtA7cDwQPLA9UD3wPpA/MD/QMHBBEEGwQlBC8EOQRDBE0EVwRhBGsEdQR/BIkEkwSdBKcEsQS7BMUEzwTZBOME7QT3BAEFCwUVBR8FKQUzBT0FRwVRBVsFZQVvBXkFgwWNBZcFoQWrBbUFvwXJBdMF3QXnBfEF+wUFBg8GGQYjBi0GNwZBBksGVQZfBmkGcwZ9BocGkQabBqUGrwa5BsMGzQbXBuEG6wb1Bv8GCQcTBx0HJwcxBzsHRQdPB1kHYwdtB3cHgQeLB5UHnwepB7MHvQfHB9EH2wflB+8H+QcDCA0IFwghCCsINQg/CEkIUwhdCGcIcQh7CIUIjwiZCKMIrQi3CMEIywjVCN8I6QjzCP0IBwkRCRsJJQkvCTkJQwlNCVcJYQlrCXUJfwmJCZMJnQmnCbEJuwnFCc8J2QnjCe0J9wkBCgsKFQofCikKMwo9CkcKUQpbCmUKbwp5CoMKjQqXCqEKqwq1Cr8KyQrTCt0K5wrxCvsKBQsPCxkLIwstCzcLQQtLC1ULXwtpC3MLfQuHC5ELmwulC68LuQvDC80L1wvhC+sL9Qv/CwkMEwwdDCcMMQw7DEUMTwxZDGMMbQx3DIEMiwyVDJ8MqQyzDL0MxwzRDNsM5QzvDPkMAw0NDRcNIQ0rDTUNPw1JDVMNXQ1nDXENew2FDY8NmQ2jDa0Ntw3BDcsN1Q3fDekN8w39DQcO",
          "dtype": "i2"
         },
         "xaxis": "x",
         "y": {
          "bdata": "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",
          "dtype": "f8"
         },
         "yaxis": "y"
        }
       ],
       "layout": {
        "legend": {
         "title": {
          "text": "Scenario"
         },
         "tracegroupgap": 0
        },
        "template": {
         "data": {
          "bar": [
           {
            "error_x": {
             "color": "#2a3f5f"
            },
            "error_y": {
             "color": "#2a3f5f"
            },
            "marker": {
             "line": {
              "color": "white",
              "width": 0.5
             },
             "pattern": {
              "fillmode": "overlay",
              "size": 10,
              "solidity": 0.2
             }
            },
            "type": "bar"
           }
          ],
          "barpolar": [
           {
            "marker": {
             "line": {
              "color": "white",
              "width": 0.5
             },
             "pattern": {
              "fillmode": "overlay",
              "size": 10,
              "solidity": 0.2
             }
            },
            "type": "barpolar"
           }
          ],
          "carpet": [
           {
            "aaxis": {
             "endlinecolor": "#2a3f5f",
             "gridcolor": "#C8D4E3",
             "linecolor": "#C8D4E3",
             "minorgridcolor": "#C8D4E3",
             "startlinecolor": "#2a3f5f"
            },
            "baxis": {
             "endlinecolor": "#2a3f5f",
             "gridcolor": "#C8D4E3",
             "linecolor": "#C8D4E3",
             "minorgridcolor": "#C8D4E3",
             "startlinecolor": "#2a3f5f"
            },
            "type": "carpet"
           }
          ],
          "choropleth": [
           {
            "colorbar": {
             "outlinewidth": 0,
             "ticks": ""
            },
            "type": "choropleth"
           }
          ],
          "contour": [
           {
            "colorbar": {
             "outlinewidth": 0,
             "ticks": ""
            },
            "colorscale": [
             [
              0,
              "#0d0887"
             ],
             [
              0.1111111111111111,
              "#46039f"
             ],
             [
              0.2222222222222222,
              "#7201a8"
             ],
             [
              0.3333333333333333,
              "#9c179e"
             ],
             [
              0.4444444444444444,
              "#bd3786"
             ],
             [
              0.5555555555555556,
              "#d8576b"
             ],
             [
              0.6666666666666666,
              "#ed7953"
             ],
             [
              0.7777777777777778,
              "#fb9f3a"
             ],
             [
              0.8888888888888888,
              "#fdca26"
             ],
             [
              1,
              "#f0f921"
             ]
            ],
            "type": "contour"
           }
          ],
          "contourcarpet": [
           {
            "colorbar": {
             "outlinewidth": 0,
             "ticks": ""
            },
            "type": "contourcarpet"
           }
          ],
          "heatmap": [
           {
            "colorbar": {
             "outlinewidth": 0,
             "ticks": ""
            },
            "colorscale": [
             [
              0,
              "#0d0887"
             ],
             [
              0.1111111111111111,
              "#46039f"
             ],
             [
              0.2222222222222222,
              "#7201a8"
             ],
             [
              0.3333333333333333,
              "#9c179e"
             ],
             [
              0.4444444444444444,
              "#bd3786"
             ],
             [
              0.5555555555555556,
              "#d8576b"
             ],
             [
              0.6666666666666666,
              "#ed7953"
             ],
             [
              0.7777777777777778,
              "#fb9f3a"
             ],
             [
              0.8888888888888888,
              "#fdca26"
             ],
             [
              1,
              "#f0f921"
             ]
            ],
            "type": "heatmap"
           }
          ],
          "histogram": [
           {
            "marker": {
             "pattern": {
              "fillmode": "overlay",
              "size": 10,
              "solidity": 0.2
             }
            },
            "type": "histogram"
           }
          ],
          "histogram2d": [
           {
            "colorbar": {
             "outlinewidth": 0,
             "ticks": ""
            },
            "colorscale": [
             [
              0,
              "#0d0887"
             ],
             [
              0.1111111111111111,
              "#46039f"
             ],
             [
              0.2222222222222222,
              "#7201a8"
             ],
             [
              0.3333333333333333,
              "#9c179e"
             ],
             [
              0.4444444444444444,
              "#bd3786"
             ],
             [
              0.5555555555555556,
              "#d8576b"
             ],
             [
              0.6666666666666666,
              "#ed7953"
             ],
             [
              0.7777777777777778,
              "#fb9f3a"
             ],
             [
              0.8888888888888888,
              "#fdca26"
             ],
             [
              1,
              "#f0f921"
             ]
            ],
            "type": "histogram2d"
           }
          ],
          "histogram2dcontour": [
           {
            "colorbar": {
             "outlinewidth": 0,
             "ticks": ""
            },
            "colorscale": [
             [
              0,
              "#0d0887"
             ],
             [
              0.1111111111111111,
              "#46039f"
             ],
             [
              0.2222222222222222,
              "#7201a8"
             ],
             [
              0.3333333333333333,
              "#9c179e"
             ],
             [
              0.4444444444444444,
              "#bd3786"
             ],
             [
              0.5555555555555556,
              "#d8576b"
             ],
             [
              0.6666666666666666,
              "#ed7953"
             ],
             [
              0.7777777777777778,
              "#fb9f3a"
             ],
             [
              0.8888888888888888,
              "#fdca26"
             ],
             [
              1,
              "#f0f921"
             ]
            ],
            "type": "histogram2dcontour"
           }
          ],
          "mesh3d": [
           {
            "colorbar": {
             "outlinewidth": 0,
             "ticks": ""
            },
            "type": "mesh3d"
           }
          ],
          "parcoords": [
           {
            "line": {
             "colorbar": {
              "outlinewidth": 0,
              "ticks": ""
             }
            },
            "type": "parcoords"
           }
          ],
          "pie": [
           {
            "automargin": true,
            "type": "pie"
           }
          ],
          "scatter": [
           {
            "fillpattern": {
             "fillmode": "overlay",
             "size": 10,
             "solidity": 0.2
            },
            "type": "scatter"
           }
          ],
          "scatter3d": [
           {
            "line": {
             "colorbar": {
              "outlinewidth": 0,
              "ticks": ""
             }
            },
            "marker": {
             "colorbar": {
              "outlinewidth": 0,
              "ticks": ""
             }
            },
            "type": "scatter3d"
           }
          ],
          "scattercarpet": [
           {
            "marker": {
             "colorbar": {
              "outlinewidth": 0,
              "ticks": ""
             }
            },
            "type": "scattercarpet"
           }
          ],
          "scattergeo": [
           {
            "marker": {
             "colorbar": {
              "outlinewidth": 0,
              "ticks": ""
             }
            },
            "type": "scattergeo"
           }
          ],
          "scattergl": [
           {
            "marker": {
             "colorbar": {
              "outlinewidth": 0,
              "ticks": ""
             }
            },
            "type": "scattergl"
           }
          ],
          "scattermap": [
           {
            "marker": {
             "colorbar": {
              "outlinewidth": 0,
              "ticks": ""
             }
            },
            "type": "scattermap"
           }
          ],
          "scattermapbox": [
           {
            "marker": {
             "colorbar": {
              "outlinewidth": 0,
              "ticks": ""
             }
            },
            "type": "scattermapbox"
           }
          ],
          "scatterpolar": [
           {
            "marker": {
             "colorbar": {
              "outlinewidth": 0,
              "ticks": ""
             }
            },
            "type": "scatterpolar"
           }
          ],
          "scatterpolargl": [
           {
            "marker": {
             "colorbar": {
              "outlinewidth": 0,
              "ticks": ""
             }
            },
            "type": "scatterpolargl"
           }
          ],
          "scatterternary": [
           {
            "marker": {
             "colorbar": {
              "outlinewidth": 0,
              "ticks": ""
             }
            },
            "type": "scatterternary"
           }
          ],
          "surface": [
           {
            "colorbar": {
             "outlinewidth": 0,
             "ticks": ""
            },
            "colorscale": [
             [
              0,
              "#0d0887"
             ],
             [
              0.1111111111111111,
              "#46039f"
             ],
             [
              0.2222222222222222,
              "#7201a8"
             ],
             [
              0.3333333333333333,
              "#9c179e"
             ],
             [
              0.4444444444444444,
              "#bd3786"
             ],
             [
              0.5555555555555556,
              "#d8576b"
             ],
             [
              0.6666666666666666,
              "#ed7953"
             ],
             [
              0.7777777777777778,
              "#fb9f3a"
             ],
             [
              0.8888888888888888,
              "#fdca26"
             ],
             [
              1,
              "#f0f921"
             ]
            ],
            "type": "surface"
           }
          ],
          "table": [
           {
            "cells": {
             "fill": {
              "color": "#EBF0F8"
             },
             "line": {
              "color": "white"
             }
            },
            "header": {
             "fill": {
              "color": "#C8D4E3"
             },
             "line": {
              "color": "white"
             }
            },
            "type": "table"
           }
          ]
         },
         "layout": {
          "annotationdefaults": {
           "arrowcolor": "#2a3f5f",
           "arrowhead": 0,
           "arrowwidth": 1
          },
          "autotypenumbers": "strict",
          "coloraxis": {
           "colorbar": {
            "outlinewidth": 0,
            "ticks": ""
           }
          },
          "colorscale": {
           "diverging": [
            [
             0,
             "#8e0152"
            ],
            [
             0.1,
             "#c51b7d"
            ],
            [
             0.2,
             "#de77ae"
            ],
            [
             0.3,
             "#f1b6da"
            ],
            [
             0.4,
             "#fde0ef"
            ],
            [
             0.5,
             "#f7f7f7"
            ],
            [
             0.6,
             "#e6f5d0"
            ],
            [
             0.7,
             "#b8e186"
            ],
            [
             0.8,
             "#7fbc41"
            ],
            [
             0.9,
             "#4d9221"
            ],
            [
             1,
             "#276419"
            ]
           ],
           "sequential": [
            [
             0,
             "#0d0887"
            ],
            [
             0.1111111111111111,
             "#46039f"
            ],
            [
             0.2222222222222222,
             "#7201a8"
            ],
            [
             0.3333333333333333,
             "#9c179e"
            ],
            [
             0.4444444444444444,
             "#bd3786"
            ],
            [
             0.5555555555555556,
             "#d8576b"
            ],
            [
             0.6666666666666666,
             "#ed7953"
            ],
            [
             0.7777777777777778,
             "#fb9f3a"
            ],
            [
             0.8888888888888888,
             "#fdca26"
            ],
            [
             1,
             "#f0f921"
            ]
           ],
           "sequentialminus": [
            [
             0,
             "#0d0887"
            ],
            [
             0.1111111111111111,
             "#46039f"
            ],
            [
             0.2222222222222222,
             "#7201a8"
            ],
            [
             0.3333333333333333,
             "#9c179e"
            ],
            [
             0.4444444444444444,
             "#bd3786"
            ],
            [
             0.5555555555555556,
             "#d8576b"
            ],
            [
             0.6666666666666666,
             "#ed7953"
            ],
            [
             0.7777777777777778,
             "#fb9f3a"
            ],
            [
             0.8888888888888888,
             "#fdca26"
            ],
            [
             1,
             "#f0f921"
            ]
           ]
          },
          "colorway": [
           "#636efa",
           "#EF553B",
           "#00cc96",
           "#ab63fa",
           "#FFA15A",
           "#19d3f3",
           "#FF6692",
           "#B6E880",
           "#FF97FF",
           "#FECB52"
          ],
          "font": {
           "color": "#2a3f5f"
          },
          "geo": {
           "bgcolor": "white",
           "lakecolor": "white",
           "landcolor": "white",
           "showlakes": true,
           "showland": true,
           "subunitcolor": "#C8D4E3"
          },
          "hoverlabel": {
           "align": "left"
          },
          "hovermode": "closest",
          "mapbox": {
           "style": "light"
          },
          "paper_bgcolor": "white",
          "plot_bgcolor": "white",
          "polar": {
           "angularaxis": {
            "gridcolor": "#EBF0F8",
            "linecolor": "#EBF0F8",
            "ticks": ""
           },
           "bgcolor": "white",
           "radialaxis": {
            "gridcolor": "#EBF0F8",
            "linecolor": "#EBF0F8",
            "ticks": ""
           }
          },
          "scene": {
           "xaxis": {
            "backgroundcolor": "white",
            "gridcolor": "#DFE8F3",
            "gridwidth": 2,
            "linecolor": "#EBF0F8",
            "showbackground": true,
            "ticks": "",
            "zerolinecolor": "#EBF0F8"
           },
           "yaxis": {
            "backgroundcolor": "white",
            "gridcolor": "#DFE8F3",
            "gridwidth": 2,
            "linecolor": "#EBF0F8",
            "showbackground": true,
            "ticks": "",
            "zerolinecolor": "#EBF0F8"
           },
           "zaxis": {
            "backgroundcolor": "white",
            "gridcolor": "#DFE8F3",
            "gridwidth": 2,
            "linecolor": "#EBF0F8",
            "showbackground": true,
            "ticks": "",
            "zerolinecolor": "#EBF0F8"
           }
          },
          "shapedefaults": {
           "line": {
            "color": "#2a3f5f"
           }
          },
          "ternary": {
           "aaxis": {
            "gridcolor": "#DFE8F3",
            "linecolor": "#A2B1C6",
            "ticks": ""
           },
           "baxis": {
            "gridcolor": "#DFE8F3",
            "linecolor": "#A2B1C6",
            "ticks": ""
           },
           "bgcolor": "white",
           "caxis": {
            "gridcolor": "#DFE8F3",
            "linecolor": "#A2B1C6",
            "ticks": ""
           }
          },
          "title": {
           "x": 0.05
          },
          "xaxis": {
           "automargin": true,
           "gridcolor": "#EBF0F8",
           "linecolor": "#EBF0F8",
           "ticks": "",
           "title": {
            "standoff": 15
           },
           "zerolinecolor": "#EBF0F8",
           "zerolinewidth": 2
          },
          "yaxis": {
           "automargin": true,
           "gridcolor": "#EBF0F8",
           "linecolor": "#EBF0F8",
           "ticks": "",
           "title": {
            "standoff": 15
           },
           "zerolinecolor": "#EBF0F8",
           "zerolinewidth": 2
          }
         }
        },
        "title": {
         "text": "Total Waiting Time Snapshot (network)"
        },
        "xaxis": {
         "anchor": "y",
         "domain": [
          0,
          1
         ],
         "title": {
          "text": "time (s)"
         }
        },
        "yaxis": {
         "anchor": "x",
         "domain": [
          0,
          1
         ],
         "title": {
          "text": "seconds"
         }
        }
       }
      }
     },
     "metadata": {},
     "output_type": "display_data"
    },
    {
     "data": {
      "application/vnd.plotly.v1+json": {
       "config": {
        "plotlyServerURL": "https://plot.ly"
       },
       "data": [
        {
         "hovertemplate": "scenario=with_agent<br>time_rounded=%{x}<br>active_vehicles=%{y}<extra></extra>",
         "legendgroup": "with_agent",
         "line": {
          "color": "#636efa",
          "dash": "solid"
         },
         "marker": {
          "symbol": "circle"
         },
         "mode": "lines+markers",
         "name": "with_agent",
         "orientation": "v",
         "showlegend": true,
         "type": "scatter",
         "x": {
          "bdata": "AQALABUAHwApADMAPQBHAFEAWwBlAG8AeQCDAI0AlwChAKsAtQC/AMkA0wDdAOcA8QD7AAUBDwEZASMBLQE3AUEBSwFVAV8BaQFzAX0BhwGRAZsBpQGvAbkBwwHNAdcB4QHrAfUB/wEJAhMCHQInAjECOwJFAk8CWQJjAm0CdwKBAosClQKfAqkCswK9AscC0QLbAuUC7wL5AgMDDQMXAyEDKwM1Az8DSQNTA10DZwNxA3sDhQOPA5kDowOtA7cDwQPLA9UD3wPpA/MD/QMHBBEEGwQlBC8EOQRDBE0EVwRhBGsEdQR/BIkEkwSdBKcEsQS7BMUEzwTZBOME7QT3BAEFCwUVBR8FKQUzBT0FRwVRBVsFZQVvBXkFgwWNBZcFoQWrBbUFvwXJBdMF3QXnBfEF+wUFBg8GGQYjBi0GNwZBBksGVQZfBmkGcwZ9BocGkQabBqUGrwa5BsMGzQbXBuEG6wb1Bv8GCQcTBx0HJwcxBzsHRQdPB1kHYwdtB3cHgQeLB5UHnwepB7MHvQfHB9EH2wflB+8H+QcDCA0IFwghCCsINQg/CEkIUwhdCGcIcQh7CIUIjwiZCKMIrQi3CMEIywjVCN8I6QjzCP0IBwkRCRsJJQkvCTkJQwlNCVcJYQlrCXUJfwmJCZMJnQmnCbEJuwnFCc8J2QnjCe0J9wkBCgsKFQofCikKMwo9CkcKUQpbCmUKbwp5CoMKjQqXCqEKqwq1Cr8KyQrTCt0K5wrxCvsKBQsPCxkLIwstCzcLQQtLC1ULXwtpC3MLfQuHC5ELmwulC68LuQvDC80L1wvhC+sL9Qv/CwkMEwwdDCcMMQw7DEUMTwxZDGMMbQx3DIEMiwyVDJ8MqQyzDL0MxwzRDNsM5QzvDPkMAw0NDRcNIQ0rDTUNPw1JDVMNXQ1nDXENew2FDY8NmQ2jDa0Ntw3BDcsN1Q3fDekN8w39DQcO",
          "dtype": "i2"
         },
         "xaxis": "x",
         "y": {
          "bdata": "AgAIABIAGAAfACUALQAzADoAPwBHAE0AVABZAGIAaABtAG8AdgB+AIQAiACNAJAAlACXAJ0AnwCaAJ8AngCiAKEApACfAKIAoQCmAKEApQCnAKYApwCmAKgAqACjAKUAqwCvAK8AsQCsAK4ArQCsAKoArACrAKwAsACyALwAvgC/AMMAyADLAMgAyADMAM0A0ADRANgA2QDXANkA3ADhAOIA3wDeAN4A3wDeAN8A3ADcANIA0wDVANEA1QDUANcA2gDeAN0A4QDiAOIA4wDoAOEA4wDgAN8A3ADXANYA1ADVANUA2wDbANcA3ADdAOAA4ADiAOoA6QDkAOMA5gDnAOUA5wDkAOYA5gDpAO0A7gDwAPIA8wDyAPQA8QDvAPMA9QD1APYA9gDzAPUA9ADxAPAA9AD4APcA9AD6APoA+gD6APoA/QD8AAQBAQH9AP0A+QD1APMA9ADtAOoA4gDjAOQA5ADnAOsA6gDqAPIA7gDwAO8A8ADyAPQA8gD1APkA/AD+AAMBBQEEAQAB/gAAAQAB/gABAQABAAH6APoA+wD7APoA9gD1APcA+gD7AP0A+gD8AP8ABQH8AP8A/AD/AP4A/wD/AAQBBAEHAQsBCAEIAQYBBwEBAQEBBQECAQQBBAEFAQoBCgEJAQoBCgEOAQ8BCwENARABDgEJAQ4BDQEPAQ4BDQENAQwBDAELAQsBCAEFAQgBBQEFAQYBBwEIAQcBBgEEAQQBAwEEAQUBDQEOAQ8BEQEUARQBEgENAQwBCgENAQ4BDwEIAQIBAgEGAQgBCQEPARMBEgEQARcBGgEbARkBHQEcARQBEQEXARUBFQEUARwBHAEcASIBIAEhASUBJwEiASEBJAEmAScBJQErASoBKQEoASQBJgEiASEBIgEaARcBGQEaARcBEwESAQ0BCgEFAQUBAwEIAQABAgECAQQBBgEEAQQBCQELAQwB",
          "dtype": "i2"
         },
         "yaxis": "y"
        },
        {
         "hovertemplate": "scenario=without_agent<br>time_rounded=%{x}<br>active_vehicles=%{y}<extra></extra>",
         "legendgroup": "without_agent",
         "line": {
          "color": "#EF553B",
          "dash": "solid"
         },
         "marker": {
          "symbol": "circle"
         },
         "mode": "lines+markers",
         "name": "without_agent",
         "orientation": "v",
         "showlegend": true,
         "type": "scatter",
         "x": {
          "bdata": "AQALABUAHwApADMAPQBHAFEAWwBlAG8AeQCDAI0AlwChAKsAtQC/AMkA0wDdAOcA8QD7AAUBDwEZASMBLQE3AUEBSwFVAV8BaQFzAX0BhwGRAZsBpQGvAbkBwwHNAdcB4QHrAfUB/wEJAhMCHQInAjECOwJFAk8CWQJjAm0CdwKBAosClQKfAqkCswK9AscC0QLbAuUC7wL5AgMDDQMXAyEDKwM1Az8DSQNTA10DZwNxA3sDhQOPA5kDowOtA7cDwQPLA9UD3wPpA/MD/QMHBBEEGwQlBC8EOQRDBE0EVwRhBGsEdQR/BIkEkwSdBKcEsQS7BMUEzwTZBOME7QT3BAEFCwUVBR8FKQUzBT0FRwVRBVsFZQVvBXkFgwWNBZcFoQWrBbUFvwXJBdMF3QXnBfEF+wUFBg8GGQYjBi0GNwZBBksGVQZfBmkGcwZ9BocGkQabBqUGrwa5BsMGzQbXBuEG6wb1Bv8GCQcTBx0HJwcxBzsHRQdPB1kHYwdtB3cHgQeLB5UHnwepB7MHvQfHB9EH2wflB+8H+QcDCA0IFwghCCsINQg/CEkIUwhdCGcIcQh7CIUIjwiZCKMIrQi3CMEIywjVCN8I6QjzCP0IBwkRCRsJJQkvCTkJQwlNCVcJYQlrCXUJfwmJCZMJnQmnCbEJuwnFCc8J2QnjCe0J9wkBCgsKFQofCikKMwo9CkcKUQpbCmUKbwp5CoMKjQqXCqEKqwq1Cr8KyQrTCt0K5wrxCvsKBQsPCxkLIwstCzcLQQtLC1ULXwtpC3MLfQuHC5ELmwulC68LuQvDC80L1wvhC+sL9Qv/CwkMEwwdDCcMMQw7DEUMTwxZDGMMbQx3DIEMiwyVDJ8MqQyzDL0MxwzRDNsM5QzvDPkMAw0NDRcNIQ0rDTUNPw1JDVMNXQ1nDXENew2FDY8NmQ2jDa0Ntw3BDcsN1Q3fDekN8w39DQcO",
          "dtype": "i2"
         },
         "xaxis": "x",
         "y": {
          "bdata": "AgAIABIAGAAfACUALQAzADoAPwBHAE0AVABZAGEAZwBtAHEAeAB9AIEAhgCMAJAAkgCXAJoAmgCUAJYAmACaAJoAnACcAJsAnACeAJ4AoAChAKQAoQCdAKEAoQChAKIApQClAKkArgCpAKkArQCsAKQApwCpALAAsgC0AL4AxQDDAMYAxgDIAMcAywDOANIA0QDRANoA1ADTANUA1gDWANgA2QDYANkA2wDWANwA3gDcANYA1QDTANUA1QDXANkA1ADYANoA3QDeAOEA4gDeANsA2wDWANIA0gDWANUA1ADSANUA1gDYAN0A4ADiAOMA5gDoAO8A6wDqAOgA6QDrAOoA6ADqAOoA7wDxAPYA+AD6AP0A+gD4APQA9QD5APkA9gD2APoA/QD+AP8A/wD/AP8A+AD9AP0ABAEIAQYBBAEFAQgBBgEJAQsBCQEHAQcBAQH8AP0A/gD6APgA+gD+APoA/AD/AAIBAAECAQQBBAEGAQoBBQEEAQUBBgEMAQsBCgEJARABDgEPAREBEQEQAQ8BDAEPARABEwEPAQkBBwEEAQQBBAEGAQQBCAEHAQwBDQEQARIBHAEZAR4BHgEdARsBGQEbAR4BHwEoASgBLQEkASoBLAEsAS8BMwE3AToBOQE6AT4BPQE7ATsBQAFEAUEBPwFDAUoBTQFLAVABVAFUAVQBVgFYAVcBWAFWAVgBWQFbAWABYgFmAWoBbQFuAW8BbwFxAW8BcAF0AXgBfgF+AYEBgwGFAYQBgwF9AXoBfQF7AXwBfgGBAYYBhwGKAYkBjgGOAZIBmAGYAZ8BogGiAaMBoAGgAZ8BnwGlAaoBqgGtAa0BrQGwAbcBuwG7AbsBwAHCAcQBxQG+AcABwwHIAckBxgHIAcsBzQHPAc4BzAHKAc0BzgHJAcoBzAHLAcsBxgHDAcEBwAG+Ab8BvQG0AbcBtwG4AboBugG4AbUB",
          "dtype": "i2"
         },
         "yaxis": "y"
        }
       ],
       "layout": {
        "legend": {
         "title": {
          "text": "Scenario"
         },
         "tracegroupgap": 0
        },
        "template": {
         "data": {
          "bar": [
           {
            "error_x": {
             "color": "#2a3f5f"
            },
            "error_y": {
             "color": "#2a3f5f"
            },
            "marker": {
             "line": {
              "color": "white",
              "width": 0.5
             },
             "pattern": {
              "fillmode": "overlay",
              "size": 10,
              "solidity": 0.2
             }
            },
            "type": "bar"
           }
          ],
          "barpolar": [
           {
            "marker": {
             "line": {
              "color": "white",
              "width": 0.5
             },
             "pattern": {
              "fillmode": "overlay",
              "size": 10,
              "solidity": 0.2
             }
            },
            "type": "barpolar"
           }
          ],
          "carpet": [
           {
            "aaxis": {
             "endlinecolor": "#2a3f5f",
             "gridcolor": "#C8D4E3",
             "linecolor": "#C8D4E3",
             "minorgridcolor": "#C8D4E3",
             "startlinecolor": "#2a3f5f"
            },
            "baxis": {
             "endlinecolor": "#2a3f5f",
             "gridcolor": "#C8D4E3",
             "linecolor": "#C8D4E3",
             "minorgridcolor": "#C8D4E3",
             "startlinecolor": "#2a3f5f"
            },
            "type": "carpet"
           }
          ],
          "choropleth": [
           {
            "colorbar": {
             "outlinewidth": 0,
             "ticks": ""
            },
            "type": "choropleth"
           }
          ],
          "contour": [
           {
            "colorbar": {
             "outlinewidth": 0,
             "ticks": ""
            },
            "colorscale": [
             [
              0,
              "#0d0887"
             ],
             [
              0.1111111111111111,
              "#46039f"
             ],
             [
              0.2222222222222222,
              "#7201a8"
             ],
             [
              0.3333333333333333,
              "#9c179e"
             ],
             [
              0.4444444444444444,
              "#bd3786"
             ],
             [
              0.5555555555555556,
              "#d8576b"
             ],
             [
              0.6666666666666666,
              "#ed7953"
             ],
             [
              0.7777777777777778,
              "#fb9f3a"
             ],
             [
              0.8888888888888888,
              "#fdca26"
             ],
             [
              1,
              "#f0f921"
             ]
            ],
            "type": "contour"
           }
          ],
          "contourcarpet": [
           {
            "colorbar": {
             "outlinewidth": 0,
             "ticks": ""
            },
            "type": "contourcarpet"
           }
          ],
          "heatmap": [
           {
            "colorbar": {
             "outlinewidth": 0,
             "ticks": ""
            },
            "colorscale": [
             [
              0,
              "#0d0887"
             ],
             [
              0.1111111111111111,
              "#46039f"
             ],
             [
              0.2222222222222222,
              "#7201a8"
             ],
             [
              0.3333333333333333,
              "#9c179e"
             ],
             [
              0.4444444444444444,
              "#bd3786"
             ],
             [
              0.5555555555555556,
              "#d8576b"
             ],
             [
              0.6666666666666666,
              "#ed7953"
             ],
             [
              0.7777777777777778,
              "#fb9f3a"
             ],
             [
              0.8888888888888888,
              "#fdca26"
             ],
             [
              1,
              "#f0f921"
             ]
            ],
            "type": "heatmap"
           }
          ],
          "histogram": [
           {
            "marker": {
             "pattern": {
              "fillmode": "overlay",
              "size": 10,
              "solidity": 0.2
             }
            },
            "type": "histogram"
           }
          ],
          "histogram2d": [
           {
            "colorbar": {
             "outlinewidth": 0,
             "ticks": ""
            },
            "colorscale": [
             [
              0,
              "#0d0887"
             ],
             [
              0.1111111111111111,
              "#46039f"
             ],
             [
              0.2222222222222222,
              "#7201a8"
             ],
             [
              0.3333333333333333,
              "#9c179e"
             ],
             [
              0.4444444444444444,
              "#bd3786"
             ],
             [
              0.5555555555555556,
              "#d8576b"
             ],
             [
              0.6666666666666666,
              "#ed7953"
             ],
             [
              0.7777777777777778,
              "#fb9f3a"
             ],
             [
              0.8888888888888888,
              "#fdca26"
             ],
             [
              1,
              "#f0f921"
             ]
            ],
            "type": "histogram2d"
           }
          ],
          "histogram2dcontour": [
           {
            "colorbar": {
             "outlinewidth": 0,
             "ticks": ""
            },
            "colorscale": [
             [
              0,
              "#0d0887"
             ],
             [
              0.1111111111111111,
              "#46039f"
             ],
             [
              0.2222222222222222,
              "#7201a8"
             ],
             [
              0.3333333333333333,
              "#9c179e"
             ],
             [
              0.4444444444444444,
              "#bd3786"
             ],
             [
              0.5555555555555556,
              "#d8576b"
             ],
             [
              0.6666666666666666,
              "#ed7953"
             ],
             [
              0.7777777777777778,
              "#fb9f3a"
             ],
             [
              0.8888888888888888,
              "#fdca26"
             ],
             [
              1,
              "#f0f921"
             ]
            ],
            "type": "histogram2dcontour"
           }
          ],
          "mesh3d": [
           {
            "colorbar": {
             "outlinewidth": 0,
             "ticks": ""
            },
            "type": "mesh3d"
           }
          ],
          "parcoords": [
           {
            "line": {
             "colorbar": {
              "outlinewidth": 0,
              "ticks": ""
             }
            },
            "type": "parcoords"
           }
          ],
          "pie": [
           {
            "automargin": true,
            "type": "pie"
           }
          ],
          "scatter": [
           {
            "fillpattern": {
             "fillmode": "overlay",
             "size": 10,
             "solidity": 0.2
            },
            "type": "scatter"
           }
          ],
          "scatter3d": [
           {
            "line": {
             "colorbar": {
              "outlinewidth": 0,
              "ticks": ""
             }
            },
            "marker": {
             "colorbar": {
              "outlinewidth": 0,
              "ticks": ""
             }
            },
            "type": "scatter3d"
           }
          ],
          "scattercarpet": [
           {
            "marker": {
             "colorbar": {
              "outlinewidth": 0,
              "ticks": ""
             }
            },
            "type": "scattercarpet"
           }
          ],
          "scattergeo": [
           {
            "marker": {
             "colorbar": {
              "outlinewidth": 0,
              "ticks": ""
             }
            },
            "type": "scattergeo"
           }
          ],
          "scattergl": [
           {
            "marker": {
             "colorbar": {
              "outlinewidth": 0,
              "ticks": ""
             }
            },
            "type": "scattergl"
           }
          ],
          "scattermap": [
           {
            "marker": {
             "colorbar": {
              "outlinewidth": 0,
              "ticks": ""
             }
            },
            "type": "scattermap"
           }
          ],
          "scattermapbox": [
           {
            "marker": {
             "colorbar": {
              "outlinewidth": 0,
              "ticks": ""
             }
            },
            "type": "scattermapbox"
           }
          ],
          "scatterpolar": [
           {
            "marker": {
             "colorbar": {
              "outlinewidth": 0,
              "ticks": ""
             }
            },
            "type": "scatterpolar"
           }
          ],
          "scatterpolargl": [
           {
            "marker": {
             "colorbar": {
              "outlinewidth": 0,
              "ticks": ""
             }
            },
            "type": "scatterpolargl"
           }
          ],
          "scatterternary": [
           {
            "marker": {
             "colorbar": {
              "outlinewidth": 0,
              "ticks": ""
             }
            },
            "type": "scatterternary"
           }
          ],
          "surface": [
           {
            "colorbar": {
             "outlinewidth": 0,
             "ticks": ""
            },
            "colorscale": [
             [
              0,
              "#0d0887"
             ],
             [
              0.1111111111111111,
              "#46039f"
             ],
             [
              0.2222222222222222,
              "#7201a8"
             ],
             [
              0.3333333333333333,
              "#9c179e"
             ],
             [
              0.4444444444444444,
              "#bd3786"
             ],
             [
              0.5555555555555556,
              "#d8576b"
             ],
             [
              0.6666666666666666,
              "#ed7953"
             ],
             [
              0.7777777777777778,
              "#fb9f3a"
             ],
             [
              0.8888888888888888,
              "#fdca26"
             ],
             [
              1,
              "#f0f921"
             ]
            ],
            "type": "surface"
           }
          ],
          "table": [
           {
            "cells": {
             "fill": {
              "color": "#EBF0F8"
             },
             "line": {
              "color": "white"
             }
            },
            "header": {
             "fill": {
              "color": "#C8D4E3"
             },
             "line": {
              "color": "white"
             }
            },
            "type": "table"
           }
          ]
         },
         "layout": {
          "annotationdefaults": {
           "arrowcolor": "#2a3f5f",
           "arrowhead": 0,
           "arrowwidth": 1
          },
          "autotypenumbers": "strict",
          "coloraxis": {
           "colorbar": {
            "outlinewidth": 0,
            "ticks": ""
           }
          },
          "colorscale": {
           "diverging": [
            [
             0,
             "#8e0152"
            ],
            [
             0.1,
             "#c51b7d"
            ],
            [
             0.2,
             "#de77ae"
            ],
            [
             0.3,
             "#f1b6da"
            ],
            [
             0.4,
             "#fde0ef"
            ],
            [
             0.5,
             "#f7f7f7"
            ],
            [
             0.6,
             "#e6f5d0"
            ],
            [
             0.7,
             "#b8e186"
            ],
            [
             0.8,
             "#7fbc41"
            ],
            [
             0.9,
             "#4d9221"
            ],
            [
             1,
             "#276419"
            ]
           ],
           "sequential": [
            [
             0,
             "#0d0887"
            ],
            [
             0.1111111111111111,
             "#46039f"
            ],
            [
             0.2222222222222222,
             "#7201a8"
            ],
            [
             0.3333333333333333,
             "#9c179e"
            ],
            [
             0.4444444444444444,
             "#bd3786"
            ],
            [
             0.5555555555555556,
             "#d8576b"
            ],
            [
             0.6666666666666666,
             "#ed7953"
            ],
            [
             0.7777777777777778,
             "#fb9f3a"
            ],
            [
             0.8888888888888888,
             "#fdca26"
            ],
            [
             1,
             "#f0f921"
            ]
           ],
           "sequentialminus": [
            [
             0,
             "#0d0887"
            ],
            [
             0.1111111111111111,
             "#46039f"
            ],
            [
             0.2222222222222222,
             "#7201a8"
            ],
            [
             0.3333333333333333,
             "#9c179e"
            ],
            [
             0.4444444444444444,
             "#bd3786"
            ],
            [
             0.5555555555555556,
             "#d8576b"
            ],
            [
             0.6666666666666666,
             "#ed7953"
            ],
            [
             0.7777777777777778,
             "#fb9f3a"
            ],
            [
             0.8888888888888888,
             "#fdca26"
            ],
            [
             1,
             "#f0f921"
            ]
           ]
          },
          "colorway": [
           "#636efa",
           "#EF553B",
           "#00cc96",
           "#ab63fa",
           "#FFA15A",
           "#19d3f3",
           "#FF6692",
           "#B6E880",
           "#FF97FF",
           "#FECB52"
          ],
          "font": {
           "color": "#2a3f5f"
          },
          "geo": {
           "bgcolor": "white",
           "lakecolor": "white",
           "landcolor": "white",
           "showlakes": true,
           "showland": true,
           "subunitcolor": "#C8D4E3"
          },
          "hoverlabel": {
           "align": "left"
          },
          "hovermode": "closest",
          "mapbox": {
           "style": "light"
          },
          "paper_bgcolor": "white",
          "plot_bgcolor": "white",
          "polar": {
           "angularaxis": {
            "gridcolor": "#EBF0F8",
            "linecolor": "#EBF0F8",
            "ticks": ""
           },
           "bgcolor": "white",
           "radialaxis": {
            "gridcolor": "#EBF0F8",
            "linecolor": "#EBF0F8",
            "ticks": ""
           }
          },
          "scene": {
           "xaxis": {
            "backgroundcolor": "white",
            "gridcolor": "#DFE8F3",
            "gridwidth": 2,
            "linecolor": "#EBF0F8",
            "showbackground": true,
            "ticks": "",
            "zerolinecolor": "#EBF0F8"
           },
           "yaxis": {
            "backgroundcolor": "white",
            "gridcolor": "#DFE8F3",
            "gridwidth": 2,
            "linecolor": "#EBF0F8",
            "showbackground": true,
            "ticks": "",
            "zerolinecolor": "#EBF0F8"
           },
           "zaxis": {
            "backgroundcolor": "white",
            "gridcolor": "#DFE8F3",
            "gridwidth": 2,
            "linecolor": "#EBF0F8",
            "showbackground": true,
            "ticks": "",
            "zerolinecolor": "#EBF0F8"
           }
          },
          "shapedefaults": {
           "line": {
            "color": "#2a3f5f"
           }
          },
          "ternary": {
           "aaxis": {
            "gridcolor": "#DFE8F3",
            "linecolor": "#A2B1C6",
            "ticks": ""
           },
           "baxis": {
            "gridcolor": "#DFE8F3",
            "linecolor": "#A2B1C6",
            "ticks": ""
           },
           "bgcolor": "white",
           "caxis": {
            "gridcolor": "#DFE8F3",
            "linecolor": "#A2B1C6",
            "ticks": ""
           }
          },
          "title": {
           "x": 0.05
          },
          "xaxis": {
           "automargin": true,
           "gridcolor": "#EBF0F8",
           "linecolor": "#EBF0F8",
           "ticks": "",
           "title": {
            "standoff": 15
           },
           "zerolinecolor": "#EBF0F8",
           "zerolinewidth": 2
          },
          "yaxis": {
           "automargin": true,
           "gridcolor": "#EBF0F8",
           "linecolor": "#EBF0F8",
           "ticks": "",
           "title": {
            "standoff": 15
           },
           "zerolinecolor": "#EBF0F8",
           "zerolinewidth": 2
          }
         }
        },
        "title": {
         "text": "Active Vehicles (network)"
        },
        "xaxis": {
         "anchor": "y",
         "domain": [
          0,
          1
         ],
         "title": {
          "text": "time (s)"
         }
        },
        "yaxis": {
         "anchor": "x",
         "domain": [
          0,
          1
         ],
         "title": {
          "text": "count"
         }
        }
       }
      }
     },
     "metadata": {},
     "output_type": "display_data"
    }
   ],
   "source": [
    "plot_network_metric(net_c, \"mean_speed_network\", \"Mean Speed (network)\", \"m/s\")\n",
    "plot_network_metric(net_c, \"total_queue_len\", \"Total Queue Length (network)\", \"vehicles stopped\")\n",
    "plot_network_metric(net_c, \"total_waiting_time_snapshot\", \"Total Waiting Time Snapshot (network)\", \"seconds\")\n",
    "plot_network_metric(net_c, \"active_vehicles\", \"Active Vehicles (network)\", \"count\")"
   ]
  },
  {
   "cell_type": "markdown",
   "id": "9fcf9836",
   "metadata": {},
   "source": [
    "# Сводное сравнение по сети (средние, медианы, p95 и относительные изменения)"
   ]
  },
  {
   "cell_type": "code",
   "execution_count": null,
   "id": "7c68fa65",
   "metadata": {},
   "outputs": [
    {
     "name": "stdout",
     "output_type": "stream",
     "text": [
      "Сценарии, присутствующие в net_c: ['without_agent', 'with_agent']\n"
     ]
    },
    {
     "data": {
      "text/html": [
       "<div>\n",
       "<style scoped>\n",
       "    .dataframe tbody tr th:only-of-type {\n",
       "        vertical-align: middle;\n",
       "    }\n",
       "\n",
       "    .dataframe tbody tr th {\n",
       "        vertical-align: top;\n",
       "    }\n",
       "\n",
       "    .dataframe thead th {\n",
       "        text-align: right;\n",
       "    }\n",
       "</style>\n",
       "<table border=\"1\" class=\"dataframe\">\n",
       "  <thead>\n",
       "    <tr style=\"text-align: right;\">\n",
       "      <th></th>\n",
       "      <th>metric</th>\n",
       "      <th>without_agent</th>\n",
       "      <th>with_agent</th>\n",
       "      <th>relative_change_%</th>\n",
       "    </tr>\n",
       "  </thead>\n",
       "  <tbody>\n",
       "    <tr>\n",
       "      <th>9</th>\n",
       "      <td>active_vehicles_mean</td>\n",
       "      <td>277.461111</td>\n",
       "      <td>230.463889</td>\n",
       "      <td>-16.938310</td>\n",
       "    </tr>\n",
       "    <tr>\n",
       "      <th>10</th>\n",
       "      <td>active_vehicles_median</td>\n",
       "      <td>261.000000</td>\n",
       "      <td>247.000000</td>\n",
       "      <td>-5.363985</td>\n",
       "    </tr>\n",
       "    <tr>\n",
       "      <th>11</th>\n",
       "      <td>active_vehicles_p95</td>\n",
       "      <td>453.050000</td>\n",
       "      <td>289.000000</td>\n",
       "      <td>-36.210131</td>\n",
       "    </tr>\n",
       "    <tr>\n",
       "      <th>0</th>\n",
       "      <td>mean_speed_network_mean</td>\n",
       "      <td>6.196757</td>\n",
       "      <td>7.140228</td>\n",
       "      <td>15.225240</td>\n",
       "    </tr>\n",
       "    <tr>\n",
       "      <th>1</th>\n",
       "      <td>mean_speed_network_median</td>\n",
       "      <td>6.139150</td>\n",
       "      <td>6.839539</td>\n",
       "      <td>11.408573</td>\n",
       "    </tr>\n",
       "    <tr>\n",
       "      <th>2</th>\n",
       "      <td>mean_speed_network_p95</td>\n",
       "      <td>9.890210</td>\n",
       "      <td>9.533099</td>\n",
       "      <td>-3.610753</td>\n",
       "    </tr>\n",
       "    <tr>\n",
       "      <th>3</th>\n",
       "      <td>total_queue_len_mean</td>\n",
       "      <td>134.150000</td>\n",
       "      <td>84.461111</td>\n",
       "      <td>-37.039798</td>\n",
       "    </tr>\n",
       "    <tr>\n",
       "      <th>4</th>\n",
       "      <td>total_queue_len_median</td>\n",
       "      <td>110.000000</td>\n",
       "      <td>88.000000</td>\n",
       "      <td>-20.000000</td>\n",
       "    </tr>\n",
       "    <tr>\n",
       "      <th>5</th>\n",
       "      <td>total_queue_len_p95</td>\n",
       "      <td>284.000000</td>\n",
       "      <td>124.050000</td>\n",
       "      <td>-56.320423</td>\n",
       "    </tr>\n",
       "    <tr>\n",
       "      <th>6</th>\n",
       "      <td>total_waiting_time_snapshot_mean</td>\n",
       "      <td>10422.802778</td>\n",
       "      <td>3765.669444</td>\n",
       "      <td>-63.870856</td>\n",
       "    </tr>\n",
       "    <tr>\n",
       "      <th>7</th>\n",
       "      <td>total_waiting_time_snapshot_median</td>\n",
       "      <td>7940.000000</td>\n",
       "      <td>2789.500000</td>\n",
       "      <td>-64.867758</td>\n",
       "    </tr>\n",
       "    <tr>\n",
       "      <th>8</th>\n",
       "      <td>total_waiting_time_snapshot_p95</td>\n",
       "      <td>27087.400000</td>\n",
       "      <td>10325.000000</td>\n",
       "      <td>-61.882647</td>\n",
       "    </tr>\n",
       "  </tbody>\n",
       "</table>\n",
       "</div>"
      ],
      "text/plain": [
       "                                metric  without_agent    with_agent  relative_change_%\n",
       "9                 active_vehicles_mean     277.461111    230.463889         -16.938310\n",
       "10              active_vehicles_median     261.000000    247.000000          -5.363985\n",
       "11                 active_vehicles_p95     453.050000    289.000000         -36.210131\n",
       "0              mean_speed_network_mean       6.196757      7.140228          15.225240\n",
       "1            mean_speed_network_median       6.139150      6.839539          11.408573\n",
       "2               mean_speed_network_p95       9.890210      9.533099          -3.610753\n",
       "3                 total_queue_len_mean     134.150000     84.461111         -37.039798\n",
       "4               total_queue_len_median     110.000000     88.000000         -20.000000\n",
       "5                  total_queue_len_p95     284.000000    124.050000         -56.320423\n",
       "6     total_waiting_time_snapshot_mean   10422.802778   3765.669444         -63.870856\n",
       "7   total_waiting_time_snapshot_median    7940.000000   2789.500000         -64.867758\n",
       "8      total_waiting_time_snapshot_p95   27087.400000  10325.000000         -61.882647"
      ]
     },
     "metadata": {},
     "output_type": "display_data"
    }
   ],
   "source": [
    "import pandas as pd\n",
    "import numpy as np\n",
    "\n",
    "SCENARIO_BASE = \"without_agent\"\n",
    "SCENARIO_VAR = \"with_agent\"\n",
    "\n",
    "print(\"Сценарии, присутствующие в net_c:\", net_c[\"scenario\"].unique().tolist())\n",
    "\n",
    "present = set(net_c[\"scenario\"].unique())\n",
    "missing = [s for s in (SCENARIO_BASE, SCENARIO_VAR) if s not in present]\n",
    "if missing:\n",
    "    raise ValueError(\n",
    "        f\"Отсутствуют данные для сценариев: {missing}. \"\n",
    "        f\"Есть: {sorted(present)}. Проверьте пути SCENARIOS и CSV.\"\n",
    "    )\n",
    "\n",
    "metrics = [\"mean_speed_network\", \"total_queue_len\",\n",
    "           \"total_waiting_time_snapshot\", \"active_vehicles\"]\n",
    "\n",
    "\n",
    "p95.__name__ = \"p95\"\n",
    "\n",
    "agg = (\n",
    "    net_c\n",
    "    .groupby(\"scenario\")[metrics]\n",
    "    .agg([\"mean\", \"median\", p95])\n",
    ")\n",
    "\n",
    "agg.columns = [f\"{m}_{stat}\" for m, stat in agg.columns]\n",
    "\n",
    "base = agg.loc[SCENARIO_BASE]\n",
    "var = agg.loc[SCENARIO_VAR]\n",
    "\n",
    "rows = []\n",
    "for col in agg.columns:\n",
    "    rows.append({\n",
    "        \"metric\": col,\n",
    "        f\"{SCENARIO_BASE}\": base[col],\n",
    "        f\"{SCENARIO_VAR}\": var[col],\n",
    "        \"relative_change_%\": rel_change(base[col], var[col]),\n",
    "    })\n",
    "\n",
    "summary = pd.DataFrame(rows)\n",
    "display(\n",
    "    summary\n",
    "    .sort_values(\"metric\")\n",
    ")"
   ]
  },
  {
   "cell_type": "markdown",
   "id": "85a8ceee",
   "metadata": {},
   "source": [
    "# “Площадь под кривой” (AUC) по времени для метрик сети"
   ]
  },
  {
   "cell_type": "code",
   "execution_count": null,
   "id": "50b4aafa",
   "metadata": {},
   "outputs": [
    {
     "name": "stderr",
     "output_type": "stream",
     "text": [
      "C:\\Users\\kurga\\AppData\\Local\\Temp\\ipykernel_14920\\2483180557.py:8: DeprecationWarning:\n",
      "\n",
      "`trapz` is deprecated. Use `trapezoid` instead, or one of the numerical integration functions in `scipy.integrate`.\n",
      "\n"
     ]
    },
    {
     "data": {
      "text/html": [
       "<div>\n",
       "<style scoped>\n",
       "    .dataframe tbody tr th:only-of-type {\n",
       "        vertical-align: middle;\n",
       "    }\n",
       "\n",
       "    .dataframe tbody tr th {\n",
       "        vertical-align: top;\n",
       "    }\n",
       "\n",
       "    .dataframe thead th {\n",
       "        text-align: right;\n",
       "    }\n",
       "</style>\n",
       "<table border=\"1\" class=\"dataframe\">\n",
       "  <thead>\n",
       "    <tr style=\"text-align: right;\">\n",
       "      <th></th>\n",
       "      <th>metric</th>\n",
       "      <th>AUC_without</th>\n",
       "      <th>AUC_with</th>\n",
       "      <th>relative_change_%</th>\n",
       "    </tr>\n",
       "  </thead>\n",
       "  <tbody>\n",
       "    <tr>\n",
       "      <th>0</th>\n",
       "      <td>mean_speed_network</td>\n",
       "      <td>2.228519e+04</td>\n",
       "      <td>2.567083e+04</td>\n",
       "      <td>15.192329</td>\n",
       "    </tr>\n",
       "    <tr>\n",
       "      <th>1</th>\n",
       "      <td>total_queue_len</td>\n",
       "      <td>4.816800e+05</td>\n",
       "      <td>3.035500e+05</td>\n",
       "      <td>-36.980983</td>\n",
       "    </tr>\n",
       "    <tr>\n",
       "      <th>2</th>\n",
       "      <td>total_waiting_time_snapshot</td>\n",
       "      <td>3.744198e+07</td>\n",
       "      <td>1.354330e+07</td>\n",
       "      <td>-63.828560</td>\n",
       "    </tr>\n",
       "  </tbody>\n",
       "</table>\n",
       "</div>"
      ],
      "text/plain": [
       "                        metric   AUC_without      AUC_with  relative_change_%\n",
       "0           mean_speed_network  2.228519e+04  2.567083e+04          15.192329\n",
       "1              total_queue_len  4.816800e+05  3.035500e+05         -36.980983\n",
       "2  total_waiting_time_snapshot  3.744198e+07  1.354330e+07         -63.828560"
      ]
     },
     "metadata": {},
     "output_type": "display_data"
    }
   ],
   "source": [
    "base_df = net_c[net_c[\"scenario\"] == \"without_agent\"].sort_values(\"time_rounded\")\n",
    "var_df  = net_c[net_c[\"scenario\"] == \"with_agent\"].sort_values(\"time_rounded\")\n",
    "\n",
    "joined = base_df.merge(var_df, on=\"time_rounded\", suffixes=(\"_base\", \"_var\"))\n",
    "\n",
    "auc_table = []\n",
    "for metric in [\"mean_speed_network\", \"total_queue_len\", \"total_waiting_time_snapshot\"]:\n",
    "    y_base = joined[f\"{metric}_base\"].values\n",
    "    y_var  = joined[f\"{metric}_var\"].values\n",
    "    x      = joined[\"time_rounded\"].values.astype(float)\n",
    "\n",
    "    auc_b = auc_trapz(y_base, x)\n",
    "    auc_v = auc_trapz(y_var, x)\n",
    "    rel   = (auc_v - auc_b) / auc_b * 100.0 if auc_b != 0 else np.nan\n",
    "    auc_table.append({\"metric\": metric, \"AUC_without\": auc_b, \"AUC_with\": auc_v, \"relative_change_%\": rel})\n",
    "\n",
    "auc_df = pd.DataFrame(auc_table)\n",
    "display(auc_df)"
   ]
  },
  {
   "cell_type": "markdown",
   "id": "2512d9fc",
   "metadata": {},
   "source": [
    "# TLS: агрегаты по всем светофорам (сумма очередей/ожидания, средняя скорость)"
   ]
  },
  {
   "cell_type": "code",
   "execution_count": null,
   "id": "a1203c95",
   "metadata": {},
   "outputs": [
    {
     "data": {
      "application/vnd.plotly.v1+json": {
       "config": {
        "plotlyServerURL": "https://plot.ly"
       },
       "data": [
        {
         "hovertemplate": "scenario=with_agent<br>time_rounded=%{x}<br>tls_queue_len=%{y}<extra></extra>",
         "legendgroup": "with_agent",
         "line": {
          "color": "#636efa",
          "dash": "solid"
         },
         "marker": {
          "symbol": "circle"
         },
         "mode": "lines+markers",
         "name": "with_agent",
         "orientation": "v",
         "showlegend": true,
         "type": "scatter",
         "x": {
          "bdata": "AQALABUAHwApADMAPQBHAFEAWwBlAG8AeQCDAI0AlwChAKsAtQC/AMkA0wDdAOcA8QD7AAUBDwEZASMBLQE3AUEBSwFVAV8BaQFzAX0BhwGRAZsBpQGvAbkBwwHNAdcB4QHrAfUB/wEJAhMCHQInAjECOwJFAk8CWQJjAm0CdwKBAosClQKfAqkCswK9AscC0QLbAuUC7wL5AgMDDQMXAyEDKwM1Az8DSQNTA10DZwNxA3sDhQOPA5kDowOtA7cDwQPLA9UD3wPpA/MD/QMHBBEEGwQlBC8EOQRDBE0EVwRhBGsEdQR/BIkEkwSdBKcEsQS7BMUEzwTZBOME7QT3BAEFCwUVBR8FKQUzBT0FRwVRBVsFZQVvBXkFgwWNBZcFoQWrBbUFvwXJBdMF3QXnBfEF+wUFBg8GGQYjBi0GNwZBBksGVQZfBmkGcwZ9BocGkQabBqUGrwa5BsMGzQbXBuEG6wb1Bv8GCQcTBx0HJwcxBzsHRQdPB1kHYwdtB3cHgQeLB5UHnwepB7MHvQfHB9EH2wflB+8H+QcDCA0IFwghCCsINQg/CEkIUwhdCGcIcQh7CIUIjwiZCKMIrQi3CMEIywjVCN8I6QjzCP0IBwkRCRsJJQkvCTkJQwlNCVcJYQlrCXUJfwmJCZMJnQmnCbEJuwnFCc8J2QnjCe0J9wkBCgsKFQofCikKMwo9CkcKUQpbCmUKbwp5CoMKjQqXCqEKqwq1Cr8KyQrTCt0K5wrxCvsKBQsPCxkLIwstCzcLQQtLC1ULXwtpC3MLfQuHC5ELmwulC68LuQvDC80L1wvhC+sL9Qv/CwkMEwwdDCcMMQw7DEUMTwxZDGMMbQx3DIEMiwyVDJ8MqQyzDL0MxwzRDNsM5QzvDPkMAw0NDRcNIQ0rDTUNPw1JDVMNXQ1nDXENew2FDY8NmQ2jDa0Ntw3BDcsN1Q3fDekN8w39DQcO",
          "dtype": "i2"
         },
         "xaxis": "x",
         "y": {
          "bdata": "AAABAAABAgEBAwMEDwsQDAgEBQsKCREPExYaEw8TEBUQEBEQEhQRCgoSFgsQDhQTEBEOEhcdHhwTFRMPFBkSFhsVGRoZFxojFhwWGh0XExAaISAgGBwfJiQmFxwbFRQUExkmIB8cFxweFBoUFBwcGiEdGCseGSAcHBMbHBwoHBsaFRUWEhwcGikLEh4pJSkqIBEXGiMpKSIhGh0lHxsgExoeKzI3JBsVHQ8PGB4fGhgZFhsWFCITFRYXGiAZGRofHREWICIlIR0hEhkhJCYaGyAWHiIcHRkXIhkVIxsgJx0fIRgjHxQfHyMgICAjJi8lIyMgGCQgJy4yKiQdHh8mKSQgHR8gHh8sKCgyIichJyspLiUiJDQnKiQmIiMfKRwWGxccJhQdHxEjKCQfIR8iHSEjIRoYGhEcJigqLRkTFhwXHBkeGyUqHxojIxomFyUtHSQmGw8QHR8TFxoUFR4aHycYFRUdIyYm",
          "dtype": "i1"
         },
         "yaxis": "y"
        },
        {
         "hovertemplate": "scenario=without_agent<br>time_rounded=%{x}<br>tls_queue_len=%{y}<extra></extra>",
         "legendgroup": "without_agent",
         "line": {
          "color": "#EF553B",
          "dash": "solid"
         },
         "marker": {
          "symbol": "circle"
         },
         "mode": "lines+markers",
         "name": "without_agent",
         "orientation": "v",
         "showlegend": true,
         "type": "scatter",
         "x": {
          "bdata": "AQALABUAHwApADMAPQBHAFEAWwBlAG8AeQCDAI0AlwChAKsAtQC/AMkA0wDdAOcA8QD7AAUBDwEZASMBLQE3AUEBSwFVAV8BaQFzAX0BhwGRAZsBpQGvAbkBwwHNAdcB4QHrAfUB/wEJAhMCHQInAjECOwJFAk8CWQJjAm0CdwKBAosClQKfAqkCswK9AscC0QLbAuUC7wL5AgMDDQMXAyEDKwM1Az8DSQNTA10DZwNxA3sDhQOPA5kDowOtA7cDwQPLA9UD3wPpA/MD/QMHBBEEGwQlBC8EOQRDBE0EVwRhBGsEdQR/BIkEkwSdBKcEsQS7BMUEzwTZBOME7QT3BAEFCwUVBR8FKQUzBT0FRwVRBVsFZQVvBXkFgwWNBZcFoQWrBbUFvwXJBdMF3QXnBfEF+wUFBg8GGQYjBi0GNwZBBksGVQZfBmkGcwZ9BocGkQabBqUGrwa5BsMGzQbXBuEG6wb1Bv8GCQcTBx0HJwcxBzsHRQdPB1kHYwdtB3cHgQeLB5UHnwepB7MHvQfHB9EH2wflB+8H+QcDCA0IFwghCCsINQg/CEkIUwhdCGcIcQh7CIUIjwiZCKMIrQi3CMEIywjVCN8I6QjzCP0IBwkRCRsJJQkvCTkJQwlNCVcJYQlrCXUJfwmJCZMJnQmnCbEJuwnFCc8J2QnjCe0J9wkBCgsKFQofCikKMwo9CkcKUQpbCmUKbwp5CoMKjQqXCqEKqwq1Cr8KyQrTCt0K5wrxCvsKBQsPCxkLIwstCzcLQQtLC1ULXwtpC3MLfQuHC5ELmwulC68LuQvDC80L1wvhC+sL9Qv/CwkMEwwdDCcMMQw7DEUMTwxZDGMMbQx3DIEMiwyVDJ8MqQyzDL0MxwzRDNsM5QzvDPkMAw0NDRcNIQ0rDTUNPw1JDVMNXQ1nDXENew2FDY8NmQ2jDa0Ntw3BDcsN1Q3fDekN8w39DQcO",
          "dtype": "i2"
         },
         "xaxis": "x",
         "y": {
          "bdata": "AAABAAABAgEBAwMGBgMGBA0GBAkFBQcMDggTEwoRDgoKCAgGCQgKCBAODwwLEwwIDBENERYWFAoPDgoNFA8SFRcaEw0MEQwVFBIXERASEBgdFhwVExgYFA0bFw4UFhUaGBcbDRAVDBQWEBQTFBgVFBcSFRkUFQ8SFxESGRUaFhoYEBYSFBsVDhEXEBgSDhQdFxMeGRcWFBYYEh0UHRYQFBcSEBgRFw4YGhAYGRQVFhQaFh4dIR4TFBcYGxQXFhEeHh8cJRwhLCwqIS4bGyAhFhspIyAcJBsVHhgdGBgaGRUYGhYXIiUjIigsJyopJiUjKSMoJi0oKSkyLi8tMi8oJycwMSwuOC0vLy0tLDM1MzUyJiUrKys3MC84NSwmJyouODwxNjI1MDExOTM2OTI5ODk3MDUxMyo2NjImMi0rLSgoIysrHiEkIx8gJyoiLzQrLiIdLB4eMSAoMRwcIRkbJR8jJyUzMDMr",
          "dtype": "i1"
         },
         "yaxis": "y"
        }
       ],
       "layout": {
        "legend": {
         "title": {
          "text": "Scenario"
         },
         "tracegroupgap": 0
        },
        "template": {
         "data": {
          "bar": [
           {
            "error_x": {
             "color": "#2a3f5f"
            },
            "error_y": {
             "color": "#2a3f5f"
            },
            "marker": {
             "line": {
              "color": "white",
              "width": 0.5
             },
             "pattern": {
              "fillmode": "overlay",
              "size": 10,
              "solidity": 0.2
             }
            },
            "type": "bar"
           }
          ],
          "barpolar": [
           {
            "marker": {
             "line": {
              "color": "white",
              "width": 0.5
             },
             "pattern": {
              "fillmode": "overlay",
              "size": 10,
              "solidity": 0.2
             }
            },
            "type": "barpolar"
           }
          ],
          "carpet": [
           {
            "aaxis": {
             "endlinecolor": "#2a3f5f",
             "gridcolor": "#C8D4E3",
             "linecolor": "#C8D4E3",
             "minorgridcolor": "#C8D4E3",
             "startlinecolor": "#2a3f5f"
            },
            "baxis": {
             "endlinecolor": "#2a3f5f",
             "gridcolor": "#C8D4E3",
             "linecolor": "#C8D4E3",
             "minorgridcolor": "#C8D4E3",
             "startlinecolor": "#2a3f5f"
            },
            "type": "carpet"
           }
          ],
          "choropleth": [
           {
            "colorbar": {
             "outlinewidth": 0,
             "ticks": ""
            },
            "type": "choropleth"
           }
          ],
          "contour": [
           {
            "colorbar": {
             "outlinewidth": 0,
             "ticks": ""
            },
            "colorscale": [
             [
              0,
              "#0d0887"
             ],
             [
              0.1111111111111111,
              "#46039f"
             ],
             [
              0.2222222222222222,
              "#7201a8"
             ],
             [
              0.3333333333333333,
              "#9c179e"
             ],
             [
              0.4444444444444444,
              "#bd3786"
             ],
             [
              0.5555555555555556,
              "#d8576b"
             ],
             [
              0.6666666666666666,
              "#ed7953"
             ],
             [
              0.7777777777777778,
              "#fb9f3a"
             ],
             [
              0.8888888888888888,
              "#fdca26"
             ],
             [
              1,
              "#f0f921"
             ]
            ],
            "type": "contour"
           }
          ],
          "contourcarpet": [
           {
            "colorbar": {
             "outlinewidth": 0,
             "ticks": ""
            },
            "type": "contourcarpet"
           }
          ],
          "heatmap": [
           {
            "colorbar": {
             "outlinewidth": 0,
             "ticks": ""
            },
            "colorscale": [
             [
              0,
              "#0d0887"
             ],
             [
              0.1111111111111111,
              "#46039f"
             ],
             [
              0.2222222222222222,
              "#7201a8"
             ],
             [
              0.3333333333333333,
              "#9c179e"
             ],
             [
              0.4444444444444444,
              "#bd3786"
             ],
             [
              0.5555555555555556,
              "#d8576b"
             ],
             [
              0.6666666666666666,
              "#ed7953"
             ],
             [
              0.7777777777777778,
              "#fb9f3a"
             ],
             [
              0.8888888888888888,
              "#fdca26"
             ],
             [
              1,
              "#f0f921"
             ]
            ],
            "type": "heatmap"
           }
          ],
          "histogram": [
           {
            "marker": {
             "pattern": {
              "fillmode": "overlay",
              "size": 10,
              "solidity": 0.2
             }
            },
            "type": "histogram"
           }
          ],
          "histogram2d": [
           {
            "colorbar": {
             "outlinewidth": 0,
             "ticks": ""
            },
            "colorscale": [
             [
              0,
              "#0d0887"
             ],
             [
              0.1111111111111111,
              "#46039f"
             ],
             [
              0.2222222222222222,
              "#7201a8"
             ],
             [
              0.3333333333333333,
              "#9c179e"
             ],
             [
              0.4444444444444444,
              "#bd3786"
             ],
             [
              0.5555555555555556,
              "#d8576b"
             ],
             [
              0.6666666666666666,
              "#ed7953"
             ],
             [
              0.7777777777777778,
              "#fb9f3a"
             ],
             [
              0.8888888888888888,
              "#fdca26"
             ],
             [
              1,
              "#f0f921"
             ]
            ],
            "type": "histogram2d"
           }
          ],
          "histogram2dcontour": [
           {
            "colorbar": {
             "outlinewidth": 0,
             "ticks": ""
            },
            "colorscale": [
             [
              0,
              "#0d0887"
             ],
             [
              0.1111111111111111,
              "#46039f"
             ],
             [
              0.2222222222222222,
              "#7201a8"
             ],
             [
              0.3333333333333333,
              "#9c179e"
             ],
             [
              0.4444444444444444,
              "#bd3786"
             ],
             [
              0.5555555555555556,
              "#d8576b"
             ],
             [
              0.6666666666666666,
              "#ed7953"
             ],
             [
              0.7777777777777778,
              "#fb9f3a"
             ],
             [
              0.8888888888888888,
              "#fdca26"
             ],
             [
              1,
              "#f0f921"
             ]
            ],
            "type": "histogram2dcontour"
           }
          ],
          "mesh3d": [
           {
            "colorbar": {
             "outlinewidth": 0,
             "ticks": ""
            },
            "type": "mesh3d"
           }
          ],
          "parcoords": [
           {
            "line": {
             "colorbar": {
              "outlinewidth": 0,
              "ticks": ""
             }
            },
            "type": "parcoords"
           }
          ],
          "pie": [
           {
            "automargin": true,
            "type": "pie"
           }
          ],
          "scatter": [
           {
            "fillpattern": {
             "fillmode": "overlay",
             "size": 10,
             "solidity": 0.2
            },
            "type": "scatter"
           }
          ],
          "scatter3d": [
           {
            "line": {
             "colorbar": {
              "outlinewidth": 0,
              "ticks": ""
             }
            },
            "marker": {
             "colorbar": {
              "outlinewidth": 0,
              "ticks": ""
             }
            },
            "type": "scatter3d"
           }
          ],
          "scattercarpet": [
           {
            "marker": {
             "colorbar": {
              "outlinewidth": 0,
              "ticks": ""
             }
            },
            "type": "scattercarpet"
           }
          ],
          "scattergeo": [
           {
            "marker": {
             "colorbar": {
              "outlinewidth": 0,
              "ticks": ""
             }
            },
            "type": "scattergeo"
           }
          ],
          "scattergl": [
           {
            "marker": {
             "colorbar": {
              "outlinewidth": 0,
              "ticks": ""
             }
            },
            "type": "scattergl"
           }
          ],
          "scattermap": [
           {
            "marker": {
             "colorbar": {
              "outlinewidth": 0,
              "ticks": ""
             }
            },
            "type": "scattermap"
           }
          ],
          "scattermapbox": [
           {
            "marker": {
             "colorbar": {
              "outlinewidth": 0,
              "ticks": ""
             }
            },
            "type": "scattermapbox"
           }
          ],
          "scatterpolar": [
           {
            "marker": {
             "colorbar": {
              "outlinewidth": 0,
              "ticks": ""
             }
            },
            "type": "scatterpolar"
           }
          ],
          "scatterpolargl": [
           {
            "marker": {
             "colorbar": {
              "outlinewidth": 0,
              "ticks": ""
             }
            },
            "type": "scatterpolargl"
           }
          ],
          "scatterternary": [
           {
            "marker": {
             "colorbar": {
              "outlinewidth": 0,
              "ticks": ""
             }
            },
            "type": "scatterternary"
           }
          ],
          "surface": [
           {
            "colorbar": {
             "outlinewidth": 0,
             "ticks": ""
            },
            "colorscale": [
             [
              0,
              "#0d0887"
             ],
             [
              0.1111111111111111,
              "#46039f"
             ],
             [
              0.2222222222222222,
              "#7201a8"
             ],
             [
              0.3333333333333333,
              "#9c179e"
             ],
             [
              0.4444444444444444,
              "#bd3786"
             ],
             [
              0.5555555555555556,
              "#d8576b"
             ],
             [
              0.6666666666666666,
              "#ed7953"
             ],
             [
              0.7777777777777778,
              "#fb9f3a"
             ],
             [
              0.8888888888888888,
              "#fdca26"
             ],
             [
              1,
              "#f0f921"
             ]
            ],
            "type": "surface"
           }
          ],
          "table": [
           {
            "cells": {
             "fill": {
              "color": "#EBF0F8"
             },
             "line": {
              "color": "white"
             }
            },
            "header": {
             "fill": {
              "color": "#C8D4E3"
             },
             "line": {
              "color": "white"
             }
            },
            "type": "table"
           }
          ]
         },
         "layout": {
          "annotationdefaults": {
           "arrowcolor": "#2a3f5f",
           "arrowhead": 0,
           "arrowwidth": 1
          },
          "autotypenumbers": "strict",
          "coloraxis": {
           "colorbar": {
            "outlinewidth": 0,
            "ticks": ""
           }
          },
          "colorscale": {
           "diverging": [
            [
             0,
             "#8e0152"
            ],
            [
             0.1,
             "#c51b7d"
            ],
            [
             0.2,
             "#de77ae"
            ],
            [
             0.3,
             "#f1b6da"
            ],
            [
             0.4,
             "#fde0ef"
            ],
            [
             0.5,
             "#f7f7f7"
            ],
            [
             0.6,
             "#e6f5d0"
            ],
            [
             0.7,
             "#b8e186"
            ],
            [
             0.8,
             "#7fbc41"
            ],
            [
             0.9,
             "#4d9221"
            ],
            [
             1,
             "#276419"
            ]
           ],
           "sequential": [
            [
             0,
             "#0d0887"
            ],
            [
             0.1111111111111111,
             "#46039f"
            ],
            [
             0.2222222222222222,
             "#7201a8"
            ],
            [
             0.3333333333333333,
             "#9c179e"
            ],
            [
             0.4444444444444444,
             "#bd3786"
            ],
            [
             0.5555555555555556,
             "#d8576b"
            ],
            [
             0.6666666666666666,
             "#ed7953"
            ],
            [
             0.7777777777777778,
             "#fb9f3a"
            ],
            [
             0.8888888888888888,
             "#fdca26"
            ],
            [
             1,
             "#f0f921"
            ]
           ],
           "sequentialminus": [
            [
             0,
             "#0d0887"
            ],
            [
             0.1111111111111111,
             "#46039f"
            ],
            [
             0.2222222222222222,
             "#7201a8"
            ],
            [
             0.3333333333333333,
             "#9c179e"
            ],
            [
             0.4444444444444444,
             "#bd3786"
            ],
            [
             0.5555555555555556,
             "#d8576b"
            ],
            [
             0.6666666666666666,
             "#ed7953"
            ],
            [
             0.7777777777777778,
             "#fb9f3a"
            ],
            [
             0.8888888888888888,
             "#fdca26"
            ],
            [
             1,
             "#f0f921"
            ]
           ]
          },
          "colorway": [
           "#636efa",
           "#EF553B",
           "#00cc96",
           "#ab63fa",
           "#FFA15A",
           "#19d3f3",
           "#FF6692",
           "#B6E880",
           "#FF97FF",
           "#FECB52"
          ],
          "font": {
           "color": "#2a3f5f"
          },
          "geo": {
           "bgcolor": "white",
           "lakecolor": "white",
           "landcolor": "white",
           "showlakes": true,
           "showland": true,
           "subunitcolor": "#C8D4E3"
          },
          "hoverlabel": {
           "align": "left"
          },
          "hovermode": "closest",
          "mapbox": {
           "style": "light"
          },
          "paper_bgcolor": "white",
          "plot_bgcolor": "white",
          "polar": {
           "angularaxis": {
            "gridcolor": "#EBF0F8",
            "linecolor": "#EBF0F8",
            "ticks": ""
           },
           "bgcolor": "white",
           "radialaxis": {
            "gridcolor": "#EBF0F8",
            "linecolor": "#EBF0F8",
            "ticks": ""
           }
          },
          "scene": {
           "xaxis": {
            "backgroundcolor": "white",
            "gridcolor": "#DFE8F3",
            "gridwidth": 2,
            "linecolor": "#EBF0F8",
            "showbackground": true,
            "ticks": "",
            "zerolinecolor": "#EBF0F8"
           },
           "yaxis": {
            "backgroundcolor": "white",
            "gridcolor": "#DFE8F3",
            "gridwidth": 2,
            "linecolor": "#EBF0F8",
            "showbackground": true,
            "ticks": "",
            "zerolinecolor": "#EBF0F8"
           },
           "zaxis": {
            "backgroundcolor": "white",
            "gridcolor": "#DFE8F3",
            "gridwidth": 2,
            "linecolor": "#EBF0F8",
            "showbackground": true,
            "ticks": "",
            "zerolinecolor": "#EBF0F8"
           }
          },
          "shapedefaults": {
           "line": {
            "color": "#2a3f5f"
           }
          },
          "ternary": {
           "aaxis": {
            "gridcolor": "#DFE8F3",
            "linecolor": "#A2B1C6",
            "ticks": ""
           },
           "baxis": {
            "gridcolor": "#DFE8F3",
            "linecolor": "#A2B1C6",
            "ticks": ""
           },
           "bgcolor": "white",
           "caxis": {
            "gridcolor": "#DFE8F3",
            "linecolor": "#A2B1C6",
            "ticks": ""
           }
          },
          "title": {
           "x": 0.05
          },
          "xaxis": {
           "automargin": true,
           "gridcolor": "#EBF0F8",
           "linecolor": "#EBF0F8",
           "ticks": "",
           "title": {
            "standoff": 15
           },
           "zerolinecolor": "#EBF0F8",
           "zerolinewidth": 2
          },
          "yaxis": {
           "automargin": true,
           "gridcolor": "#EBF0F8",
           "linecolor": "#EBF0F8",
           "ticks": "",
           "title": {
            "standoff": 15
           },
           "zerolinecolor": "#EBF0F8",
           "zerolinewidth": 2
          }
         }
        },
        "title": {
         "text": "TLS agg: Queue length (sum over TLS)"
        },
        "xaxis": {
         "anchor": "y",
         "domain": [
          0,
          1
         ],
         "title": {
          "text": "time (s)"
         }
        },
        "yaxis": {
         "anchor": "x",
         "domain": [
          0,
          1
         ],
         "title": {
          "text": "vehicles stopped"
         }
        }
       }
      }
     },
     "metadata": {},
     "output_type": "display_data"
    },
    {
     "data": {
      "application/vnd.plotly.v1+json": {
       "config": {
        "plotlyServerURL": "https://plot.ly"
       },
       "data": [
        {
         "hovertemplate": "scenario=with_agent<br>time_rounded=%{x}<br>tls_waiting_time_snapshot=%{y}<extra></extra>",
         "legendgroup": "with_agent",
         "line": {
          "color": "#636efa",
          "dash": "solid"
         },
         "marker": {
          "symbol": "circle"
         },
         "mode": "lines+markers",
         "name": "with_agent",
         "orientation": "v",
         "showlegend": true,
         "type": "scatter",
         "x": {
          "bdata": "AQALABUAHwApADMAPQBHAFEAWwBlAG8AeQCDAI0AlwChAKsAtQC/AMkA0wDdAOcA8QD7AAUBDwEZASMBLQE3AUEBSwFVAV8BaQFzAX0BhwGRAZsBpQGvAbkBwwHNAdcB4QHrAfUB/wEJAhMCHQInAjECOwJFAk8CWQJjAm0CdwKBAosClQKfAqkCswK9AscC0QLbAuUC7wL5AgMDDQMXAyEDKwM1Az8DSQNTA10DZwNxA3sDhQOPA5kDowOtA7cDwQPLA9UD3wPpA/MD/QMHBBEEGwQlBC8EOQRDBE0EVwRhBGsEdQR/BIkEkwSdBKcEsQS7BMUEzwTZBOME7QT3BAEFCwUVBR8FKQUzBT0FRwVRBVsFZQVvBXkFgwWNBZcFoQWrBbUFvwXJBdMF3QXnBfEF+wUFBg8GGQYjBi0GNwZBBksGVQZfBmkGcwZ9BocGkQabBqUGrwa5BsMGzQbXBuEG6wb1Bv8GCQcTBx0HJwcxBzsHRQdPB1kHYwdtB3cHgQeLB5UHnwepB7MHvQfHB9EH2wflB+8H+QcDCA0IFwghCCsINQg/CEkIUwhdCGcIcQh7CIUIjwiZCKMIrQi3CMEIywjVCN8I6QjzCP0IBwkRCRsJJQkvCTkJQwlNCVcJYQlrCXUJfwmJCZMJnQmnCbEJuwnFCc8J2QnjCe0J9wkBCgsKFQofCikKMwo9CkcKUQpbCmUKbwp5CoMKjQqXCqEKqwq1Cr8KyQrTCt0K5wrxCvsKBQsPCxkLIwstCzcLQQtLC1ULXwtpC3MLfQuHC5ELmwulC68LuQvDC80L1wvhC+sL9Qv/CwkMEwwdDCcMMQw7DEUMTwxZDGMMbQx3DIEMiwyVDJ8MqQyzDL0MxwzRDNsM5QzvDPkMAw0NDRcNIQ0rDTUNPw1JDVMNXQ1nDXENew2FDY8NmQ2jDa0Ntw3BDcsN1Q3fDekN8w39DQcO",
          "dtype": "i2"
         },
         "xaxis": "x",
         "y": {
          "bdata": "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",
          "dtype": "f8"
         },
         "yaxis": "y"
        },
        {
         "hovertemplate": "scenario=without_agent<br>time_rounded=%{x}<br>tls_waiting_time_snapshot=%{y}<extra></extra>",
         "legendgroup": "without_agent",
         "line": {
          "color": "#EF553B",
          "dash": "solid"
         },
         "marker": {
          "symbol": "circle"
         },
         "mode": "lines+markers",
         "name": "without_agent",
         "orientation": "v",
         "showlegend": true,
         "type": "scatter",
         "x": {
          "bdata": "AQALABUAHwApADMAPQBHAFEAWwBlAG8AeQCDAI0AlwChAKsAtQC/AMkA0wDdAOcA8QD7AAUBDwEZASMBLQE3AUEBSwFVAV8BaQFzAX0BhwGRAZsBpQGvAbkBwwHNAdcB4QHrAfUB/wEJAhMCHQInAjECOwJFAk8CWQJjAm0CdwKBAosClQKfAqkCswK9AscC0QLbAuUC7wL5AgMDDQMXAyEDKwM1Az8DSQNTA10DZwNxA3sDhQOPA5kDowOtA7cDwQPLA9UD3wPpA/MD/QMHBBEEGwQlBC8EOQRDBE0EVwRhBGsEdQR/BIkEkwSdBKcEsQS7BMUEzwTZBOME7QT3BAEFCwUVBR8FKQUzBT0FRwVRBVsFZQVvBXkFgwWNBZcFoQWrBbUFvwXJBdMF3QXnBfEF+wUFBg8GGQYjBi0GNwZBBksGVQZfBmkGcwZ9BocGkQabBqUGrwa5BsMGzQbXBuEG6wb1Bv8GCQcTBx0HJwcxBzsHRQdPB1kHYwdtB3cHgQeLB5UHnwepB7MHvQfHB9EH2wflB+8H+QcDCA0IFwghCCsINQg/CEkIUwhdCGcIcQh7CIUIjwiZCKMIrQi3CMEIywjVCN8I6QjzCP0IBwkRCRsJJQkvCTkJQwlNCVcJYQlrCXUJfwmJCZMJnQmnCbEJuwnFCc8J2QnjCe0J9wkBCgsKFQofCikKMwo9CkcKUQpbCmUKbwp5CoMKjQqXCqEKqwq1Cr8KyQrTCt0K5wrxCvsKBQsPCxkLIwstCzcLQQtLC1ULXwtpC3MLfQuHC5ELmwulC68LuQvDC80L1wvhC+sL9Qv/CwkMEwwdDCcMMQw7DEUMTwxZDGMMbQx3DIEMiwyVDJ8MqQyzDL0MxwzRDNsM5QzvDPkMAw0NDRcNIQ0rDTUNPw1JDVMNXQ1nDXENew2FDY8NmQ2jDa0Ntw3BDcsN1Q3fDekN8w39DQcO",
          "dtype": "i2"
         },
         "xaxis": "x",
         "y": {
          "bdata": "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",
          "dtype": "f8"
         },
         "yaxis": "y"
        }
       ],
       "layout": {
        "legend": {
         "title": {
          "text": "Scenario"
         },
         "tracegroupgap": 0
        },
        "template": {
         "data": {
          "bar": [
           {
            "error_x": {
             "color": "#2a3f5f"
            },
            "error_y": {
             "color": "#2a3f5f"
            },
            "marker": {
             "line": {
              "color": "white",
              "width": 0.5
             },
             "pattern": {
              "fillmode": "overlay",
              "size": 10,
              "solidity": 0.2
             }
            },
            "type": "bar"
           }
          ],
          "barpolar": [
           {
            "marker": {
             "line": {
              "color": "white",
              "width": 0.5
             },
             "pattern": {
              "fillmode": "overlay",
              "size": 10,
              "solidity": 0.2
             }
            },
            "type": "barpolar"
           }
          ],
          "carpet": [
           {
            "aaxis": {
             "endlinecolor": "#2a3f5f",
             "gridcolor": "#C8D4E3",
             "linecolor": "#C8D4E3",
             "minorgridcolor": "#C8D4E3",
             "startlinecolor": "#2a3f5f"
            },
            "baxis": {
             "endlinecolor": "#2a3f5f",
             "gridcolor": "#C8D4E3",
             "linecolor": "#C8D4E3",
             "minorgridcolor": "#C8D4E3",
             "startlinecolor": "#2a3f5f"
            },
            "type": "carpet"
           }
          ],
          "choropleth": [
           {
            "colorbar": {
             "outlinewidth": 0,
             "ticks": ""
            },
            "type": "choropleth"
           }
          ],
          "contour": [
           {
            "colorbar": {
             "outlinewidth": 0,
             "ticks": ""
            },
            "colorscale": [
             [
              0,
              "#0d0887"
             ],
             [
              0.1111111111111111,
              "#46039f"
             ],
             [
              0.2222222222222222,
              "#7201a8"
             ],
             [
              0.3333333333333333,
              "#9c179e"
             ],
             [
              0.4444444444444444,
              "#bd3786"
             ],
             [
              0.5555555555555556,
              "#d8576b"
             ],
             [
              0.6666666666666666,
              "#ed7953"
             ],
             [
              0.7777777777777778,
              "#fb9f3a"
             ],
             [
              0.8888888888888888,
              "#fdca26"
             ],
             [
              1,
              "#f0f921"
             ]
            ],
            "type": "contour"
           }
          ],
          "contourcarpet": [
           {
            "colorbar": {
             "outlinewidth": 0,
             "ticks": ""
            },
            "type": "contourcarpet"
           }
          ],
          "heatmap": [
           {
            "colorbar": {
             "outlinewidth": 0,
             "ticks": ""
            },
            "colorscale": [
             [
              0,
              "#0d0887"
             ],
             [
              0.1111111111111111,
              "#46039f"
             ],
             [
              0.2222222222222222,
              "#7201a8"
             ],
             [
              0.3333333333333333,
              "#9c179e"
             ],
             [
              0.4444444444444444,
              "#bd3786"
             ],
             [
              0.5555555555555556,
              "#d8576b"
             ],
             [
              0.6666666666666666,
              "#ed7953"
             ],
             [
              0.7777777777777778,
              "#fb9f3a"
             ],
             [
              0.8888888888888888,
              "#fdca26"
             ],
             [
              1,
              "#f0f921"
             ]
            ],
            "type": "heatmap"
           }
          ],
          "histogram": [
           {
            "marker": {
             "pattern": {
              "fillmode": "overlay",
              "size": 10,
              "solidity": 0.2
             }
            },
            "type": "histogram"
           }
          ],
          "histogram2d": [
           {
            "colorbar": {
             "outlinewidth": 0,
             "ticks": ""
            },
            "colorscale": [
             [
              0,
              "#0d0887"
             ],
             [
              0.1111111111111111,
              "#46039f"
             ],
             [
              0.2222222222222222,
              "#7201a8"
             ],
             [
              0.3333333333333333,
              "#9c179e"
             ],
             [
              0.4444444444444444,
              "#bd3786"
             ],
             [
              0.5555555555555556,
              "#d8576b"
             ],
             [
              0.6666666666666666,
              "#ed7953"
             ],
             [
              0.7777777777777778,
              "#fb9f3a"
             ],
             [
              0.8888888888888888,
              "#fdca26"
             ],
             [
              1,
              "#f0f921"
             ]
            ],
            "type": "histogram2d"
           }
          ],
          "histogram2dcontour": [
           {
            "colorbar": {
             "outlinewidth": 0,
             "ticks": ""
            },
            "colorscale": [
             [
              0,
              "#0d0887"
             ],
             [
              0.1111111111111111,
              "#46039f"
             ],
             [
              0.2222222222222222,
              "#7201a8"
             ],
             [
              0.3333333333333333,
              "#9c179e"
             ],
             [
              0.4444444444444444,
              "#bd3786"
             ],
             [
              0.5555555555555556,
              "#d8576b"
             ],
             [
              0.6666666666666666,
              "#ed7953"
             ],
             [
              0.7777777777777778,
              "#fb9f3a"
             ],
             [
              0.8888888888888888,
              "#fdca26"
             ],
             [
              1,
              "#f0f921"
             ]
            ],
            "type": "histogram2dcontour"
           }
          ],
          "mesh3d": [
           {
            "colorbar": {
             "outlinewidth": 0,
             "ticks": ""
            },
            "type": "mesh3d"
           }
          ],
          "parcoords": [
           {
            "line": {
             "colorbar": {
              "outlinewidth": 0,
              "ticks": ""
             }
            },
            "type": "parcoords"
           }
          ],
          "pie": [
           {
            "automargin": true,
            "type": "pie"
           }
          ],
          "scatter": [
           {
            "fillpattern": {
             "fillmode": "overlay",
             "size": 10,
             "solidity": 0.2
            },
            "type": "scatter"
           }
          ],
          "scatter3d": [
           {
            "line": {
             "colorbar": {
              "outlinewidth": 0,
              "ticks": ""
             }
            },
            "marker": {
             "colorbar": {
              "outlinewidth": 0,
              "ticks": ""
             }
            },
            "type": "scatter3d"
           }
          ],
          "scattercarpet": [
           {
            "marker": {
             "colorbar": {
              "outlinewidth": 0,
              "ticks": ""
             }
            },
            "type": "scattercarpet"
           }
          ],
          "scattergeo": [
           {
            "marker": {
             "colorbar": {
              "outlinewidth": 0,
              "ticks": ""
             }
            },
            "type": "scattergeo"
           }
          ],
          "scattergl": [
           {
            "marker": {
             "colorbar": {
              "outlinewidth": 0,
              "ticks": ""
             }
            },
            "type": "scattergl"
           }
          ],
          "scattermap": [
           {
            "marker": {
             "colorbar": {
              "outlinewidth": 0,
              "ticks": ""
             }
            },
            "type": "scattermap"
           }
          ],
          "scattermapbox": [
           {
            "marker": {
             "colorbar": {
              "outlinewidth": 0,
              "ticks": ""
             }
            },
            "type": "scattermapbox"
           }
          ],
          "scatterpolar": [
           {
            "marker": {
             "colorbar": {
              "outlinewidth": 0,
              "ticks": ""
             }
            },
            "type": "scatterpolar"
           }
          ],
          "scatterpolargl": [
           {
            "marker": {
             "colorbar": {
              "outlinewidth": 0,
              "ticks": ""
             }
            },
            "type": "scatterpolargl"
           }
          ],
          "scatterternary": [
           {
            "marker": {
             "colorbar": {
              "outlinewidth": 0,
              "ticks": ""
             }
            },
            "type": "scatterternary"
           }
          ],
          "surface": [
           {
            "colorbar": {
             "outlinewidth": 0,
             "ticks": ""
            },
            "colorscale": [
             [
              0,
              "#0d0887"
             ],
             [
              0.1111111111111111,
              "#46039f"
             ],
             [
              0.2222222222222222,
              "#7201a8"
             ],
             [
              0.3333333333333333,
              "#9c179e"
             ],
             [
              0.4444444444444444,
              "#bd3786"
             ],
             [
              0.5555555555555556,
              "#d8576b"
             ],
             [
              0.6666666666666666,
              "#ed7953"
             ],
             [
              0.7777777777777778,
              "#fb9f3a"
             ],
             [
              0.8888888888888888,
              "#fdca26"
             ],
             [
              1,
              "#f0f921"
             ]
            ],
            "type": "surface"
           }
          ],
          "table": [
           {
            "cells": {
             "fill": {
              "color": "#EBF0F8"
             },
             "line": {
              "color": "white"
             }
            },
            "header": {
             "fill": {
              "color": "#C8D4E3"
             },
             "line": {
              "color": "white"
             }
            },
            "type": "table"
           }
          ]
         },
         "layout": {
          "annotationdefaults": {
           "arrowcolor": "#2a3f5f",
           "arrowhead": 0,
           "arrowwidth": 1
          },
          "autotypenumbers": "strict",
          "coloraxis": {
           "colorbar": {
            "outlinewidth": 0,
            "ticks": ""
           }
          },
          "colorscale": {
           "diverging": [
            [
             0,
             "#8e0152"
            ],
            [
             0.1,
             "#c51b7d"
            ],
            [
             0.2,
             "#de77ae"
            ],
            [
             0.3,
             "#f1b6da"
            ],
            [
             0.4,
             "#fde0ef"
            ],
            [
             0.5,
             "#f7f7f7"
            ],
            [
             0.6,
             "#e6f5d0"
            ],
            [
             0.7,
             "#b8e186"
            ],
            [
             0.8,
             "#7fbc41"
            ],
            [
             0.9,
             "#4d9221"
            ],
            [
             1,
             "#276419"
            ]
           ],
           "sequential": [
            [
             0,
             "#0d0887"
            ],
            [
             0.1111111111111111,
             "#46039f"
            ],
            [
             0.2222222222222222,
             "#7201a8"
            ],
            [
             0.3333333333333333,
             "#9c179e"
            ],
            [
             0.4444444444444444,
             "#bd3786"
            ],
            [
             0.5555555555555556,
             "#d8576b"
            ],
            [
             0.6666666666666666,
             "#ed7953"
            ],
            [
             0.7777777777777778,
             "#fb9f3a"
            ],
            [
             0.8888888888888888,
             "#fdca26"
            ],
            [
             1,
             "#f0f921"
            ]
           ],
           "sequentialminus": [
            [
             0,
             "#0d0887"
            ],
            [
             0.1111111111111111,
             "#46039f"
            ],
            [
             0.2222222222222222,
             "#7201a8"
            ],
            [
             0.3333333333333333,
             "#9c179e"
            ],
            [
             0.4444444444444444,
             "#bd3786"
            ],
            [
             0.5555555555555556,
             "#d8576b"
            ],
            [
             0.6666666666666666,
             "#ed7953"
            ],
            [
             0.7777777777777778,
             "#fb9f3a"
            ],
            [
             0.8888888888888888,
             "#fdca26"
            ],
            [
             1,
             "#f0f921"
            ]
           ]
          },
          "colorway": [
           "#636efa",
           "#EF553B",
           "#00cc96",
           "#ab63fa",
           "#FFA15A",
           "#19d3f3",
           "#FF6692",
           "#B6E880",
           "#FF97FF",
           "#FECB52"
          ],
          "font": {
           "color": "#2a3f5f"
          },
          "geo": {
           "bgcolor": "white",
           "lakecolor": "white",
           "landcolor": "white",
           "showlakes": true,
           "showland": true,
           "subunitcolor": "#C8D4E3"
          },
          "hoverlabel": {
           "align": "left"
          },
          "hovermode": "closest",
          "mapbox": {
           "style": "light"
          },
          "paper_bgcolor": "white",
          "plot_bgcolor": "white",
          "polar": {
           "angularaxis": {
            "gridcolor": "#EBF0F8",
            "linecolor": "#EBF0F8",
            "ticks": ""
           },
           "bgcolor": "white",
           "radialaxis": {
            "gridcolor": "#EBF0F8",
            "linecolor": "#EBF0F8",
            "ticks": ""
           }
          },
          "scene": {
           "xaxis": {
            "backgroundcolor": "white",
            "gridcolor": "#DFE8F3",
            "gridwidth": 2,
            "linecolor": "#EBF0F8",
            "showbackground": true,
            "ticks": "",
            "zerolinecolor": "#EBF0F8"
           },
           "yaxis": {
            "backgroundcolor": "white",
            "gridcolor": "#DFE8F3",
            "gridwidth": 2,
            "linecolor": "#EBF0F8",
            "showbackground": true,
            "ticks": "",
            "zerolinecolor": "#EBF0F8"
           },
           "zaxis": {
            "backgroundcolor": "white",
            "gridcolor": "#DFE8F3",
            "gridwidth": 2,
            "linecolor": "#EBF0F8",
            "showbackground": true,
            "ticks": "",
            "zerolinecolor": "#EBF0F8"
           }
          },
          "shapedefaults": {
           "line": {
            "color": "#2a3f5f"
           }
          },
          "ternary": {
           "aaxis": {
            "gridcolor": "#DFE8F3",
            "linecolor": "#A2B1C6",
            "ticks": ""
           },
           "baxis": {
            "gridcolor": "#DFE8F3",
            "linecolor": "#A2B1C6",
            "ticks": ""
           },
           "bgcolor": "white",
           "caxis": {
            "gridcolor": "#DFE8F3",
            "linecolor": "#A2B1C6",
            "ticks": ""
           }
          },
          "title": {
           "x": 0.05
          },
          "xaxis": {
           "automargin": true,
           "gridcolor": "#EBF0F8",
           "linecolor": "#EBF0F8",
           "ticks": "",
           "title": {
            "standoff": 15
           },
           "zerolinecolor": "#EBF0F8",
           "zerolinewidth": 2
          },
          "yaxis": {
           "automargin": true,
           "gridcolor": "#EBF0F8",
           "linecolor": "#EBF0F8",
           "ticks": "",
           "title": {
            "standoff": 15
           },
           "zerolinecolor": "#EBF0F8",
           "zerolinewidth": 2
          }
         }
        },
        "title": {
         "text": "TLS agg: Waiting time snapshot (sum over TLS)"
        },
        "xaxis": {
         "anchor": "y",
         "domain": [
          0,
          1
         ],
         "title": {
          "text": "time (s)"
         }
        },
        "yaxis": {
         "anchor": "x",
         "domain": [
          0,
          1
         ],
         "title": {
          "text": "seconds"
         }
        }
       }
      }
     },
     "metadata": {},
     "output_type": "display_data"
    },
    {
     "data": {
      "application/vnd.plotly.v1+json": {
       "config": {
        "plotlyServerURL": "https://plot.ly"
       },
       "data": [
        {
         "hovertemplate": "scenario=with_agent<br>time_rounded=%{x}<br>tls_mean_speed=%{y}<extra></extra>",
         "legendgroup": "with_agent",
         "line": {
          "color": "#636efa",
          "dash": "solid"
         },
         "marker": {
          "symbol": "circle"
         },
         "mode": "lines+markers",
         "name": "with_agent",
         "orientation": "v",
         "showlegend": true,
         "type": "scatter",
         "x": {
          "bdata": "AQALABUAHwApADMAPQBHAFEAWwBlAG8AeQCDAI0AlwChAKsAtQC/AMkA0wDdAOcA8QD7AAUBDwEZASMBLQE3AUEBSwFVAV8BaQFzAX0BhwGRAZsBpQGvAbkBwwHNAdcB4QHrAfUB/wEJAhMCHQInAjECOwJFAk8CWQJjAm0CdwKBAosClQKfAqkCswK9AscC0QLbAuUC7wL5AgMDDQMXAyEDKwM1Az8DSQNTA10DZwNxA3sDhQOPA5kDowOtA7cDwQPLA9UD3wPpA/MD/QMHBBEEGwQlBC8EOQRDBE0EVwRhBGsEdQR/BIkEkwSdBKcEsQS7BMUEzwTZBOME7QT3BAEFCwUVBR8FKQUzBT0FRwVRBVsFZQVvBXkFgwWNBZcFoQWrBbUFvwXJBdMF3QXnBfEF+wUFBg8GGQYjBi0GNwZBBksGVQZfBmkGcwZ9BocGkQabBqUGrwa5BsMGzQbXBuEG6wb1Bv8GCQcTBx0HJwcxBzsHRQdPB1kHYwdtB3cHgQeLB5UHnwepB7MHvQfHB9EH2wflB+8H+QcDCA0IFwghCCsINQg/CEkIUwhdCGcIcQh7CIUIjwiZCKMIrQi3CMEIywjVCN8I6QjzCP0IBwkRCRsJJQkvCTkJQwlNCVcJYQlrCXUJfwmJCZMJnQmnCbEJuwnFCc8J2QnjCe0J9wkBCgsKFQofCikKMwo9CkcKUQpbCmUKbwp5CoMKjQqXCqEKqwq1Cr8KyQrTCt0K5wrxCvsKBQsPCxkLIwstCzcLQQtLC1ULXwtpC3MLfQuHC5ELmwulC68LuQvDC80L1wvhC+sL9Qv/CwkMEwwdDCcMMQw7DEUMTwxZDGMMbQx3DIEMiwyVDJ8MqQyzDL0MxwzRDNsM5QzvDPkMAw0NDRcNIQ0rDTUNPw1JDVMNXQ1nDXENew2FDY8NmQ2jDa0Ntw3BDcsN1Q3fDekN8w39DQcO",
          "dtype": "i2"
         },
         "xaxis": "x",
         "y": {
          "bdata": "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",
          "dtype": "f8"
         },
         "yaxis": "y"
        },
        {
         "hovertemplate": "scenario=without_agent<br>time_rounded=%{x}<br>tls_mean_speed=%{y}<extra></extra>",
         "legendgroup": "without_agent",
         "line": {
          "color": "#EF553B",
          "dash": "solid"
         },
         "marker": {
          "symbol": "circle"
         },
         "mode": "lines+markers",
         "name": "without_agent",
         "orientation": "v",
         "showlegend": true,
         "type": "scatter",
         "x": {
          "bdata": "AQALABUAHwApADMAPQBHAFEAWwBlAG8AeQCDAI0AlwChAKsAtQC/AMkA0wDdAOcA8QD7AAUBDwEZASMBLQE3AUEBSwFVAV8BaQFzAX0BhwGRAZsBpQGvAbkBwwHNAdcB4QHrAfUB/wEJAhMCHQInAjECOwJFAk8CWQJjAm0CdwKBAosClQKfAqkCswK9AscC0QLbAuUC7wL5AgMDDQMXAyEDKwM1Az8DSQNTA10DZwNxA3sDhQOPA5kDowOtA7cDwQPLA9UD3wPpA/MD/QMHBBEEGwQlBC8EOQRDBE0EVwRhBGsEdQR/BIkEkwSdBKcEsQS7BMUEzwTZBOME7QT3BAEFCwUVBR8FKQUzBT0FRwVRBVsFZQVvBXkFgwWNBZcFoQWrBbUFvwXJBdMF3QXnBfEF+wUFBg8GGQYjBi0GNwZBBksGVQZfBmkGcwZ9BocGkQabBqUGrwa5BsMGzQbXBuEG6wb1Bv8GCQcTBx0HJwcxBzsHRQdPB1kHYwdtB3cHgQeLB5UHnwepB7MHvQfHB9EH2wflB+8H+QcDCA0IFwghCCsINQg/CEkIUwhdCGcIcQh7CIUIjwiZCKMIrQi3CMEIywjVCN8I6QjzCP0IBwkRCRsJJQkvCTkJQwlNCVcJYQlrCXUJfwmJCZMJnQmnCbEJuwnFCc8J2QnjCe0J9wkBCgsKFQofCikKMwo9CkcKUQpbCmUKbwp5CoMKjQqXCqEKqwq1Cr8KyQrTCt0K5wrxCvsKBQsPCxkLIwstCzcLQQtLC1ULXwtpC3MLfQuHC5ELmwulC68LuQvDC80L1wvhC+sL9Qv/CwkMEwwdDCcMMQw7DEUMTwxZDGMMbQx3DIEMiwyVDJ8MqQyzDL0MxwzRDNsM5QzvDPkMAw0NDRcNIQ0rDTUNPw1JDVMNXQ1nDXENew2FDY8NmQ2jDa0Ntw3BDcsN1Q3fDekN8w39DQcO",
          "dtype": "i2"
         },
         "xaxis": "x",
         "y": {
          "bdata": "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",
          "dtype": "f8"
         },
         "yaxis": "y"
        }
       ],
       "layout": {
        "legend": {
         "title": {
          "text": "Scenario"
         },
         "tracegroupgap": 0
        },
        "template": {
         "data": {
          "bar": [
           {
            "error_x": {
             "color": "#2a3f5f"
            },
            "error_y": {
             "color": "#2a3f5f"
            },
            "marker": {
             "line": {
              "color": "white",
              "width": 0.5
             },
             "pattern": {
              "fillmode": "overlay",
              "size": 10,
              "solidity": 0.2
             }
            },
            "type": "bar"
           }
          ],
          "barpolar": [
           {
            "marker": {
             "line": {
              "color": "white",
              "width": 0.5
             },
             "pattern": {
              "fillmode": "overlay",
              "size": 10,
              "solidity": 0.2
             }
            },
            "type": "barpolar"
           }
          ],
          "carpet": [
           {
            "aaxis": {
             "endlinecolor": "#2a3f5f",
             "gridcolor": "#C8D4E3",
             "linecolor": "#C8D4E3",
             "minorgridcolor": "#C8D4E3",
             "startlinecolor": "#2a3f5f"
            },
            "baxis": {
             "endlinecolor": "#2a3f5f",
             "gridcolor": "#C8D4E3",
             "linecolor": "#C8D4E3",
             "minorgridcolor": "#C8D4E3",
             "startlinecolor": "#2a3f5f"
            },
            "type": "carpet"
           }
          ],
          "choropleth": [
           {
            "colorbar": {
             "outlinewidth": 0,
             "ticks": ""
            },
            "type": "choropleth"
           }
          ],
          "contour": [
           {
            "colorbar": {
             "outlinewidth": 0,
             "ticks": ""
            },
            "colorscale": [
             [
              0,
              "#0d0887"
             ],
             [
              0.1111111111111111,
              "#46039f"
             ],
             [
              0.2222222222222222,
              "#7201a8"
             ],
             [
              0.3333333333333333,
              "#9c179e"
             ],
             [
              0.4444444444444444,
              "#bd3786"
             ],
             [
              0.5555555555555556,
              "#d8576b"
             ],
             [
              0.6666666666666666,
              "#ed7953"
             ],
             [
              0.7777777777777778,
              "#fb9f3a"
             ],
             [
              0.8888888888888888,
              "#fdca26"
             ],
             [
              1,
              "#f0f921"
             ]
            ],
            "type": "contour"
           }
          ],
          "contourcarpet": [
           {
            "colorbar": {
             "outlinewidth": 0,
             "ticks": ""
            },
            "type": "contourcarpet"
           }
          ],
          "heatmap": [
           {
            "colorbar": {
             "outlinewidth": 0,
             "ticks": ""
            },
            "colorscale": [
             [
              0,
              "#0d0887"
             ],
             [
              0.1111111111111111,
              "#46039f"
             ],
             [
              0.2222222222222222,
              "#7201a8"
             ],
             [
              0.3333333333333333,
              "#9c179e"
             ],
             [
              0.4444444444444444,
              "#bd3786"
             ],
             [
              0.5555555555555556,
              "#d8576b"
             ],
             [
              0.6666666666666666,
              "#ed7953"
             ],
             [
              0.7777777777777778,
              "#fb9f3a"
             ],
             [
              0.8888888888888888,
              "#fdca26"
             ],
             [
              1,
              "#f0f921"
             ]
            ],
            "type": "heatmap"
           }
          ],
          "histogram": [
           {
            "marker": {
             "pattern": {
              "fillmode": "overlay",
              "size": 10,
              "solidity": 0.2
             }
            },
            "type": "histogram"
           }
          ],
          "histogram2d": [
           {
            "colorbar": {
             "outlinewidth": 0,
             "ticks": ""
            },
            "colorscale": [
             [
              0,
              "#0d0887"
             ],
             [
              0.1111111111111111,
              "#46039f"
             ],
             [
              0.2222222222222222,
              "#7201a8"
             ],
             [
              0.3333333333333333,
              "#9c179e"
             ],
             [
              0.4444444444444444,
              "#bd3786"
             ],
             [
              0.5555555555555556,
              "#d8576b"
             ],
             [
              0.6666666666666666,
              "#ed7953"
             ],
             [
              0.7777777777777778,
              "#fb9f3a"
             ],
             [
              0.8888888888888888,
              "#fdca26"
             ],
             [
              1,
              "#f0f921"
             ]
            ],
            "type": "histogram2d"
           }
          ],
          "histogram2dcontour": [
           {
            "colorbar": {
             "outlinewidth": 0,
             "ticks": ""
            },
            "colorscale": [
             [
              0,
              "#0d0887"
             ],
             [
              0.1111111111111111,
              "#46039f"
             ],
             [
              0.2222222222222222,
              "#7201a8"
             ],
             [
              0.3333333333333333,
              "#9c179e"
             ],
             [
              0.4444444444444444,
              "#bd3786"
             ],
             [
              0.5555555555555556,
              "#d8576b"
             ],
             [
              0.6666666666666666,
              "#ed7953"
             ],
             [
              0.7777777777777778,
              "#fb9f3a"
             ],
             [
              0.8888888888888888,
              "#fdca26"
             ],
             [
              1,
              "#f0f921"
             ]
            ],
            "type": "histogram2dcontour"
           }
          ],
          "mesh3d": [
           {
            "colorbar": {
             "outlinewidth": 0,
             "ticks": ""
            },
            "type": "mesh3d"
           }
          ],
          "parcoords": [
           {
            "line": {
             "colorbar": {
              "outlinewidth": 0,
              "ticks": ""
             }
            },
            "type": "parcoords"
           }
          ],
          "pie": [
           {
            "automargin": true,
            "type": "pie"
           }
          ],
          "scatter": [
           {
            "fillpattern": {
             "fillmode": "overlay",
             "size": 10,
             "solidity": 0.2
            },
            "type": "scatter"
           }
          ],
          "scatter3d": [
           {
            "line": {
             "colorbar": {
              "outlinewidth": 0,
              "ticks": ""
             }
            },
            "marker": {
             "colorbar": {
              "outlinewidth": 0,
              "ticks": ""
             }
            },
            "type": "scatter3d"
           }
          ],
          "scattercarpet": [
           {
            "marker": {
             "colorbar": {
              "outlinewidth": 0,
              "ticks": ""
             }
            },
            "type": "scattercarpet"
           }
          ],
          "scattergeo": [
           {
            "marker": {
             "colorbar": {
              "outlinewidth": 0,
              "ticks": ""
             }
            },
            "type": "scattergeo"
           }
          ],
          "scattergl": [
           {
            "marker": {
             "colorbar": {
              "outlinewidth": 0,
              "ticks": ""
             }
            },
            "type": "scattergl"
           }
          ],
          "scattermap": [
           {
            "marker": {
             "colorbar": {
              "outlinewidth": 0,
              "ticks": ""
             }
            },
            "type": "scattermap"
           }
          ],
          "scattermapbox": [
           {
            "marker": {
             "colorbar": {
              "outlinewidth": 0,
              "ticks": ""
             }
            },
            "type": "scattermapbox"
           }
          ],
          "scatterpolar": [
           {
            "marker": {
             "colorbar": {
              "outlinewidth": 0,
              "ticks": ""
             }
            },
            "type": "scatterpolar"
           }
          ],
          "scatterpolargl": [
           {
            "marker": {
             "colorbar": {
              "outlinewidth": 0,
              "ticks": ""
             }
            },
            "type": "scatterpolargl"
           }
          ],
          "scatterternary": [
           {
            "marker": {
             "colorbar": {
              "outlinewidth": 0,
              "ticks": ""
             }
            },
            "type": "scatterternary"
           }
          ],
          "surface": [
           {
            "colorbar": {
             "outlinewidth": 0,
             "ticks": ""
            },
            "colorscale": [
             [
              0,
              "#0d0887"
             ],
             [
              0.1111111111111111,
              "#46039f"
             ],
             [
              0.2222222222222222,
              "#7201a8"
             ],
             [
              0.3333333333333333,
              "#9c179e"
             ],
             [
              0.4444444444444444,
              "#bd3786"
             ],
             [
              0.5555555555555556,
              "#d8576b"
             ],
             [
              0.6666666666666666,
              "#ed7953"
             ],
             [
              0.7777777777777778,
              "#fb9f3a"
             ],
             [
              0.8888888888888888,
              "#fdca26"
             ],
             [
              1,
              "#f0f921"
             ]
            ],
            "type": "surface"
           }
          ],
          "table": [
           {
            "cells": {
             "fill": {
              "color": "#EBF0F8"
             },
             "line": {
              "color": "white"
             }
            },
            "header": {
             "fill": {
              "color": "#C8D4E3"
             },
             "line": {
              "color": "white"
             }
            },
            "type": "table"
           }
          ]
         },
         "layout": {
          "annotationdefaults": {
           "arrowcolor": "#2a3f5f",
           "arrowhead": 0,
           "arrowwidth": 1
          },
          "autotypenumbers": "strict",
          "coloraxis": {
           "colorbar": {
            "outlinewidth": 0,
            "ticks": ""
           }
          },
          "colorscale": {
           "diverging": [
            [
             0,
             "#8e0152"
            ],
            [
             0.1,
             "#c51b7d"
            ],
            [
             0.2,
             "#de77ae"
            ],
            [
             0.3,
             "#f1b6da"
            ],
            [
             0.4,
             "#fde0ef"
            ],
            [
             0.5,
             "#f7f7f7"
            ],
            [
             0.6,
             "#e6f5d0"
            ],
            [
             0.7,
             "#b8e186"
            ],
            [
             0.8,
             "#7fbc41"
            ],
            [
             0.9,
             "#4d9221"
            ],
            [
             1,
             "#276419"
            ]
           ],
           "sequential": [
            [
             0,
             "#0d0887"
            ],
            [
             0.1111111111111111,
             "#46039f"
            ],
            [
             0.2222222222222222,
             "#7201a8"
            ],
            [
             0.3333333333333333,
             "#9c179e"
            ],
            [
             0.4444444444444444,
             "#bd3786"
            ],
            [
             0.5555555555555556,
             "#d8576b"
            ],
            [
             0.6666666666666666,
             "#ed7953"
            ],
            [
             0.7777777777777778,
             "#fb9f3a"
            ],
            [
             0.8888888888888888,
             "#fdca26"
            ],
            [
             1,
             "#f0f921"
            ]
           ],
           "sequentialminus": [
            [
             0,
             "#0d0887"
            ],
            [
             0.1111111111111111,
             "#46039f"
            ],
            [
             0.2222222222222222,
             "#7201a8"
            ],
            [
             0.3333333333333333,
             "#9c179e"
            ],
            [
             0.4444444444444444,
             "#bd3786"
            ],
            [
             0.5555555555555556,
             "#d8576b"
            ],
            [
             0.6666666666666666,
             "#ed7953"
            ],
            [
             0.7777777777777778,
             "#fb9f3a"
            ],
            [
             0.8888888888888888,
             "#fdca26"
            ],
            [
             1,
             "#f0f921"
            ]
           ]
          },
          "colorway": [
           "#636efa",
           "#EF553B",
           "#00cc96",
           "#ab63fa",
           "#FFA15A",
           "#19d3f3",
           "#FF6692",
           "#B6E880",
           "#FF97FF",
           "#FECB52"
          ],
          "font": {
           "color": "#2a3f5f"
          },
          "geo": {
           "bgcolor": "white",
           "lakecolor": "white",
           "landcolor": "white",
           "showlakes": true,
           "showland": true,
           "subunitcolor": "#C8D4E3"
          },
          "hoverlabel": {
           "align": "left"
          },
          "hovermode": "closest",
          "mapbox": {
           "style": "light"
          },
          "paper_bgcolor": "white",
          "plot_bgcolor": "white",
          "polar": {
           "angularaxis": {
            "gridcolor": "#EBF0F8",
            "linecolor": "#EBF0F8",
            "ticks": ""
           },
           "bgcolor": "white",
           "radialaxis": {
            "gridcolor": "#EBF0F8",
            "linecolor": "#EBF0F8",
            "ticks": ""
           }
          },
          "scene": {
           "xaxis": {
            "backgroundcolor": "white",
            "gridcolor": "#DFE8F3",
            "gridwidth": 2,
            "linecolor": "#EBF0F8",
            "showbackground": true,
            "ticks": "",
            "zerolinecolor": "#EBF0F8"
           },
           "yaxis": {
            "backgroundcolor": "white",
            "gridcolor": "#DFE8F3",
            "gridwidth": 2,
            "linecolor": "#EBF0F8",
            "showbackground": true,
            "ticks": "",
            "zerolinecolor": "#EBF0F8"
           },
           "zaxis": {
            "backgroundcolor": "white",
            "gridcolor": "#DFE8F3",
            "gridwidth": 2,
            "linecolor": "#EBF0F8",
            "showbackground": true,
            "ticks": "",
            "zerolinecolor": "#EBF0F8"
           }
          },
          "shapedefaults": {
           "line": {
            "color": "#2a3f5f"
           }
          },
          "ternary": {
           "aaxis": {
            "gridcolor": "#DFE8F3",
            "linecolor": "#A2B1C6",
            "ticks": ""
           },
           "baxis": {
            "gridcolor": "#DFE8F3",
            "linecolor": "#A2B1C6",
            "ticks": ""
           },
           "bgcolor": "white",
           "caxis": {
            "gridcolor": "#DFE8F3",
            "linecolor": "#A2B1C6",
            "ticks": ""
           }
          },
          "title": {
           "x": 0.05
          },
          "xaxis": {
           "automargin": true,
           "gridcolor": "#EBF0F8",
           "linecolor": "#EBF0F8",
           "ticks": "",
           "title": {
            "standoff": 15
           },
           "zerolinecolor": "#EBF0F8",
           "zerolinewidth": 2
          },
          "yaxis": {
           "automargin": true,
           "gridcolor": "#EBF0F8",
           "linecolor": "#EBF0F8",
           "ticks": "",
           "title": {
            "standoff": 15
           },
           "zerolinecolor": "#EBF0F8",
           "zerolinewidth": 2
          }
         }
        },
        "title": {
         "text": "TLS agg: Mean speed (avg over TLS)"
        },
        "xaxis": {
         "anchor": "y",
         "domain": [
          0,
          1
         ],
         "title": {
          "text": "time (s)"
         }
        },
        "yaxis": {
         "anchor": "x",
         "domain": [
          0,
          1
         ],
         "title": {
          "text": "m/s"
         }
        }
       }
      }
     },
     "metadata": {},
     "output_type": "display_data"
    }
   ],
   "source": [
    "tls_agg = (tls_c\n",
    "           .groupby([\"scenario\", \"time_rounded\"], as_index=False)\n",
    "           .agg({\n",
    "               \"tls_queue_len\": \"sum\",\n",
    "               \"tls_waiting_time_snapshot\": \"sum\",\n",
    "               \"tls_mean_speed\": \"mean\"\n",
    "           }))\n",
    "\n",
    "plot_tls_agg_metric(tls_agg, \"tls_queue_len\", \"TLS agg: Queue length (sum over TLS)\", \"vehicles stopped\")\n",
    "plot_tls_agg_metric(tls_agg, \"tls_waiting_time_snapshot\", \"TLS agg: Waiting time snapshot (sum over TLS)\", \"seconds\")\n",
    "plot_tls_agg_metric(tls_agg, \"tls_mean_speed\", \"TLS agg: Mean speed (avg over TLS)\", \"m/s\")"
   ]
  },
  {
   "cell_type": "markdown",
   "id": "ef50a5bb",
   "metadata": {},
   "source": [
    "# TLS: интерактивный выбор светофора (если есть ipywidgets)"
   ]
  },
  {
   "cell_type": "code",
   "execution_count": 22,
   "id": "0b9a4272",
   "metadata": {},
   "outputs": [
    {
     "data": {
      "application/vnd.jupyter.widget-view+json": {
       "model_id": "0e94c476b1794b8687e8477ddd60d9b3",
       "version_major": 2,
       "version_minor": 0
      },
      "text/plain": [
       "Dropdown(description='TLS ID:', options=('317267021', '318319948', '318319950', '344715428', '459095577', '459…"
      ]
     },
     "metadata": {},
     "output_type": "display_data"
    },
    {
     "data": {
      "application/vnd.jupyter.widget-view+json": {
       "model_id": "0b01587908e2409b8bf426434ef169e5",
       "version_major": 2,
       "version_minor": 0
      },
      "text/plain": [
       "Output()"
      ]
     },
     "metadata": {},
     "output_type": "display_data"
    },
    {
     "data": {
      "application/vnd.plotly.v1+json": {
       "config": {
        "plotlyServerURL": "https://plot.ly"
       },
       "data": [
        {
         "hovertemplate": "scenario=with_agent<br>time_rounded=%{x}<br>tls_queue_len=%{y}<extra></extra>",
         "legendgroup": "with_agent",
         "line": {
          "color": "#636efa",
          "dash": "solid"
         },
         "marker": {
          "symbol": "circle"
         },
         "mode": "lines+markers",
         "name": "with_agent",
         "orientation": "v",
         "showlegend": true,
         "type": "scatter",
         "x": {
          "bdata": "AQALABUAHwApADMAPQBHAFEAWwBlAG8AeQCDAI0AlwChAKsAtQC/AMkA0wDdAOcA8QD7AAUBDwEZASMBLQE3AUEBSwFVAV8BaQFzAX0BhwGRAZsBpQGvAbkBwwHNAdcB4QHrAfUB/wEJAhMCHQInAjECOwJFAk8CWQJjAm0CdwKBAosClQKfAqkCswK9AscC0QLbAuUC7wL5AgMDDQMXAyEDKwM1Az8DSQNTA10DZwNxA3sDhQOPA5kDowOtA7cDwQPLA9UD3wPpA/MD/QMHBBEEGwQlBC8EOQRDBE0EVwRhBGsEdQR/BIkEkwSdBKcEsQS7BMUEzwTZBOME7QT3BAEFCwUVBR8FKQUzBT0FRwVRBVsFZQVvBXkFgwWNBZcFoQWrBbUFvwXJBdMF3QXnBfEF+wUFBg8GGQYjBi0GNwZBBksGVQZfBmkGcwZ9BocGkQabBqUGrwa5BsMGzQbXBuEG6wb1Bv8GCQcTBx0HJwcxBzsHRQdPB1kHYwdtB3cHgQeLB5UHnwepB7MHvQfHB9EH2wflB+8H+QcDCA0IFwghCCsINQg/CEkIUwhdCGcIcQh7CIUIjwiZCKMIrQi3CMEIywjVCN8I6QjzCP0IBwkRCRsJJQkvCTkJQwlNCVcJYQlrCXUJfwmJCZMJnQmnCbEJuwnFCc8J2QnjCe0J9wkBCgsKFQofCikKMwo9CkcKUQpbCmUKbwp5CoMKjQqXCqEKqwq1Cr8KyQrTCt0K5wrxCvsKBQsPCxkLIwstCzcLQQtLC1ULXwtpC3MLfQuHC5ELmwulC68LuQvDC80L1wvhC+sL9Qv/CwkMEwwdDCcMMQw7DEUMTwxZDGMMbQx3DIEMiwyVDJ8MqQyzDL0MxwzRDNsM5QzvDPkMAw0NDRcNIQ0rDTUNPw1JDVMNXQ1nDXENew2FDY8NmQ2jDa0Ntw3BDcsN1Q3fDekN8w39DQcO",
          "dtype": "i2"
         },
         "xaxis": "x",
         "y": {
          "bdata": "AAAAAAAAAAAAAAABAwMEAAAAAAEBAQICAQABAAEBAAIAAAAAAAEBAQEBAAAAAQAAAAAAAQQEBQUBAwAAAAAAAAAAAQAAAAAAAQECAgAAAAABAgQGAAACAwACAAEAAAAAAQICAgUDBAEBAgABAAAAAQQEBAYCAgECAAABAAAAAAAAAQEAAAABAgMDBAIAAAEAAAEBAQICAQEAAAABAgABAAEDBQcHAQIAAAAAAAIGAgEDAAEAAAIAAQAAAAABAQEAAAAAAQECAwMBAQECAQABAQEBAgAAAAAAAAEAAAECAwMEAQEAAAAAAAMFBwgDAQUFBQgJAgADBQcHBwEBAgEHCQoFBQQEBQUICAgMDg8JCgoKCgoKCgsLCgoKCgoDBwMBAQIEBQIAAAAAAQICAgMCAAEAAAEBAQIAAAABAQEAAgAAAAAAAAEEBQUHBAQHAAIBAAAAAAIAAQEBAwMAAAAAAAABAAEDAAEA",
          "dtype": "i1"
         },
         "yaxis": "y"
        },
        {
         "hovertemplate": "scenario=without_agent<br>time_rounded=%{x}<br>tls_queue_len=%{y}<extra></extra>",
         "legendgroup": "without_agent",
         "line": {
          "color": "#EF553B",
          "dash": "solid"
         },
         "marker": {
          "symbol": "circle"
         },
         "mode": "lines+markers",
         "name": "without_agent",
         "orientation": "v",
         "showlegend": true,
         "type": "scatter",
         "x": {
          "bdata": "AQALABUAHwApADMAPQBHAFEAWwBlAG8AeQCDAI0AlwChAKsAtQC/AMkA0wDdAOcA8QD7AAUBDwEZASMBLQE3AUEBSwFVAV8BaQFzAX0BhwGRAZsBpQGvAbkBwwHNAdcB4QHrAfUB/wEJAhMCHQInAjECOwJFAk8CWQJjAm0CdwKBAosClQKfAqkCswK9AscC0QLbAuUC7wL5AgMDDQMXAyEDKwM1Az8DSQNTA10DZwNxA3sDhQOPA5kDowOtA7cDwQPLA9UD3wPpA/MD/QMHBBEEGwQlBC8EOQRDBE0EVwRhBGsEdQR/BIkEkwSdBKcEsQS7BMUEzwTZBOME7QT3BAEFCwUVBR8FKQUzBT0FRwVRBVsFZQVvBXkFgwWNBZcFoQWrBbUFvwXJBdMF3QXnBfEF+wUFBg8GGQYjBi0GNwZBBksGVQZfBmkGcwZ9BocGkQabBqUGrwa5BsMGzQbXBuEG6wb1Bv8GCQcTBx0HJwcxBzsHRQdPB1kHYwdtB3cHgQeLB5UHnwepB7MHvQfHB9EH2wflB+8H+QcDCA0IFwghCCsINQg/CEkIUwhdCGcIcQh7CIUIjwiZCKMIrQi3CMEIywjVCN8I6QjzCP0IBwkRCRsJJQkvCTkJQwlNCVcJYQlrCXUJfwmJCZMJnQmnCbEJuwnFCc8J2QnjCe0J9wkBCgsKFQofCikKMwo9CkcKUQpbCmUKbwp5CoMKjQqXCqEKqwq1Cr8KyQrTCt0K5wrxCvsKBQsPCxkLIwstCzcLQQtLC1ULXwtpC3MLfQuHC5ELmwulC68LuQvDC80L1wvhC+sL9Qv/CwkMEwwdDCcMMQw7DEUMTwxZDGMMbQx3DIEMiwyVDJ8MqQyzDL0MxwzRDNsM5QzvDPkMAw0NDRcNIQ0rDTUNPw1JDVMNXQ1nDXENew2FDY8NmQ2jDa0Ntw3BDcsN1Q3fDekN8w39DQcO",
          "dtype": "i2"
         },
         "xaxis": "x",
         "y": {
          "bdata": "AAAAAAAAAAAAAAABAQAAAAABAQABAQAAAQABAAAFAgEAAAAAAAIAAAABAAAAAAAAAAAAAQEAAAACAAEBAQEAAAAAAAEBAQIAAQAAAAABAAAAAAECAAABAgABAQAAAQAAAQEAAAQBAQEAAQEAAAAAAQEBAgABAAEAAAMAAQAAAAAAAAMAAQABAAAAAQAAAAABAAAAAAABAAAAAAABAQEAAQABAAAAAAAAAAEAAAMCAgQBAQAAAQABAAAAAAABAQQGBQYGCAgJCggICAgICAgICAkKCwsKCgkJCQoJCQMIBwcHBwcHBwcHBwcHBwcHBwcHCAcHBwkHBwcHBwYBCAkMDwcLDQwMDQ0NDQ0ODQ0NDQ0NDg4ODQoODg4OCQ0ODw8PEBAQERERERERERERERESEhARERERERERDwsEDAYHBgkKCgoKCgcGBgUDAwcHCQsGBwQEAQIAAgIAAQICAQMAAQEBAwAAAwMC",
          "dtype": "i1"
         },
         "yaxis": "y"
        }
       ],
       "layout": {
        "legend": {
         "title": {
          "text": "Scenario"
         },
         "tracegroupgap": 0
        },
        "template": {
         "data": {
          "bar": [
           {
            "error_x": {
             "color": "#2a3f5f"
            },
            "error_y": {
             "color": "#2a3f5f"
            },
            "marker": {
             "line": {
              "color": "white",
              "width": 0.5
             },
             "pattern": {
              "fillmode": "overlay",
              "size": 10,
              "solidity": 0.2
             }
            },
            "type": "bar"
           }
          ],
          "barpolar": [
           {
            "marker": {
             "line": {
              "color": "white",
              "width": 0.5
             },
             "pattern": {
              "fillmode": "overlay",
              "size": 10,
              "solidity": 0.2
             }
            },
            "type": "barpolar"
           }
          ],
          "carpet": [
           {
            "aaxis": {
             "endlinecolor": "#2a3f5f",
             "gridcolor": "#C8D4E3",
             "linecolor": "#C8D4E3",
             "minorgridcolor": "#C8D4E3",
             "startlinecolor": "#2a3f5f"
            },
            "baxis": {
             "endlinecolor": "#2a3f5f",
             "gridcolor": "#C8D4E3",
             "linecolor": "#C8D4E3",
             "minorgridcolor": "#C8D4E3",
             "startlinecolor": "#2a3f5f"
            },
            "type": "carpet"
           }
          ],
          "choropleth": [
           {
            "colorbar": {
             "outlinewidth": 0,
             "ticks": ""
            },
            "type": "choropleth"
           }
          ],
          "contour": [
           {
            "colorbar": {
             "outlinewidth": 0,
             "ticks": ""
            },
            "colorscale": [
             [
              0,
              "#0d0887"
             ],
             [
              0.1111111111111111,
              "#46039f"
             ],
             [
              0.2222222222222222,
              "#7201a8"
             ],
             [
              0.3333333333333333,
              "#9c179e"
             ],
             [
              0.4444444444444444,
              "#bd3786"
             ],
             [
              0.5555555555555556,
              "#d8576b"
             ],
             [
              0.6666666666666666,
              "#ed7953"
             ],
             [
              0.7777777777777778,
              "#fb9f3a"
             ],
             [
              0.8888888888888888,
              "#fdca26"
             ],
             [
              1,
              "#f0f921"
             ]
            ],
            "type": "contour"
           }
          ],
          "contourcarpet": [
           {
            "colorbar": {
             "outlinewidth": 0,
             "ticks": ""
            },
            "type": "contourcarpet"
           }
          ],
          "heatmap": [
           {
            "colorbar": {
             "outlinewidth": 0,
             "ticks": ""
            },
            "colorscale": [
             [
              0,
              "#0d0887"
             ],
             [
              0.1111111111111111,
              "#46039f"
             ],
             [
              0.2222222222222222,
              "#7201a8"
             ],
             [
              0.3333333333333333,
              "#9c179e"
             ],
             [
              0.4444444444444444,
              "#bd3786"
             ],
             [
              0.5555555555555556,
              "#d8576b"
             ],
             [
              0.6666666666666666,
              "#ed7953"
             ],
             [
              0.7777777777777778,
              "#fb9f3a"
             ],
             [
              0.8888888888888888,
              "#fdca26"
             ],
             [
              1,
              "#f0f921"
             ]
            ],
            "type": "heatmap"
           }
          ],
          "histogram": [
           {
            "marker": {
             "pattern": {
              "fillmode": "overlay",
              "size": 10,
              "solidity": 0.2
             }
            },
            "type": "histogram"
           }
          ],
          "histogram2d": [
           {
            "colorbar": {
             "outlinewidth": 0,
             "ticks": ""
            },
            "colorscale": [
             [
              0,
              "#0d0887"
             ],
             [
              0.1111111111111111,
              "#46039f"
             ],
             [
              0.2222222222222222,
              "#7201a8"
             ],
             [
              0.3333333333333333,
              "#9c179e"
             ],
             [
              0.4444444444444444,
              "#bd3786"
             ],
             [
              0.5555555555555556,
              "#d8576b"
             ],
             [
              0.6666666666666666,
              "#ed7953"
             ],
             [
              0.7777777777777778,
              "#fb9f3a"
             ],
             [
              0.8888888888888888,
              "#fdca26"
             ],
             [
              1,
              "#f0f921"
             ]
            ],
            "type": "histogram2d"
           }
          ],
          "histogram2dcontour": [
           {
            "colorbar": {
             "outlinewidth": 0,
             "ticks": ""
            },
            "colorscale": [
             [
              0,
              "#0d0887"
             ],
             [
              0.1111111111111111,
              "#46039f"
             ],
             [
              0.2222222222222222,
              "#7201a8"
             ],
             [
              0.3333333333333333,
              "#9c179e"
             ],
             [
              0.4444444444444444,
              "#bd3786"
             ],
             [
              0.5555555555555556,
              "#d8576b"
             ],
             [
              0.6666666666666666,
              "#ed7953"
             ],
             [
              0.7777777777777778,
              "#fb9f3a"
             ],
             [
              0.8888888888888888,
              "#fdca26"
             ],
             [
              1,
              "#f0f921"
             ]
            ],
            "type": "histogram2dcontour"
           }
          ],
          "mesh3d": [
           {
            "colorbar": {
             "outlinewidth": 0,
             "ticks": ""
            },
            "type": "mesh3d"
           }
          ],
          "parcoords": [
           {
            "line": {
             "colorbar": {
              "outlinewidth": 0,
              "ticks": ""
             }
            },
            "type": "parcoords"
           }
          ],
          "pie": [
           {
            "automargin": true,
            "type": "pie"
           }
          ],
          "scatter": [
           {
            "fillpattern": {
             "fillmode": "overlay",
             "size": 10,
             "solidity": 0.2
            },
            "type": "scatter"
           }
          ],
          "scatter3d": [
           {
            "line": {
             "colorbar": {
              "outlinewidth": 0,
              "ticks": ""
             }
            },
            "marker": {
             "colorbar": {
              "outlinewidth": 0,
              "ticks": ""
             }
            },
            "type": "scatter3d"
           }
          ],
          "scattercarpet": [
           {
            "marker": {
             "colorbar": {
              "outlinewidth": 0,
              "ticks": ""
             }
            },
            "type": "scattercarpet"
           }
          ],
          "scattergeo": [
           {
            "marker": {
             "colorbar": {
              "outlinewidth": 0,
              "ticks": ""
             }
            },
            "type": "scattergeo"
           }
          ],
          "scattergl": [
           {
            "marker": {
             "colorbar": {
              "outlinewidth": 0,
              "ticks": ""
             }
            },
            "type": "scattergl"
           }
          ],
          "scattermap": [
           {
            "marker": {
             "colorbar": {
              "outlinewidth": 0,
              "ticks": ""
             }
            },
            "type": "scattermap"
           }
          ],
          "scattermapbox": [
           {
            "marker": {
             "colorbar": {
              "outlinewidth": 0,
              "ticks": ""
             }
            },
            "type": "scattermapbox"
           }
          ],
          "scatterpolar": [
           {
            "marker": {
             "colorbar": {
              "outlinewidth": 0,
              "ticks": ""
             }
            },
            "type": "scatterpolar"
           }
          ],
          "scatterpolargl": [
           {
            "marker": {
             "colorbar": {
              "outlinewidth": 0,
              "ticks": ""
             }
            },
            "type": "scatterpolargl"
           }
          ],
          "scatterternary": [
           {
            "marker": {
             "colorbar": {
              "outlinewidth": 0,
              "ticks": ""
             }
            },
            "type": "scatterternary"
           }
          ],
          "surface": [
           {
            "colorbar": {
             "outlinewidth": 0,
             "ticks": ""
            },
            "colorscale": [
             [
              0,
              "#0d0887"
             ],
             [
              0.1111111111111111,
              "#46039f"
             ],
             [
              0.2222222222222222,
              "#7201a8"
             ],
             [
              0.3333333333333333,
              "#9c179e"
             ],
             [
              0.4444444444444444,
              "#bd3786"
             ],
             [
              0.5555555555555556,
              "#d8576b"
             ],
             [
              0.6666666666666666,
              "#ed7953"
             ],
             [
              0.7777777777777778,
              "#fb9f3a"
             ],
             [
              0.8888888888888888,
              "#fdca26"
             ],
             [
              1,
              "#f0f921"
             ]
            ],
            "type": "surface"
           }
          ],
          "table": [
           {
            "cells": {
             "fill": {
              "color": "#EBF0F8"
             },
             "line": {
              "color": "white"
             }
            },
            "header": {
             "fill": {
              "color": "#C8D4E3"
             },
             "line": {
              "color": "white"
             }
            },
            "type": "table"
           }
          ]
         },
         "layout": {
          "annotationdefaults": {
           "arrowcolor": "#2a3f5f",
           "arrowhead": 0,
           "arrowwidth": 1
          },
          "autotypenumbers": "strict",
          "coloraxis": {
           "colorbar": {
            "outlinewidth": 0,
            "ticks": ""
           }
          },
          "colorscale": {
           "diverging": [
            [
             0,
             "#8e0152"
            ],
            [
             0.1,
             "#c51b7d"
            ],
            [
             0.2,
             "#de77ae"
            ],
            [
             0.3,
             "#f1b6da"
            ],
            [
             0.4,
             "#fde0ef"
            ],
            [
             0.5,
             "#f7f7f7"
            ],
            [
             0.6,
             "#e6f5d0"
            ],
            [
             0.7,
             "#b8e186"
            ],
            [
             0.8,
             "#7fbc41"
            ],
            [
             0.9,
             "#4d9221"
            ],
            [
             1,
             "#276419"
            ]
           ],
           "sequential": [
            [
             0,
             "#0d0887"
            ],
            [
             0.1111111111111111,
             "#46039f"
            ],
            [
             0.2222222222222222,
             "#7201a8"
            ],
            [
             0.3333333333333333,
             "#9c179e"
            ],
            [
             0.4444444444444444,
             "#bd3786"
            ],
            [
             0.5555555555555556,
             "#d8576b"
            ],
            [
             0.6666666666666666,
             "#ed7953"
            ],
            [
             0.7777777777777778,
             "#fb9f3a"
            ],
            [
             0.8888888888888888,
             "#fdca26"
            ],
            [
             1,
             "#f0f921"
            ]
           ],
           "sequentialminus": [
            [
             0,
             "#0d0887"
            ],
            [
             0.1111111111111111,
             "#46039f"
            ],
            [
             0.2222222222222222,
             "#7201a8"
            ],
            [
             0.3333333333333333,
             "#9c179e"
            ],
            [
             0.4444444444444444,
             "#bd3786"
            ],
            [
             0.5555555555555556,
             "#d8576b"
            ],
            [
             0.6666666666666666,
             "#ed7953"
            ],
            [
             0.7777777777777778,
             "#fb9f3a"
            ],
            [
             0.8888888888888888,
             "#fdca26"
            ],
            [
             1,
             "#f0f921"
            ]
           ]
          },
          "colorway": [
           "#636efa",
           "#EF553B",
           "#00cc96",
           "#ab63fa",
           "#FFA15A",
           "#19d3f3",
           "#FF6692",
           "#B6E880",
           "#FF97FF",
           "#FECB52"
          ],
          "font": {
           "color": "#2a3f5f"
          },
          "geo": {
           "bgcolor": "white",
           "lakecolor": "white",
           "landcolor": "white",
           "showlakes": true,
           "showland": true,
           "subunitcolor": "#C8D4E3"
          },
          "hoverlabel": {
           "align": "left"
          },
          "hovermode": "closest",
          "mapbox": {
           "style": "light"
          },
          "paper_bgcolor": "white",
          "plot_bgcolor": "white",
          "polar": {
           "angularaxis": {
            "gridcolor": "#EBF0F8",
            "linecolor": "#EBF0F8",
            "ticks": ""
           },
           "bgcolor": "white",
           "radialaxis": {
            "gridcolor": "#EBF0F8",
            "linecolor": "#EBF0F8",
            "ticks": ""
           }
          },
          "scene": {
           "xaxis": {
            "backgroundcolor": "white",
            "gridcolor": "#DFE8F3",
            "gridwidth": 2,
            "linecolor": "#EBF0F8",
            "showbackground": true,
            "ticks": "",
            "zerolinecolor": "#EBF0F8"
           },
           "yaxis": {
            "backgroundcolor": "white",
            "gridcolor": "#DFE8F3",
            "gridwidth": 2,
            "linecolor": "#EBF0F8",
            "showbackground": true,
            "ticks": "",
            "zerolinecolor": "#EBF0F8"
           },
           "zaxis": {
            "backgroundcolor": "white",
            "gridcolor": "#DFE8F3",
            "gridwidth": 2,
            "linecolor": "#EBF0F8",
            "showbackground": true,
            "ticks": "",
            "zerolinecolor": "#EBF0F8"
           }
          },
          "shapedefaults": {
           "line": {
            "color": "#2a3f5f"
           }
          },
          "ternary": {
           "aaxis": {
            "gridcolor": "#DFE8F3",
            "linecolor": "#A2B1C6",
            "ticks": ""
           },
           "baxis": {
            "gridcolor": "#DFE8F3",
            "linecolor": "#A2B1C6",
            "ticks": ""
           },
           "bgcolor": "white",
           "caxis": {
            "gridcolor": "#DFE8F3",
            "linecolor": "#A2B1C6",
            "ticks": ""
           }
          },
          "title": {
           "x": 0.05
          },
          "xaxis": {
           "automargin": true,
           "gridcolor": "#EBF0F8",
           "linecolor": "#EBF0F8",
           "ticks": "",
           "title": {
            "standoff": 15
           },
           "zerolinecolor": "#EBF0F8",
           "zerolinewidth": 2
          },
          "yaxis": {
           "automargin": true,
           "gridcolor": "#EBF0F8",
           "linecolor": "#EBF0F8",
           "ticks": "",
           "title": {
            "standoff": 15
           },
           "zerolinecolor": "#EBF0F8",
           "zerolinewidth": 2
          }
         }
        },
        "title": {
         "text": "TLS 317267021 — Queue length"
        },
        "xaxis": {
         "anchor": "y",
         "domain": [
          0,
          1
         ],
         "title": {
          "text": "time (s)"
         }
        },
        "yaxis": {
         "anchor": "x",
         "domain": [
          0,
          1
         ],
         "title": {
          "text": "tls_queue_len"
         }
        }
       }
      }
     },
     "metadata": {},
     "output_type": "display_data"
    },
    {
     "data": {
      "application/vnd.plotly.v1+json": {
       "config": {
        "plotlyServerURL": "https://plot.ly"
       },
       "data": [
        {
         "hovertemplate": "scenario=with_agent<br>time_rounded=%{x}<br>tls_waiting_time_snapshot=%{y}<extra></extra>",
         "legendgroup": "with_agent",
         "line": {
          "color": "#636efa",
          "dash": "solid"
         },
         "marker": {
          "symbol": "circle"
         },
         "mode": "lines+markers",
         "name": "with_agent",
         "orientation": "v",
         "showlegend": true,
         "type": "scatter",
         "x": {
          "bdata": "AQALABUAHwApADMAPQBHAFEAWwBlAG8AeQCDAI0AlwChAKsAtQC/AMkA0wDdAOcA8QD7AAUBDwEZASMBLQE3AUEBSwFVAV8BaQFzAX0BhwGRAZsBpQGvAbkBwwHNAdcB4QHrAfUB/wEJAhMCHQInAjECOwJFAk8CWQJjAm0CdwKBAosClQKfAqkCswK9AscC0QLbAuUC7wL5AgMDDQMXAyEDKwM1Az8DSQNTA10DZwNxA3sDhQOPA5kDowOtA7cDwQPLA9UD3wPpA/MD/QMHBBEEGwQlBC8EOQRDBE0EVwRhBGsEdQR/BIkEkwSdBKcEsQS7BMUEzwTZBOME7QT3BAEFCwUVBR8FKQUzBT0FRwVRBVsFZQVvBXkFgwWNBZcFoQWrBbUFvwXJBdMF3QXnBfEF+wUFBg8GGQYjBi0GNwZBBksGVQZfBmkGcwZ9BocGkQabBqUGrwa5BsMGzQbXBuEG6wb1Bv8GCQcTBx0HJwcxBzsHRQdPB1kHYwdtB3cHgQeLB5UHnwepB7MHvQfHB9EH2wflB+8H+QcDCA0IFwghCCsINQg/CEkIUwhdCGcIcQh7CIUIjwiZCKMIrQi3CMEIywjVCN8I6QjzCP0IBwkRCRsJJQkvCTkJQwlNCVcJYQlrCXUJfwmJCZMJnQmnCbEJuwnFCc8J2QnjCe0J9wkBCgsKFQofCikKMwo9CkcKUQpbCmUKbwp5CoMKjQqXCqEKqwq1Cr8KyQrTCt0K5wrxCvsKBQsPCxkLIwstCzcLQQtLC1ULXwtpC3MLfQuHC5ELmwulC68LuQvDC80L1wvhC+sL9Qv/CwkMEwwdDCcMMQw7DEUMTwxZDGMMbQx3DIEMiwyVDJ8MqQyzDL0MxwzRDNsM5QzvDPkMAw0NDRcNIQ0rDTUNPw1JDVMNXQ1nDXENew2FDY8NmQ2jDa0Ntw3BDcsN1Q3fDekN8w39DQcO",
          "dtype": "i2"
         },
         "xaxis": "x",
         "y": {
          "bdata": "AAAAAAAAAAAAAAAAAAAAAAAAAAAAAAAAAAAAAAAAAAAAAAAAAAAAAAAAAAAAAAAAAAAAAAAAAAAAAAAAAAAAAAAAAAAAAAAAAAAAAAAAAAAAAAAAAAAAAAAAAAAAABhAAAAAAAAAOkAAAAAAAABMQAAAAAAAgFdAAAAAAAAAAAAAAAAAAAAAAAAAAAAAAAAAAAAAAAAAAAAAAAAAAAAIQAAAAAAAACpAAAAAAAAAN0AAAAAAAABFQAAAAAAAAE9AAAAAAAAAFEAAAAAAAAAAAAAAAAAAABBAAAAAAAAAAAAAAAAAAAAIQAAAAAAAACpAAAAAAAAAAAAAAAAAAAAYQAAAAAAAAAAAAAAAAAAAAAAAAAAAAAAAAAAAAAAAAAAAAAAAAAAAAAAAAAAAAAAIQAAAAAAAACpAAAAAAAAAN0AAAAAAAIBAQAAAAAAAABhAAAAAAAAAAAAAAAAAAAAAAAAAAAAAAAAAAAAAAAAAHEAAAAAAAAAAAAAAAAAAAAAAAAAAAAAAAAAAAAAAAAAAAAAAAAAAAAAAAAAAAAAAAEAAAAAAAAA7QAAAAAAAwFBAAAAAAAAAW0AAAAAAACBjQAAAAAAAABBAAAAAAAAALEAAAAAAAAAAAAAAAAAAAAAAAAAAAAAAAAAAAAAAAAAAAAAAAAAAAAAAAAAAAAAAAAAAAAAAAAAAAAAAAAAAAAAAAAAAAAAAFEAAAAAAAAAAAAAAAAAAAAAAAAAAAAAAAAAAAAAAAAAAAAAAAAAAAAAAAAAAAAAAHEAAAAAAAAAxQAAAAAAAAD5AAAAAAAAASUAAAAAAAAAAAAAAAAAAAAAAAAAAAAAAAAAAAAAAAAAAAAAAAAAAACRAAAAAAAAAPEAAAAAAAABQQAAAAAAAQFxAAAAAAAAAAAAAAAAAAAAAAAAAAAAAAChAAAAAAACAQ0AAAAAAAAAAAAAAAAAAABRAAAAAAAAAAAAAAAAAAAAgQAAAAAAAAAAAAAAAAAAAAAAAAAAAAAAAAAAAAAAAAAAAAAAAAAAA8D8AAAAAAAAqQAAAAAAAgEBAAAAAAACASkAAAAAAAEBVQAAAAAAAADVAAAAAAACAQEAAAAAAAAAgQAAAAAAAABRAAAAAAAAANkAAAAAAAAAAAAAAAAAAABhAAAAAAAAAAAAAAAAAAAAAAAAAAAAAAAAAAAAAAAAA8D8AAAAAAAA6QAAAAAAAgFBAAAAAAACAWkAAAAAAAIBjQAAAAAAAACBAAAAAAAAAPEAAAAAAAAAAQAAAAAAAADRAAAAAAAAAAAAAAAAAAAAAAAAAAAAAABBAAAAAAAAAAAAAAAAAAAAAAAAAAAAAAAAAAAAAAAAAAAAAAAAAAAAAAAAAAAAAAAAAAAAAAAAA8D8AAAAAAADwPwAAAAAAAAAAAAAAAAAAAAAAAAAAAAAAAAAAAAAAACJAAAAAAAAANkAAAAAAAIBIQAAAAAAAwFNAAAAAAAAAXUAAAAAAAAAYQAAAAAAAAAAAAAAAAAAAAAAAAAAAAADwPwAAAAAAAAAAAAAAAAAAAAAAAAAAAADwPwAAAAAAACZAAAAAAAAANUAAAAAAAABBQAAAAAAAAEtAAAAAAAAAGEAAAAAAAADwPwAAAAAAAAAAAAAAAAAAAAAAAAAAAAAAAAAAAAAAAABAAAAAAAAAMEAAAAAAAAAAAAAAAAAAAABAAAAAAAAAAAAAAAAAAADwPwAAAAAAADNAAAAAAAAAT0AAAAAAAABfQAAAAAAAQGhAAAAAAAAAAEAAAAAAAAAwQAAAAAAAAAAAAAAAAAAAAAAAAAAAAAAAAAAAAAAAAAAAAAAAAAAAAAAAAAAAAAAxQAAAAAAAgE5AAAAAAAAAMEAAAAAAAAAAQAAAAAAAADZAAAAAAAAAAAAAAAAAAAAIQAAAAAAAAAAAAAAAAAAAAAAAAAAAAAAcQAAAAAAAAAAAAAAAAAAAIEAAAAAAAAAAAAAAAAAAAAAAAAAAAAAAAAAAAAAAAAAAAAAAAAAAAPA/AAAAAAAAFEAAAAAAAAAIQAAAAAAAAAAAAAAAAAAAAAAAAAAAAAAAAAAAAAAAAAAAAAAAAAAA8D8AAAAAAAAmQAAAAAAAADZAAAAAAAAASUAAAAAAAABUQAAAAAAAAAhAAAAAAAAAKkAAAAAAAAAgQAAAAAAAABhAAAAAAAAA8D8AAAAAAAAAAAAAAAAAABRAAAAAAAAAHEAAAAAAAAAcQAAAAAAAAAhAAAAAAAAAGEAAAAAAAAAAAAAAAAAAAAAAAAAAAAAAAAAAAAAAAAAAAAAAAAAAAAAAAAAAAAAAAAAAAAAAAAAgQAAAAAAAAAAAAAAAAAAAAAAAAAAAAAAkQAAAAAAAADVAAAAAAAAARkAAAAAAAIBSQAAAAAAAgFpAAAAAAAAAFEAAAAAAAAAAQAAAAAAAAAAAAAAAAAAAAAAAAAAAAAAAAAAAAAAAAAAAAAAAAAAAAAAAAAAAAAA3QAAAAAAAAFJAAAAAAABAYUAAAAAAAGBqQAAAAAAAAEZAAAAAAAAACEAAAAAAAABBQAAAAAAAAFVAAAAAAADAYEAAAAAAACBqQAAAAAAAkHJAAAAAAAAAPUAAAAAAAAAAAAAAAAAAADJAAAAAAAAASUAAAAAAAABZQAAAAAAAQGVAAAAAAAAAbkAAAAAAAAAIQAAAAAAAABBAAAAAAAAAKkAAAAAAAAAQQAAAAAAAADxAAAAAAAAAXEAAAAAAAEBqQAAAAAAAAFtAAAAAAACAYkAAAAAAAEBnQAAAAAAAQGxAAAAAAAAAcUAAAAAAACB0QAAAAAAAkHhAAAAAAACQfUAAAAAAAEiBQAAAAAAAiIRAAAAAAADYiEAAAAAAAFiNQAAAAAAAiIxAAAAAAABwj0AAAAAAAEiRQAAAAAAA2JJAAAAAAABolEAAAAAAAPiVQAAAAAAAiJdAAAAAAAAYmUAAAAAAAKiaQAAAAAAAPJxAAAAAAADInUAAAAAAAFifQAAAAAAAdKBAAAAAAAA8oUAAAAAAAASiQAAAAAAAIIFAAAAAAACARkAAAAAAAAAoQAAAAAAAACZAAAAAAAAANUAAAAAAAABEQAAAAAAAwFJAAAAAAAAAXUAAAAAAAAAyQAAAAAAAAAAAAAAAAAAAAAAAAAAAAAAAAAAAAAAAAAAAAAAAAAAAJEAAAAAAAAA1QAAAAAAAgERAAAAAAACATkAAAAAAAEBVQAAAAAAAACJAAAAAAAAAAAAAAAAAAAAIQAAAAAAAAAAAAAAAAAAAAAAAAAAAAAAcQAAAAAAAADFAAAAAAAAAO0AAAAAAAABEQAAAAAAAAAAAAAAAAAAAAAAAAAAAAAAAAAAAAAAAACRAAAAAAAAAIEAAAAAAAAAAQAAAAAAAAAAAAAAAAAAAHEAAAAAAAAAAAAAAAAAAAAAAAAAAAAAAAAAAAAAAAAAAAAAAAAAAAAAAAAAAAAAAAAAAAAAAAADwPwAAAAAAADlAAAAAAAAAUUAAAAAAAIBdQAAAAAAAIGdAAAAAAADAYUAAAAAAAABQQAAAAAAAwF9AAAAAAAAAAAAAAAAAAAAoQAAAAAAAABRAAAAAAAAAAAAAAAAAAAAAAAAAAAAAAAAAAAAAAAAAAAAAAAAAAAAUQAAAAAAAAAAAAAAAAAAAEEAAAAAAAAAsQAAAAAAAADhAAAAAAACARUAAAAAAAEBSQAAAAAAAAAAAAAAAAAAAAAAAAAAAAAAAAAAAAAAAAAAAAAAAAAAAAAAAAAAAAAAAAAAAAAAAAAhAAAAAAAAAAAAAAAAAAADwPwAAAAAAADtAAAAAAAAAAAAAAAAAAAAcQAAAAAAAAAAA",
          "dtype": "f8"
         },
         "yaxis": "y"
        },
        {
         "hovertemplate": "scenario=without_agent<br>time_rounded=%{x}<br>tls_waiting_time_snapshot=%{y}<extra></extra>",
         "legendgroup": "without_agent",
         "line": {
          "color": "#EF553B",
          "dash": "solid"
         },
         "marker": {
          "symbol": "circle"
         },
         "mode": "lines+markers",
         "name": "without_agent",
         "orientation": "v",
         "showlegend": true,
         "type": "scatter",
         "x": {
          "bdata": "AQALABUAHwApADMAPQBHAFEAWwBlAG8AeQCDAI0AlwChAKsAtQC/AMkA0wDdAOcA8QD7AAUBDwEZASMBLQE3AUEBSwFVAV8BaQFzAX0BhwGRAZsBpQGvAbkBwwHNAdcB4QHrAfUB/wEJAhMCHQInAjECOwJFAk8CWQJjAm0CdwKBAosClQKfAqkCswK9AscC0QLbAuUC7wL5AgMDDQMXAyEDKwM1Az8DSQNTA10DZwNxA3sDhQOPA5kDowOtA7cDwQPLA9UD3wPpA/MD/QMHBBEEGwQlBC8EOQRDBE0EVwRhBGsEdQR/BIkEkwSdBKcEsQS7BMUEzwTZBOME7QT3BAEFCwUVBR8FKQUzBT0FRwVRBVsFZQVvBXkFgwWNBZcFoQWrBbUFvwXJBdMF3QXnBfEF+wUFBg8GGQYjBi0GNwZBBksGVQZfBmkGcwZ9BocGkQabBqUGrwa5BsMGzQbXBuEG6wb1Bv8GCQcTBx0HJwcxBzsHRQdPB1kHYwdtB3cHgQeLB5UHnwepB7MHvQfHB9EH2wflB+8H+QcDCA0IFwghCCsINQg/CEkIUwhdCGcIcQh7CIUIjwiZCKMIrQi3CMEIywjVCN8I6QjzCP0IBwkRCRsJJQkvCTkJQwlNCVcJYQlrCXUJfwmJCZMJnQmnCbEJuwnFCc8J2QnjCe0J9wkBCgsKFQofCikKMwo9CkcKUQpbCmUKbwp5CoMKjQqXCqEKqwq1Cr8KyQrTCt0K5wrxCvsKBQsPCxkLIwstCzcLQQtLC1ULXwtpC3MLfQuHC5ELmwulC68LuQvDC80L1wvhC+sL9Qv/CwkMEwwdDCcMMQw7DEUMTwxZDGMMbQx3DIEMiwyVDJ8MqQyzDL0MxwzRDNsM5QzvDPkMAw0NDRcNIQ0rDTUNPw1JDVMNXQ1nDXENew2FDY8NmQ2jDa0Ntw3BDcsN1Q3fDekN8w39DQcO",
          "dtype": "i2"
         },
         "xaxis": "x",
         "y": {
          "bdata": "AAAAAAAAAAAAAAAAAAAAAAAAAAAAAAAAAAAAAAAAAAAAAAAAAAAAAAAAAAAAAAAAAAAAAAAAAAAAAAAAAAAAAAAAAAAAAAAAAAAAAAAAAAAAAAAAAAAAAAAAAAAAAPA/AAAAAAAAEEAAAAAAAAAAAAAAAAAAAAAAAAAAAAAAAAAAAAAAAAAAAAAAAAAAABRAAAAAAAAAFEAAAAAAAAAAAAAAAAAAACBAAAAAAAAAAEAAAAAAAAAAAAAAAAAAAAAAAAAAAAAAIEAAAAAAAAAAAAAAAAAAAABAAAAAAAAAAAAAAAAAAAAAAAAAAAAAADdAAAAAAAAAFEAAAAAAAAAcQAAAAAAAAAAAAAAAAAAAAAAAAAAAAAAAAAAAAAAAAAAAAAAAAAAAAAAAAAAAAAAmQAAAAAAAAAAAAAAAAAAAAAAAAAAAAAAAAAAAAAAAAPA/AAAAAAAAAAAAAAAAAAAAAAAAAAAAAAAAAAAAAAAAAAAAAAAAAAAAAAAAAAAAAAAAAAAAAAAAAAAAAAAAAAAAAAAAAAAAAAAAAAAAAAAA8D8AAAAAAADwPwAAAAAAAAAAAAAAAAAAAAAAAAAAAAAAAAAAAAAAACJAAAAAAAAAAAAAAAAAAAAcQAAAAAAAABxAAAAAAAAAAEAAAAAAAAAIQAAAAAAAAAAAAAAAAAAAAAAAAAAAAAAAAAAAAAAAAAAAAAAAAAAAAAAAAAAAAAAAQAAAAAAAABhAAAAAAAAAAEAAAAAAAAAQQAAAAAAAAAAAAAAAAAAAGEAAAAAAAAAAAAAAAAAAAAAAAAAAAAAAAAAAAAAAAAAAAAAAAAAAABxAAAAAAAAAAAAAAAAAAAAAAAAAAAAAAAAAAAAAAAAAAAAAAAAAAADwPwAAAAAAACRAAAAAAAAAAAAAAAAAAAAAAAAAAAAAAABAAAAAAAAAIEAAAAAAAAAAAAAAAAAAAABAAAAAAAAAEEAAAAAAAAAAAAAAAAAAAAAAAAAAAAAACEAAAAAAAAAAAAAAAAAAAAAAAAAAAAAAEEAAAAAAAAAYQAAAAAAAAAAAAAAAAAAAAAAAAAAAAAAmQAAAAAAAABRAAAAAAAAAHEAAAAAAAAAUQAAAAAAAAAAAAAAAAAAACEAAAAAAAAAYQAAAAAAAAAAAAAAAAAAAAAAAAAAAAAAAAAAAAAAAAAAAAAAAAAAA8D8AAAAAAADwPwAAAAAAAPA/AAAAAAAAMEAAAAAAAAAAAAAAAAAAAABAAAAAAAAAAAAAAAAAAAAUQAAAAAAAAAAAAAAAAAAAAAAAAAAAAAAqQAAAAAAAAAAAAAAAAAAA8D8AAAAAAAAAAAAAAAAAAAAAAAAAAAAAAAAAAAAAAAAAAAAAAAAAAAAAAAAAAAAAAAAAAAAAAAAqQAAAAAAAAAAAAAAAAAAAIEAAAAAAAAAAAAAAAAAAACJAAAAAAAAAAAAAAAAAAAAAAAAAAAAAAAAAAAAAAAAAGEAAAAAAAAAAAAAAAAAAAAAAAAAAAAAAAAAAAAAAAAAAAAAAAAAAAAhAAAAAAAAAAAAAAAAAAAAAAAAAAAAAAAAAAAAAAAAAAAAAAAAAAAAAAAAAAAAAAABAAAAAAAAAAAAAAAAAAAAAAAAAAAAAAAAAAAAAAAAAAAAAAAAAAAAAAAAAAAAAAAhAAAAAAAAAIkAAAAAAAAAUQAAAAAAAAAAAAAAAAAAACEAAAAAAAAAAAAAAAAAAAPA/AAAAAAAAAAAAAAAAAAAAAAAAAAAAAAAAAAAAAAAAAAAAAAAAAAAAAAAAAAAAAAAAAAAAAAAAAAAAAAAAAAAcQAAAAAAAAAAAAAAAAAAAAAAAAAAAAAAyQAAAAAAAACBAAAAAAAAAJkAAAAAAAAA+QAAAAAAAABBAAAAAAAAACEAAAAAAAAAAAAAAAAAAAAAAAAAAAAAACEAAAAAAAAAAAAAAAAAAABxAAAAAAAAAAAAAAAAAAAAAAAAAAAAAAAAAAAAAAAAAAAAAAAAAAAAAAAAAAAAAAPA/AAAAAAAAEEAAAAAAAAAkQAAAAAAAAEhAAAAAAACAS0AAAAAAAABbQAAAAAAAwGJAAAAAAABgaUAAAAAAALBxQAAAAAAAAHdAAAAAAAAAfUAAAAAAAFiAQAAAAAAA2IJAAAAAAABYhUAAAAAAANiHQAAAAAAAWIpAAAAAAADYjEAAAAAAAFiPQAAAAAAA7JBAAAAAAAAskkAAAAAAAHiTQAAAAAAA5JRAAAAAAACYlkAAAAAAAFCYQAAAAAAAIJlAAAAAAACwmkAAAAAAAOibQAAAAAAAUJ1AAAAAAAC4nkAAAAAAABigQAAAAAAAxKBAAAAAAAB4oUAAAAAAAIB3QAAAAAAAAElAAAAAAADAWkAAAAAAACBmQAAAAAAA4G5AAAAAAADQc0AAAAAAADB4QAAAAAAAkHxAAAAAAAB4gEAAAAAAAKiCQAAAAAAA2IRAAAAAAAAIh0AAAAAAADiJQAAAAAAAaItAAAAAAACYjUAAAAAAAMiPQAAAAAAA/JBAAAAAAAAUkkAAAAAAACyTQAAAAAAARJRAAAAAAAB8lUAAAAAAAHSWQAAAAAAAjJdAAAAAAACkmEAAAAAAANiZQAAAAAAA1JpAAAAAAADsm0AAAAAAAASdQAAAAAAAHJ5AAAAAAAA0n0AAAAAAAJibQAAAAAAAACBAAAAAAACAS0AAAAAAAEBRQAAAAAAAwGVAAAAAAACwc0AAAAAAAGBtQAAAAAAA0HRAAAAAAABAfEAAAAAAANiBQAAAAAAAmIVAAAAAAABoiUAAAAAAAHiNQAAAAAAAxJBAAAAAAADMkkAAAAAAANSUQAAAAAAA6JZAAAAAAADkmEAAAAAAAOyaQAAAAAAA9JxAAAAAAAD8nkAAAAAAAIKgQAAAAAAAhqFAAAAAAACaokAAAAAAAJajQAAAAAAArqRAAAAAAAA8pEAAAAAAAHieQAAAAAAARqBAAAAAAABeoUAAAAAAAHaiQAAAAAAAjqNAAAAAAABAWkAAAAAAAIBjQAAAAAAA4G1AAAAAAACQd0AAAAAAAHiAQAAAAAAAKIVAAAAAAAAQikAAAAAAABCPQAAAAAAACJJAAAAAAACklEAAAAAAAEyXQAAAAAAA9JlAAAAAAACcnEAAAAAAAESfQAAAAAAA9qBAAAAAAABKokAAAAAAAJ6jQAAAAAAA8qRAAAAAAABGpkAAAAAAAJqnQAAAAAAA8qhAAAAAAABaqkAAAAAAADapQAAAAAAAfqpAAAAAAADSq0AAAAAAAAStQAAAAAAAWK5AAAAAAACsr0AAAAAAAICwQAAAAAAAKrFAAAAAAAB4qkAAAAAAAAiaQAAAAAAAADZAAAAAAAAAV0AAAAAAAMBXQAAAAAAAgGRAAAAAAADgY0AAAAAAAIBLQAAAAAAAYGBAAAAAAADgbEAAAAAAALB0QAAAAAAA8HpAAAAAAACYgEAAAAAAADB8QAAAAAAAwFdAAAAAAAAAYkAAAAAAAEBoQAAAAAAAABhAAAAAAAAAKEAAAAAAAIBLQAAAAAAAQF9AAAAAAACgaUAAAAAAAEBzQAAAAAAAwGNAAAAAAAAgZEAAAAAAAAAsQAAAAAAAAElAAAAAAAAANEAAAAAAAAAUQAAAAAAAAAAAAAAAAAAAIkAAAAAAAAA9QAAAAAAAAAAAAAAAAAAA8D8AAAAAAAAzQAAAAAAAADBAAAAAAAAAMkAAAAAAAIBDQAAAAAAAAAAAAAAAAAAAAEAAAAAAAAAcQAAAAAAAACBAAAAAAAAALkAAAAAAAAAAAAAAAAAAAAAAAAAAAAAANUAAAAAAAAAxQAAAAAAAADFA",
          "dtype": "f8"
         },
         "yaxis": "y"
        }
       ],
       "layout": {
        "legend": {
         "title": {
          "text": "Scenario"
         },
         "tracegroupgap": 0
        },
        "template": {
         "data": {
          "bar": [
           {
            "error_x": {
             "color": "#2a3f5f"
            },
            "error_y": {
             "color": "#2a3f5f"
            },
            "marker": {
             "line": {
              "color": "white",
              "width": 0.5
             },
             "pattern": {
              "fillmode": "overlay",
              "size": 10,
              "solidity": 0.2
             }
            },
            "type": "bar"
           }
          ],
          "barpolar": [
           {
            "marker": {
             "line": {
              "color": "white",
              "width": 0.5
             },
             "pattern": {
              "fillmode": "overlay",
              "size": 10,
              "solidity": 0.2
             }
            },
            "type": "barpolar"
           }
          ],
          "carpet": [
           {
            "aaxis": {
             "endlinecolor": "#2a3f5f",
             "gridcolor": "#C8D4E3",
             "linecolor": "#C8D4E3",
             "minorgridcolor": "#C8D4E3",
             "startlinecolor": "#2a3f5f"
            },
            "baxis": {
             "endlinecolor": "#2a3f5f",
             "gridcolor": "#C8D4E3",
             "linecolor": "#C8D4E3",
             "minorgridcolor": "#C8D4E3",
             "startlinecolor": "#2a3f5f"
            },
            "type": "carpet"
           }
          ],
          "choropleth": [
           {
            "colorbar": {
             "outlinewidth": 0,
             "ticks": ""
            },
            "type": "choropleth"
           }
          ],
          "contour": [
           {
            "colorbar": {
             "outlinewidth": 0,
             "ticks": ""
            },
            "colorscale": [
             [
              0,
              "#0d0887"
             ],
             [
              0.1111111111111111,
              "#46039f"
             ],
             [
              0.2222222222222222,
              "#7201a8"
             ],
             [
              0.3333333333333333,
              "#9c179e"
             ],
             [
              0.4444444444444444,
              "#bd3786"
             ],
             [
              0.5555555555555556,
              "#d8576b"
             ],
             [
              0.6666666666666666,
              "#ed7953"
             ],
             [
              0.7777777777777778,
              "#fb9f3a"
             ],
             [
              0.8888888888888888,
              "#fdca26"
             ],
             [
              1,
              "#f0f921"
             ]
            ],
            "type": "contour"
           }
          ],
          "contourcarpet": [
           {
            "colorbar": {
             "outlinewidth": 0,
             "ticks": ""
            },
            "type": "contourcarpet"
           }
          ],
          "heatmap": [
           {
            "colorbar": {
             "outlinewidth": 0,
             "ticks": ""
            },
            "colorscale": [
             [
              0,
              "#0d0887"
             ],
             [
              0.1111111111111111,
              "#46039f"
             ],
             [
              0.2222222222222222,
              "#7201a8"
             ],
             [
              0.3333333333333333,
              "#9c179e"
             ],
             [
              0.4444444444444444,
              "#bd3786"
             ],
             [
              0.5555555555555556,
              "#d8576b"
             ],
             [
              0.6666666666666666,
              "#ed7953"
             ],
             [
              0.7777777777777778,
              "#fb9f3a"
             ],
             [
              0.8888888888888888,
              "#fdca26"
             ],
             [
              1,
              "#f0f921"
             ]
            ],
            "type": "heatmap"
           }
          ],
          "histogram": [
           {
            "marker": {
             "pattern": {
              "fillmode": "overlay",
              "size": 10,
              "solidity": 0.2
             }
            },
            "type": "histogram"
           }
          ],
          "histogram2d": [
           {
            "colorbar": {
             "outlinewidth": 0,
             "ticks": ""
            },
            "colorscale": [
             [
              0,
              "#0d0887"
             ],
             [
              0.1111111111111111,
              "#46039f"
             ],
             [
              0.2222222222222222,
              "#7201a8"
             ],
             [
              0.3333333333333333,
              "#9c179e"
             ],
             [
              0.4444444444444444,
              "#bd3786"
             ],
             [
              0.5555555555555556,
              "#d8576b"
             ],
             [
              0.6666666666666666,
              "#ed7953"
             ],
             [
              0.7777777777777778,
              "#fb9f3a"
             ],
             [
              0.8888888888888888,
              "#fdca26"
             ],
             [
              1,
              "#f0f921"
             ]
            ],
            "type": "histogram2d"
           }
          ],
          "histogram2dcontour": [
           {
            "colorbar": {
             "outlinewidth": 0,
             "ticks": ""
            },
            "colorscale": [
             [
              0,
              "#0d0887"
             ],
             [
              0.1111111111111111,
              "#46039f"
             ],
             [
              0.2222222222222222,
              "#7201a8"
             ],
             [
              0.3333333333333333,
              "#9c179e"
             ],
             [
              0.4444444444444444,
              "#bd3786"
             ],
             [
              0.5555555555555556,
              "#d8576b"
             ],
             [
              0.6666666666666666,
              "#ed7953"
             ],
             [
              0.7777777777777778,
              "#fb9f3a"
             ],
             [
              0.8888888888888888,
              "#fdca26"
             ],
             [
              1,
              "#f0f921"
             ]
            ],
            "type": "histogram2dcontour"
           }
          ],
          "mesh3d": [
           {
            "colorbar": {
             "outlinewidth": 0,
             "ticks": ""
            },
            "type": "mesh3d"
           }
          ],
          "parcoords": [
           {
            "line": {
             "colorbar": {
              "outlinewidth": 0,
              "ticks": ""
             }
            },
            "type": "parcoords"
           }
          ],
          "pie": [
           {
            "automargin": true,
            "type": "pie"
           }
          ],
          "scatter": [
           {
            "fillpattern": {
             "fillmode": "overlay",
             "size": 10,
             "solidity": 0.2
            },
            "type": "scatter"
           }
          ],
          "scatter3d": [
           {
            "line": {
             "colorbar": {
              "outlinewidth": 0,
              "ticks": ""
             }
            },
            "marker": {
             "colorbar": {
              "outlinewidth": 0,
              "ticks": ""
             }
            },
            "type": "scatter3d"
           }
          ],
          "scattercarpet": [
           {
            "marker": {
             "colorbar": {
              "outlinewidth": 0,
              "ticks": ""
             }
            },
            "type": "scattercarpet"
           }
          ],
          "scattergeo": [
           {
            "marker": {
             "colorbar": {
              "outlinewidth": 0,
              "ticks": ""
             }
            },
            "type": "scattergeo"
           }
          ],
          "scattergl": [
           {
            "marker": {
             "colorbar": {
              "outlinewidth": 0,
              "ticks": ""
             }
            },
            "type": "scattergl"
           }
          ],
          "scattermap": [
           {
            "marker": {
             "colorbar": {
              "outlinewidth": 0,
              "ticks": ""
             }
            },
            "type": "scattermap"
           }
          ],
          "scattermapbox": [
           {
            "marker": {
             "colorbar": {
              "outlinewidth": 0,
              "ticks": ""
             }
            },
            "type": "scattermapbox"
           }
          ],
          "scatterpolar": [
           {
            "marker": {
             "colorbar": {
              "outlinewidth": 0,
              "ticks": ""
             }
            },
            "type": "scatterpolar"
           }
          ],
          "scatterpolargl": [
           {
            "marker": {
             "colorbar": {
              "outlinewidth": 0,
              "ticks": ""
             }
            },
            "type": "scatterpolargl"
           }
          ],
          "scatterternary": [
           {
            "marker": {
             "colorbar": {
              "outlinewidth": 0,
              "ticks": ""
             }
            },
            "type": "scatterternary"
           }
          ],
          "surface": [
           {
            "colorbar": {
             "outlinewidth": 0,
             "ticks": ""
            },
            "colorscale": [
             [
              0,
              "#0d0887"
             ],
             [
              0.1111111111111111,
              "#46039f"
             ],
             [
              0.2222222222222222,
              "#7201a8"
             ],
             [
              0.3333333333333333,
              "#9c179e"
             ],
             [
              0.4444444444444444,
              "#bd3786"
             ],
             [
              0.5555555555555556,
              "#d8576b"
             ],
             [
              0.6666666666666666,
              "#ed7953"
             ],
             [
              0.7777777777777778,
              "#fb9f3a"
             ],
             [
              0.8888888888888888,
              "#fdca26"
             ],
             [
              1,
              "#f0f921"
             ]
            ],
            "type": "surface"
           }
          ],
          "table": [
           {
            "cells": {
             "fill": {
              "color": "#EBF0F8"
             },
             "line": {
              "color": "white"
             }
            },
            "header": {
             "fill": {
              "color": "#C8D4E3"
             },
             "line": {
              "color": "white"
             }
            },
            "type": "table"
           }
          ]
         },
         "layout": {
          "annotationdefaults": {
           "arrowcolor": "#2a3f5f",
           "arrowhead": 0,
           "arrowwidth": 1
          },
          "autotypenumbers": "strict",
          "coloraxis": {
           "colorbar": {
            "outlinewidth": 0,
            "ticks": ""
           }
          },
          "colorscale": {
           "diverging": [
            [
             0,
             "#8e0152"
            ],
            [
             0.1,
             "#c51b7d"
            ],
            [
             0.2,
             "#de77ae"
            ],
            [
             0.3,
             "#f1b6da"
            ],
            [
             0.4,
             "#fde0ef"
            ],
            [
             0.5,
             "#f7f7f7"
            ],
            [
             0.6,
             "#e6f5d0"
            ],
            [
             0.7,
             "#b8e186"
            ],
            [
             0.8,
             "#7fbc41"
            ],
            [
             0.9,
             "#4d9221"
            ],
            [
             1,
             "#276419"
            ]
           ],
           "sequential": [
            [
             0,
             "#0d0887"
            ],
            [
             0.1111111111111111,
             "#46039f"
            ],
            [
             0.2222222222222222,
             "#7201a8"
            ],
            [
             0.3333333333333333,
             "#9c179e"
            ],
            [
             0.4444444444444444,
             "#bd3786"
            ],
            [
             0.5555555555555556,
             "#d8576b"
            ],
            [
             0.6666666666666666,
             "#ed7953"
            ],
            [
             0.7777777777777778,
             "#fb9f3a"
            ],
            [
             0.8888888888888888,
             "#fdca26"
            ],
            [
             1,
             "#f0f921"
            ]
           ],
           "sequentialminus": [
            [
             0,
             "#0d0887"
            ],
            [
             0.1111111111111111,
             "#46039f"
            ],
            [
             0.2222222222222222,
             "#7201a8"
            ],
            [
             0.3333333333333333,
             "#9c179e"
            ],
            [
             0.4444444444444444,
             "#bd3786"
            ],
            [
             0.5555555555555556,
             "#d8576b"
            ],
            [
             0.6666666666666666,
             "#ed7953"
            ],
            [
             0.7777777777777778,
             "#fb9f3a"
            ],
            [
             0.8888888888888888,
             "#fdca26"
            ],
            [
             1,
             "#f0f921"
            ]
           ]
          },
          "colorway": [
           "#636efa",
           "#EF553B",
           "#00cc96",
           "#ab63fa",
           "#FFA15A",
           "#19d3f3",
           "#FF6692",
           "#B6E880",
           "#FF97FF",
           "#FECB52"
          ],
          "font": {
           "color": "#2a3f5f"
          },
          "geo": {
           "bgcolor": "white",
           "lakecolor": "white",
           "landcolor": "white",
           "showlakes": true,
           "showland": true,
           "subunitcolor": "#C8D4E3"
          },
          "hoverlabel": {
           "align": "left"
          },
          "hovermode": "closest",
          "mapbox": {
           "style": "light"
          },
          "paper_bgcolor": "white",
          "plot_bgcolor": "white",
          "polar": {
           "angularaxis": {
            "gridcolor": "#EBF0F8",
            "linecolor": "#EBF0F8",
            "ticks": ""
           },
           "bgcolor": "white",
           "radialaxis": {
            "gridcolor": "#EBF0F8",
            "linecolor": "#EBF0F8",
            "ticks": ""
           }
          },
          "scene": {
           "xaxis": {
            "backgroundcolor": "white",
            "gridcolor": "#DFE8F3",
            "gridwidth": 2,
            "linecolor": "#EBF0F8",
            "showbackground": true,
            "ticks": "",
            "zerolinecolor": "#EBF0F8"
           },
           "yaxis": {
            "backgroundcolor": "white",
            "gridcolor": "#DFE8F3",
            "gridwidth": 2,
            "linecolor": "#EBF0F8",
            "showbackground": true,
            "ticks": "",
            "zerolinecolor": "#EBF0F8"
           },
           "zaxis": {
            "backgroundcolor": "white",
            "gridcolor": "#DFE8F3",
            "gridwidth": 2,
            "linecolor": "#EBF0F8",
            "showbackground": true,
            "ticks": "",
            "zerolinecolor": "#EBF0F8"
           }
          },
          "shapedefaults": {
           "line": {
            "color": "#2a3f5f"
           }
          },
          "ternary": {
           "aaxis": {
            "gridcolor": "#DFE8F3",
            "linecolor": "#A2B1C6",
            "ticks": ""
           },
           "baxis": {
            "gridcolor": "#DFE8F3",
            "linecolor": "#A2B1C6",
            "ticks": ""
           },
           "bgcolor": "white",
           "caxis": {
            "gridcolor": "#DFE8F3",
            "linecolor": "#A2B1C6",
            "ticks": ""
           }
          },
          "title": {
           "x": 0.05
          },
          "xaxis": {
           "automargin": true,
           "gridcolor": "#EBF0F8",
           "linecolor": "#EBF0F8",
           "ticks": "",
           "title": {
            "standoff": 15
           },
           "zerolinecolor": "#EBF0F8",
           "zerolinewidth": 2
          },
          "yaxis": {
           "automargin": true,
           "gridcolor": "#EBF0F8",
           "linecolor": "#EBF0F8",
           "ticks": "",
           "title": {
            "standoff": 15
           },
           "zerolinecolor": "#EBF0F8",
           "zerolinewidth": 2
          }
         }
        },
        "title": {
         "text": "TLS 317267021 — Waiting time snapshot"
        },
        "xaxis": {
         "anchor": "y",
         "domain": [
          0,
          1
         ],
         "title": {
          "text": "time (s)"
         }
        },
        "yaxis": {
         "anchor": "x",
         "domain": [
          0,
          1
         ],
         "title": {
          "text": "tls_waiting_time_snapshot"
         }
        }
       }
      }
     },
     "metadata": {},
     "output_type": "display_data"
    },
    {
     "data": {
      "application/vnd.plotly.v1+json": {
       "config": {
        "plotlyServerURL": "https://plot.ly"
       },
       "data": [
        {
         "hovertemplate": "scenario=with_agent<br>time_rounded=%{x}<br>tls_mean_speed=%{y}<extra></extra>",
         "legendgroup": "with_agent",
         "line": {
          "color": "#636efa",
          "dash": "solid"
         },
         "marker": {
          "symbol": "circle"
         },
         "mode": "lines+markers",
         "name": "with_agent",
         "orientation": "v",
         "showlegend": true,
         "type": "scatter",
         "x": {
          "bdata": "AQALABUAHwApADMAPQBHAFEAWwBlAG8AeQCDAI0AlwChAKsAtQC/AMkA0wDdAOcA8QD7AAUBDwEZASMBLQE3AUEBSwFVAV8BaQFzAX0BhwGRAZsBpQGvAbkBwwHNAdcB4QHrAfUB/wEJAhMCHQInAjECOwJFAk8CWQJjAm0CdwKBAosClQKfAqkCswK9AscC0QLbAuUC7wL5AgMDDQMXAyEDKwM1Az8DSQNTA10DZwNxA3sDhQOPA5kDowOtA7cDwQPLA9UD3wPpA/MD/QMHBBEEGwQlBC8EOQRDBE0EVwRhBGsEdQR/BIkEkwSdBKcEsQS7BMUEzwTZBOME7QT3BAEFCwUVBR8FKQUzBT0FRwVRBVsFZQVvBXkFgwWNBZcFoQWrBbUFvwXJBdMF3QXnBfEF+wUFBg8GGQYjBi0GNwZBBksGVQZfBmkGcwZ9BocGkQabBqUGrwa5BsMGzQbXBuEG6wb1Bv8GCQcTBx0HJwcxBzsHRQdPB1kHYwdtB3cHgQeLB5UHnwepB7MHvQfHB9EH2wflB+8H+QcDCA0IFwghCCsINQg/CEkIUwhdCGcIcQh7CIUIjwiZCKMIrQi3CMEIywjVCN8I6QjzCP0IBwkRCRsJJQkvCTkJQwlNCVcJYQlrCXUJfwmJCZMJnQmnCbEJuwnFCc8J2QnjCe0J9wkBCgsKFQofCikKMwo9CkcKUQpbCmUKbwp5CoMKjQqXCqEKqwq1Cr8KyQrTCt0K5wrxCvsKBQsPCxkLIwstCzcLQQtLC1ULXwtpC3MLfQuHC5ELmwulC68LuQvDC80L1wvhC+sL9Qv/CwkMEwwdDCcMMQw7DEUMTwxZDGMMbQx3DIEMiwyVDJ8MqQyzDL0MxwzRDNsM5QzvDPkMAw0NDRcNIQ0rDTUNPw1JDVMNXQ1nDXENew2FDY8NmQ2jDa0Ntw3BDcsN1Q3fDekN8w39DQcO",
          "dtype": "i2"
         },
         "xaxis": "x",
         "y": {
          "bdata": "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",
          "dtype": "f8"
         },
         "yaxis": "y"
        },
        {
         "hovertemplate": "scenario=without_agent<br>time_rounded=%{x}<br>tls_mean_speed=%{y}<extra></extra>",
         "legendgroup": "without_agent",
         "line": {
          "color": "#EF553B",
          "dash": "solid"
         },
         "marker": {
          "symbol": "circle"
         },
         "mode": "lines+markers",
         "name": "without_agent",
         "orientation": "v",
         "showlegend": true,
         "type": "scatter",
         "x": {
          "bdata": "AQALABUAHwApADMAPQBHAFEAWwBlAG8AeQCDAI0AlwChAKsAtQC/AMkA0wDdAOcA8QD7AAUBDwEZASMBLQE3AUEBSwFVAV8BaQFzAX0BhwGRAZsBpQGvAbkBwwHNAdcB4QHrAfUB/wEJAhMCHQInAjECOwJFAk8CWQJjAm0CdwKBAosClQKfAqkCswK9AscC0QLbAuUC7wL5AgMDDQMXAyEDKwM1Az8DSQNTA10DZwNxA3sDhQOPA5kDowOtA7cDwQPLA9UD3wPpA/MD/QMHBBEEGwQlBC8EOQRDBE0EVwRhBGsEdQR/BIkEkwSdBKcEsQS7BMUEzwTZBOME7QT3BAEFCwUVBR8FKQUzBT0FRwVRBVsFZQVvBXkFgwWNBZcFoQWrBbUFvwXJBdMF3QXnBfEF+wUFBg8GGQYjBi0GNwZBBksGVQZfBmkGcwZ9BocGkQabBqUGrwa5BsMGzQbXBuEG6wb1Bv8GCQcTBx0HJwcxBzsHRQdPB1kHYwdtB3cHgQeLB5UHnwepB7MHvQfHB9EH2wflB+8H+QcDCA0IFwghCCsINQg/CEkIUwhdCGcIcQh7CIUIjwiZCKMIrQi3CMEIywjVCN8I6QjzCP0IBwkRCRsJJQkvCTkJQwlNCVcJYQlrCXUJfwmJCZMJnQmnCbEJuwnFCc8J2QnjCe0J9wkBCgsKFQofCikKMwo9CkcKUQpbCmUKbwp5CoMKjQqXCqEKqwq1Cr8KyQrTCt0K5wrxCvsKBQsPCxkLIwstCzcLQQtLC1ULXwtpC3MLfQuHC5ELmwulC68LuQvDC80L1wvhC+sL9Qv/CwkMEwwdDCcMMQw7DEUMTwxZDGMMbQx3DIEMiwyVDJ8MqQyzDL0MxwzRDNsM5QzvDPkMAw0NDRcNIQ0rDTUNPw1JDVMNXQ1nDXENew2FDY8NmQ2jDa0Ntw3BDcsN1Q3fDekN8w39DQcO",
          "dtype": "i2"
         },
         "xaxis": "x",
         "y": {
          "bdata": "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",
          "dtype": "f8"
         },
         "yaxis": "y"
        }
       ],
       "layout": {
        "legend": {
         "title": {
          "text": "Scenario"
         },
         "tracegroupgap": 0
        },
        "template": {
         "data": {
          "bar": [
           {
            "error_x": {
             "color": "#2a3f5f"
            },
            "error_y": {
             "color": "#2a3f5f"
            },
            "marker": {
             "line": {
              "color": "white",
              "width": 0.5
             },
             "pattern": {
              "fillmode": "overlay",
              "size": 10,
              "solidity": 0.2
             }
            },
            "type": "bar"
           }
          ],
          "barpolar": [
           {
            "marker": {
             "line": {
              "color": "white",
              "width": 0.5
             },
             "pattern": {
              "fillmode": "overlay",
              "size": 10,
              "solidity": 0.2
             }
            },
            "type": "barpolar"
           }
          ],
          "carpet": [
           {
            "aaxis": {
             "endlinecolor": "#2a3f5f",
             "gridcolor": "#C8D4E3",
             "linecolor": "#C8D4E3",
             "minorgridcolor": "#C8D4E3",
             "startlinecolor": "#2a3f5f"
            },
            "baxis": {
             "endlinecolor": "#2a3f5f",
             "gridcolor": "#C8D4E3",
             "linecolor": "#C8D4E3",
             "minorgridcolor": "#C8D4E3",
             "startlinecolor": "#2a3f5f"
            },
            "type": "carpet"
           }
          ],
          "choropleth": [
           {
            "colorbar": {
             "outlinewidth": 0,
             "ticks": ""
            },
            "type": "choropleth"
           }
          ],
          "contour": [
           {
            "colorbar": {
             "outlinewidth": 0,
             "ticks": ""
            },
            "colorscale": [
             [
              0,
              "#0d0887"
             ],
             [
              0.1111111111111111,
              "#46039f"
             ],
             [
              0.2222222222222222,
              "#7201a8"
             ],
             [
              0.3333333333333333,
              "#9c179e"
             ],
             [
              0.4444444444444444,
              "#bd3786"
             ],
             [
              0.5555555555555556,
              "#d8576b"
             ],
             [
              0.6666666666666666,
              "#ed7953"
             ],
             [
              0.7777777777777778,
              "#fb9f3a"
             ],
             [
              0.8888888888888888,
              "#fdca26"
             ],
             [
              1,
              "#f0f921"
             ]
            ],
            "type": "contour"
           }
          ],
          "contourcarpet": [
           {
            "colorbar": {
             "outlinewidth": 0,
             "ticks": ""
            },
            "type": "contourcarpet"
           }
          ],
          "heatmap": [
           {
            "colorbar": {
             "outlinewidth": 0,
             "ticks": ""
            },
            "colorscale": [
             [
              0,
              "#0d0887"
             ],
             [
              0.1111111111111111,
              "#46039f"
             ],
             [
              0.2222222222222222,
              "#7201a8"
             ],
             [
              0.3333333333333333,
              "#9c179e"
             ],
             [
              0.4444444444444444,
              "#bd3786"
             ],
             [
              0.5555555555555556,
              "#d8576b"
             ],
             [
              0.6666666666666666,
              "#ed7953"
             ],
             [
              0.7777777777777778,
              "#fb9f3a"
             ],
             [
              0.8888888888888888,
              "#fdca26"
             ],
             [
              1,
              "#f0f921"
             ]
            ],
            "type": "heatmap"
           }
          ],
          "histogram": [
           {
            "marker": {
             "pattern": {
              "fillmode": "overlay",
              "size": 10,
              "solidity": 0.2
             }
            },
            "type": "histogram"
           }
          ],
          "histogram2d": [
           {
            "colorbar": {
             "outlinewidth": 0,
             "ticks": ""
            },
            "colorscale": [
             [
              0,
              "#0d0887"
             ],
             [
              0.1111111111111111,
              "#46039f"
             ],
             [
              0.2222222222222222,
              "#7201a8"
             ],
             [
              0.3333333333333333,
              "#9c179e"
             ],
             [
              0.4444444444444444,
              "#bd3786"
             ],
             [
              0.5555555555555556,
              "#d8576b"
             ],
             [
              0.6666666666666666,
              "#ed7953"
             ],
             [
              0.7777777777777778,
              "#fb9f3a"
             ],
             [
              0.8888888888888888,
              "#fdca26"
             ],
             [
              1,
              "#f0f921"
             ]
            ],
            "type": "histogram2d"
           }
          ],
          "histogram2dcontour": [
           {
            "colorbar": {
             "outlinewidth": 0,
             "ticks": ""
            },
            "colorscale": [
             [
              0,
              "#0d0887"
             ],
             [
              0.1111111111111111,
              "#46039f"
             ],
             [
              0.2222222222222222,
              "#7201a8"
             ],
             [
              0.3333333333333333,
              "#9c179e"
             ],
             [
              0.4444444444444444,
              "#bd3786"
             ],
             [
              0.5555555555555556,
              "#d8576b"
             ],
             [
              0.6666666666666666,
              "#ed7953"
             ],
             [
              0.7777777777777778,
              "#fb9f3a"
             ],
             [
              0.8888888888888888,
              "#fdca26"
             ],
             [
              1,
              "#f0f921"
             ]
            ],
            "type": "histogram2dcontour"
           }
          ],
          "mesh3d": [
           {
            "colorbar": {
             "outlinewidth": 0,
             "ticks": ""
            },
            "type": "mesh3d"
           }
          ],
          "parcoords": [
           {
            "line": {
             "colorbar": {
              "outlinewidth": 0,
              "ticks": ""
             }
            },
            "type": "parcoords"
           }
          ],
          "pie": [
           {
            "automargin": true,
            "type": "pie"
           }
          ],
          "scatter": [
           {
            "fillpattern": {
             "fillmode": "overlay",
             "size": 10,
             "solidity": 0.2
            },
            "type": "scatter"
           }
          ],
          "scatter3d": [
           {
            "line": {
             "colorbar": {
              "outlinewidth": 0,
              "ticks": ""
             }
            },
            "marker": {
             "colorbar": {
              "outlinewidth": 0,
              "ticks": ""
             }
            },
            "type": "scatter3d"
           }
          ],
          "scattercarpet": [
           {
            "marker": {
             "colorbar": {
              "outlinewidth": 0,
              "ticks": ""
             }
            },
            "type": "scattercarpet"
           }
          ],
          "scattergeo": [
           {
            "marker": {
             "colorbar": {
              "outlinewidth": 0,
              "ticks": ""
             }
            },
            "type": "scattergeo"
           }
          ],
          "scattergl": [
           {
            "marker": {
             "colorbar": {
              "outlinewidth": 0,
              "ticks": ""
             }
            },
            "type": "scattergl"
           }
          ],
          "scattermap": [
           {
            "marker": {
             "colorbar": {
              "outlinewidth": 0,
              "ticks": ""
             }
            },
            "type": "scattermap"
           }
          ],
          "scattermapbox": [
           {
            "marker": {
             "colorbar": {
              "outlinewidth": 0,
              "ticks": ""
             }
            },
            "type": "scattermapbox"
           }
          ],
          "scatterpolar": [
           {
            "marker": {
             "colorbar": {
              "outlinewidth": 0,
              "ticks": ""
             }
            },
            "type": "scatterpolar"
           }
          ],
          "scatterpolargl": [
           {
            "marker": {
             "colorbar": {
              "outlinewidth": 0,
              "ticks": ""
             }
            },
            "type": "scatterpolargl"
           }
          ],
          "scatterternary": [
           {
            "marker": {
             "colorbar": {
              "outlinewidth": 0,
              "ticks": ""
             }
            },
            "type": "scatterternary"
           }
          ],
          "surface": [
           {
            "colorbar": {
             "outlinewidth": 0,
             "ticks": ""
            },
            "colorscale": [
             [
              0,
              "#0d0887"
             ],
             [
              0.1111111111111111,
              "#46039f"
             ],
             [
              0.2222222222222222,
              "#7201a8"
             ],
             [
              0.3333333333333333,
              "#9c179e"
             ],
             [
              0.4444444444444444,
              "#bd3786"
             ],
             [
              0.5555555555555556,
              "#d8576b"
             ],
             [
              0.6666666666666666,
              "#ed7953"
             ],
             [
              0.7777777777777778,
              "#fb9f3a"
             ],
             [
              0.8888888888888888,
              "#fdca26"
             ],
             [
              1,
              "#f0f921"
             ]
            ],
            "type": "surface"
           }
          ],
          "table": [
           {
            "cells": {
             "fill": {
              "color": "#EBF0F8"
             },
             "line": {
              "color": "white"
             }
            },
            "header": {
             "fill": {
              "color": "#C8D4E3"
             },
             "line": {
              "color": "white"
             }
            },
            "type": "table"
           }
          ]
         },
         "layout": {
          "annotationdefaults": {
           "arrowcolor": "#2a3f5f",
           "arrowhead": 0,
           "arrowwidth": 1
          },
          "autotypenumbers": "strict",
          "coloraxis": {
           "colorbar": {
            "outlinewidth": 0,
            "ticks": ""
           }
          },
          "colorscale": {
           "diverging": [
            [
             0,
             "#8e0152"
            ],
            [
             0.1,
             "#c51b7d"
            ],
            [
             0.2,
             "#de77ae"
            ],
            [
             0.3,
             "#f1b6da"
            ],
            [
             0.4,
             "#fde0ef"
            ],
            [
             0.5,
             "#f7f7f7"
            ],
            [
             0.6,
             "#e6f5d0"
            ],
            [
             0.7,
             "#b8e186"
            ],
            [
             0.8,
             "#7fbc41"
            ],
            [
             0.9,
             "#4d9221"
            ],
            [
             1,
             "#276419"
            ]
           ],
           "sequential": [
            [
             0,
             "#0d0887"
            ],
            [
             0.1111111111111111,
             "#46039f"
            ],
            [
             0.2222222222222222,
             "#7201a8"
            ],
            [
             0.3333333333333333,
             "#9c179e"
            ],
            [
             0.4444444444444444,
             "#bd3786"
            ],
            [
             0.5555555555555556,
             "#d8576b"
            ],
            [
             0.6666666666666666,
             "#ed7953"
            ],
            [
             0.7777777777777778,
             "#fb9f3a"
            ],
            [
             0.8888888888888888,
             "#fdca26"
            ],
            [
             1,
             "#f0f921"
            ]
           ],
           "sequentialminus": [
            [
             0,
             "#0d0887"
            ],
            [
             0.1111111111111111,
             "#46039f"
            ],
            [
             0.2222222222222222,
             "#7201a8"
            ],
            [
             0.3333333333333333,
             "#9c179e"
            ],
            [
             0.4444444444444444,
             "#bd3786"
            ],
            [
             0.5555555555555556,
             "#d8576b"
            ],
            [
             0.6666666666666666,
             "#ed7953"
            ],
            [
             0.7777777777777778,
             "#fb9f3a"
            ],
            [
             0.8888888888888888,
             "#fdca26"
            ],
            [
             1,
             "#f0f921"
            ]
           ]
          },
          "colorway": [
           "#636efa",
           "#EF553B",
           "#00cc96",
           "#ab63fa",
           "#FFA15A",
           "#19d3f3",
           "#FF6692",
           "#B6E880",
           "#FF97FF",
           "#FECB52"
          ],
          "font": {
           "color": "#2a3f5f"
          },
          "geo": {
           "bgcolor": "white",
           "lakecolor": "white",
           "landcolor": "white",
           "showlakes": true,
           "showland": true,
           "subunitcolor": "#C8D4E3"
          },
          "hoverlabel": {
           "align": "left"
          },
          "hovermode": "closest",
          "mapbox": {
           "style": "light"
          },
          "paper_bgcolor": "white",
          "plot_bgcolor": "white",
          "polar": {
           "angularaxis": {
            "gridcolor": "#EBF0F8",
            "linecolor": "#EBF0F8",
            "ticks": ""
           },
           "bgcolor": "white",
           "radialaxis": {
            "gridcolor": "#EBF0F8",
            "linecolor": "#EBF0F8",
            "ticks": ""
           }
          },
          "scene": {
           "xaxis": {
            "backgroundcolor": "white",
            "gridcolor": "#DFE8F3",
            "gridwidth": 2,
            "linecolor": "#EBF0F8",
            "showbackground": true,
            "ticks": "",
            "zerolinecolor": "#EBF0F8"
           },
           "yaxis": {
            "backgroundcolor": "white",
            "gridcolor": "#DFE8F3",
            "gridwidth": 2,
            "linecolor": "#EBF0F8",
            "showbackground": true,
            "ticks": "",
            "zerolinecolor": "#EBF0F8"
           },
           "zaxis": {
            "backgroundcolor": "white",
            "gridcolor": "#DFE8F3",
            "gridwidth": 2,
            "linecolor": "#EBF0F8",
            "showbackground": true,
            "ticks": "",
            "zerolinecolor": "#EBF0F8"
           }
          },
          "shapedefaults": {
           "line": {
            "color": "#2a3f5f"
           }
          },
          "ternary": {
           "aaxis": {
            "gridcolor": "#DFE8F3",
            "linecolor": "#A2B1C6",
            "ticks": ""
           },
           "baxis": {
            "gridcolor": "#DFE8F3",
            "linecolor": "#A2B1C6",
            "ticks": ""
           },
           "bgcolor": "white",
           "caxis": {
            "gridcolor": "#DFE8F3",
            "linecolor": "#A2B1C6",
            "ticks": ""
           }
          },
          "title": {
           "x": 0.05
          },
          "xaxis": {
           "automargin": true,
           "gridcolor": "#EBF0F8",
           "linecolor": "#EBF0F8",
           "ticks": "",
           "title": {
            "standoff": 15
           },
           "zerolinecolor": "#EBF0F8",
           "zerolinewidth": 2
          },
          "yaxis": {
           "automargin": true,
           "gridcolor": "#EBF0F8",
           "linecolor": "#EBF0F8",
           "ticks": "",
           "title": {
            "standoff": 15
           },
           "zerolinecolor": "#EBF0F8",
           "zerolinewidth": 2
          }
         }
        },
        "title": {
         "text": "TLS 317267021 — Mean speed"
        },
        "xaxis": {
         "anchor": "y",
         "domain": [
          0,
          1
         ],
         "title": {
          "text": "time (s)"
         }
        },
        "yaxis": {
         "anchor": "x",
         "domain": [
          0,
          1
         ],
         "title": {
          "text": "tls_mean_speed"
         }
        }
       }
      }
     },
     "metadata": {},
     "output_type": "display_data"
    }
   ],
   "source": [
    "tls_ids_sorted = sorted(tls_c[\"tls_id\"].unique().tolist())\n",
    "\n",
    "if HAS_WIDGETS and len(tls_ids_sorted) > 0:\n",
    "    dropdown = widgets.Dropdown(options=tls_ids_sorted, description=\"TLS ID:\")\n",
    "    out = widgets.Output()\n",
    "\n",
    "    def on_change(change):\n",
    "        if change[\"name\"] == \"value\":\n",
    "            with out:\n",
    "                out.clear_output(wait=True)\n",
    "                plot_tls_single(change[\"new\"], tls_c)\n",
    "\n",
    "    dropdown.observe(on_change, names=\"value\")\n",
    "    display(dropdown, out)\n",
    "    if tls_ids_sorted:\n",
    "        plot_tls_single(tls_ids_sorted[0], tls_c)\n",
    "else:\n",
    "    print(\"ipywidgets не установлен или нет TLS. Установите ipywidgets для интерактивности.\")"
   ]
  },
  {
   "cell_type": "markdown",
   "id": "aa1e409a",
   "metadata": {},
   "source": [
    "# Краткая текстовая сводка"
   ]
  },
  {
   "cell_type": "code",
   "execution_count": null,
   "id": "7025607e",
   "metadata": {},
   "outputs": [
    {
     "name": "stdout",
     "output_type": "stream",
     "text": [
      "Сводка по средним метрикам (без -> с агентом):\n",
      "mean_speed_network: 6.197 -> 7.140 (+15.2%) ↑ лучше\n",
      "total_queue_len: 134.150 -> 84.461 (-37.0%) ↑ лучше\n",
      "total_waiting_time_snapshot: 10422.803 -> 3765.669 (-63.9%) ↑ лучше\n"
     ]
    }
   ],
   "source": [
    "def summarize_changes(net_df):\n",
    "    lines = []\n",
    "    metrics = [\"mean_speed_network\", \"total_queue_len\", \"total_waiting_time_snapshot\"]\n",
    "    stats = (net_df.groupby(\"scenario\")[metrics].mean()).reset_index()\n",
    "    base = stats[stats[\"scenario\"] == \"without_agent\"].set_index(pd.Index([0]))\n",
    "    var  = stats[stats[\"scenario\"] == \"with_agent\"].set_index(pd.Index([0]))\n",
    "\n",
    "    def pct(base_val, var_val):\n",
    "        return (var_val - base_val) / base_val * 100.0 if base_val != 0 else np.nan\n",
    "\n",
    "    for m in metrics:\n",
    "        b = float(base[m].iloc[0])\n",
    "        v = float(var[m].iloc[0])\n",
    "        p = pct(b, v)\n",
    "        direction = \"↑ лучше\" if (m == \"mean_speed_network\" and p > 0) or (m != \"mean_speed_network\" and p < 0) else \"↓ хуже\"\n",
    "        lines.append(f\"{m}: {b:.3f} -> {v:.3f} ({p:+.1f}%) {direction}\")\n",
    "    return \"\\n\".join(lines)\n",
    "\n",
    "print(\"Сводка по средним метрикам (без -> с агентом):\")\n",
    "print(summarize_changes(net_c))"
   ]
  }
 ],
 "metadata": {
  "kernelspec": {
   "display_name": "sity-sim (3.13.2)",
   "language": "python",
   "name": "python3"
  },
  "language_info": {
   "codemirror_mode": {
    "name": "ipython",
    "version": 3
   },
   "file_extension": ".py",
   "mimetype": "text/x-python",
   "name": "python",
   "nbconvert_exporter": "python",
   "pygments_lexer": "ipython3",
   "version": "3.13.2"
  }
 },
 "nbformat": 4,
 "nbformat_minor": 5
}
